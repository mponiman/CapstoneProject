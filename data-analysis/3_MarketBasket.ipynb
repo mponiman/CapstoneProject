{
 "cells": [
  {
   "cell_type": "markdown",
   "metadata": {},
   "source": [
    "# Market Basket Analysis"
   ]
  },
  {
   "cell_type": "markdown",
   "metadata": {},
   "source": [
    "Since the data is so large and due to computational limit, we could not use MLxtend to do market basket analysis on the product level since there are a lot of products. But we can do MLxtend in department level or aisle level. There is another method to do market basket analysis on product level which is doing it manually (without MLxtend) as I have seen in https://pythondata.com/market-basket-analysis-with-python-and-pandas/. So in this notebook, I will use MLxtend to perform market basket analysis on aisles and I will perform market basket analysis on products without MLxtend. Then, a product can be recommended based on association rule."
   ]
  },
  {
   "cell_type": "code",
   "execution_count": 2,
   "metadata": {
    "vscode": {
     "languageId": "python"
    }
   },
   "outputs": [],
   "source": [
    "import numpy as np\n",
    "import pandas as pd\n",
    "import matplotlib.pyplot as plt\n",
    "import seaborn as sns\n",
    "from mlxtend.frequent_patterns import apriori, fpmax, fpgrowth, association_rules\n",
    "from mlxtend.preprocessing import TransactionEncoder"
   ]
  },
  {
   "cell_type": "code",
   "execution_count": 3,
   "metadata": {
    "vscode": {
     "languageId": "python"
    }
   },
   "outputs": [],
   "source": [
    "# read the data\n",
    "df = pd.read_csv('df.csv')"
   ]
  },
  {
   "cell_type": "code",
   "execution_count": 7,
   "metadata": {
    "vscode": {
     "languageId": "python"
    }
   },
   "outputs": [
    {
     "data": {
      "text/html": [
       "<div>\n",
       "<style scoped>\n",
       "    .dataframe tbody tr th:only-of-type {\n",
       "        vertical-align: middle;\n",
       "    }\n",
       "\n",
       "    .dataframe tbody tr th {\n",
       "        vertical-align: top;\n",
       "    }\n",
       "\n",
       "    .dataframe thead th {\n",
       "        text-align: right;\n",
       "    }\n",
       "</style>\n",
       "<table border=\"1\" class=\"dataframe\">\n",
       "  <thead>\n",
       "    <tr style=\"text-align: right;\">\n",
       "      <th></th>\n",
       "      <th>order_id</th>\n",
       "      <th>user_id</th>\n",
       "      <th>eval_set</th>\n",
       "      <th>order_number</th>\n",
       "      <th>order_dow</th>\n",
       "      <th>order_hour_of_day</th>\n",
       "      <th>days_since_prior_order</th>\n",
       "      <th>product_id</th>\n",
       "      <th>add_to_cart_order</th>\n",
       "      <th>reordered</th>\n",
       "      <th>product_name</th>\n",
       "      <th>aisle_id</th>\n",
       "      <th>department_id</th>\n",
       "      <th>aisle</th>\n",
       "      <th>department</th>\n",
       "    </tr>\n",
       "  </thead>\n",
       "  <tbody>\n",
       "    <tr>\n",
       "      <th>0</th>\n",
       "      <td>2539329</td>\n",
       "      <td>1</td>\n",
       "      <td>prior</td>\n",
       "      <td>1</td>\n",
       "      <td>2</td>\n",
       "      <td>8</td>\n",
       "      <td>NaN</td>\n",
       "      <td>196.0</td>\n",
       "      <td>1.0</td>\n",
       "      <td>0.0</td>\n",
       "      <td>Soda</td>\n",
       "      <td>77.0</td>\n",
       "      <td>7.0</td>\n",
       "      <td>soft drinks</td>\n",
       "      <td>beverages</td>\n",
       "    </tr>\n",
       "    <tr>\n",
       "      <th>1</th>\n",
       "      <td>2539329</td>\n",
       "      <td>1</td>\n",
       "      <td>prior</td>\n",
       "      <td>1</td>\n",
       "      <td>2</td>\n",
       "      <td>8</td>\n",
       "      <td>NaN</td>\n",
       "      <td>14084.0</td>\n",
       "      <td>2.0</td>\n",
       "      <td>0.0</td>\n",
       "      <td>Organic Unsweetened Vanilla Almond Milk</td>\n",
       "      <td>91.0</td>\n",
       "      <td>16.0</td>\n",
       "      <td>soy lactosefree</td>\n",
       "      <td>dairy eggs</td>\n",
       "    </tr>\n",
       "    <tr>\n",
       "      <th>2</th>\n",
       "      <td>2539329</td>\n",
       "      <td>1</td>\n",
       "      <td>prior</td>\n",
       "      <td>1</td>\n",
       "      <td>2</td>\n",
       "      <td>8</td>\n",
       "      <td>NaN</td>\n",
       "      <td>12427.0</td>\n",
       "      <td>3.0</td>\n",
       "      <td>0.0</td>\n",
       "      <td>Original Beef Jerky</td>\n",
       "      <td>23.0</td>\n",
       "      <td>19.0</td>\n",
       "      <td>popcorn jerky</td>\n",
       "      <td>snacks</td>\n",
       "    </tr>\n",
       "    <tr>\n",
       "      <th>3</th>\n",
       "      <td>2539329</td>\n",
       "      <td>1</td>\n",
       "      <td>prior</td>\n",
       "      <td>1</td>\n",
       "      <td>2</td>\n",
       "      <td>8</td>\n",
       "      <td>NaN</td>\n",
       "      <td>26088.0</td>\n",
       "      <td>4.0</td>\n",
       "      <td>0.0</td>\n",
       "      <td>Aged White Cheddar Popcorn</td>\n",
       "      <td>23.0</td>\n",
       "      <td>19.0</td>\n",
       "      <td>popcorn jerky</td>\n",
       "      <td>snacks</td>\n",
       "    </tr>\n",
       "    <tr>\n",
       "      <th>4</th>\n",
       "      <td>2539329</td>\n",
       "      <td>1</td>\n",
       "      <td>prior</td>\n",
       "      <td>1</td>\n",
       "      <td>2</td>\n",
       "      <td>8</td>\n",
       "      <td>NaN</td>\n",
       "      <td>26405.0</td>\n",
       "      <td>5.0</td>\n",
       "      <td>0.0</td>\n",
       "      <td>XL Pick-A-Size Paper Towel Rolls</td>\n",
       "      <td>54.0</td>\n",
       "      <td>17.0</td>\n",
       "      <td>paper goods</td>\n",
       "      <td>household</td>\n",
       "    </tr>\n",
       "  </tbody>\n",
       "</table>\n",
       "</div>"
      ],
      "text/plain": [
       "   order_id  user_id eval_set  order_number  order_dow  order_hour_of_day  \\\n",
       "0   2539329        1    prior             1          2                  8   \n",
       "1   2539329        1    prior             1          2                  8   \n",
       "2   2539329        1    prior             1          2                  8   \n",
       "3   2539329        1    prior             1          2                  8   \n",
       "4   2539329        1    prior             1          2                  8   \n",
       "\n",
       "   days_since_prior_order  product_id  add_to_cart_order  reordered  \\\n",
       "0                     NaN       196.0                1.0        0.0   \n",
       "1                     NaN     14084.0                2.0        0.0   \n",
       "2                     NaN     12427.0                3.0        0.0   \n",
       "3                     NaN     26088.0                4.0        0.0   \n",
       "4                     NaN     26405.0                5.0        0.0   \n",
       "\n",
       "                              product_name  aisle_id  department_id  \\\n",
       "0                                     Soda      77.0            7.0   \n",
       "1  Organic Unsweetened Vanilla Almond Milk      91.0           16.0   \n",
       "2                      Original Beef Jerky      23.0           19.0   \n",
       "3               Aged White Cheddar Popcorn      23.0           19.0   \n",
       "4         XL Pick-A-Size Paper Towel Rolls      54.0           17.0   \n",
       "\n",
       "             aisle  department  \n",
       "0      soft drinks   beverages  \n",
       "1  soy lactosefree  dairy eggs  \n",
       "2    popcorn jerky      snacks  \n",
       "3    popcorn jerky      snacks  \n",
       "4      paper goods   household  "
      ]
     },
     "execution_count": 7,
     "metadata": {},
     "output_type": "execute_result"
    }
   ],
   "source": [
    "df.head()"
   ]
  },
  {
   "cell_type": "markdown",
   "metadata": {},
   "source": [
    "## Apriori Method using MLxtend"
   ]
  },
  {
   "cell_type": "code",
   "execution_count": 4,
   "metadata": {
    "vscode": {
     "languageId": "python"
    }
   },
   "outputs": [],
   "source": [
    "# making all product into a list under the same order_id\n",
    "basket_series = df.groupby('order_id')['aisle'].apply(list)"
   ]
  },
  {
   "cell_type": "code",
   "execution_count": 9,
   "metadata": {
    "vscode": {
     "languageId": "python"
    }
   },
   "outputs": [
    {
     "data": {
      "text/plain": [
       "order_id\n",
       "1          [yogurt, other creams cheeses, fresh vegetable...\n",
       "2          [eggs, fresh vegetables, spices seasonings, oi...\n",
       "3          [yogurt, soy lactosefree, packaged vegetables ...\n",
       "4          [breakfast bakery, cold flu allergy, energy gr...\n",
       "5          [fresh fruits, salad dressing toppings, prepar...\n",
       "                                 ...                        \n",
       "3421079                                               [soap]\n",
       "3421080    [milk, ice cream ice, juice nectars, fresh veg...\n",
       "3421081    [chips pretzels, bread, condiments, packaged c...\n",
       "3421082    [packaged poultry, butter, fresh fruits, packa...\n",
       "3421083    [nuts seeds dried fruit, baby food formula, ba...\n",
       "Name: aisle, Length: 3346083, dtype: object"
      ]
     },
     "execution_count": 9,
     "metadata": {},
     "output_type": "execute_result"
    }
   ],
   "source": [
    "basket_series"
   ]
  },
  {
   "cell_type": "code",
   "execution_count": 6,
   "metadata": {
    "vscode": {
     "languageId": "python"
    }
   },
   "outputs": [],
   "source": [
    "# Fit the TransactionEncoder and transform the buckets\n",
    "te = TransactionEncoder()\n",
    "market = te.fit_transform(basket_series.values, sparse=True)\n",
    "market_df = pd.DataFrame.sparse.from_spmatrix(market, columns=te.columns_)"
   ]
  },
  {
   "cell_type": "code",
   "execution_count": 7,
   "metadata": {
    "vscode": {
     "languageId": "python"
    }
   },
   "outputs": [
    {
     "data": {
      "text/html": [
       "<div>\n",
       "<style scoped>\n",
       "    .dataframe tbody tr th:only-of-type {\n",
       "        vertical-align: middle;\n",
       "    }\n",
       "\n",
       "    .dataframe tbody tr th {\n",
       "        vertical-align: top;\n",
       "    }\n",
       "\n",
       "    .dataframe thead th {\n",
       "        text-align: right;\n",
       "    }\n",
       "</style>\n",
       "<table border=\"1\" class=\"dataframe\">\n",
       "  <thead>\n",
       "    <tr style=\"text-align: right;\">\n",
       "      <th></th>\n",
       "      <th>support</th>\n",
       "      <th>itemsets</th>\n",
       "      <th>length</th>\n",
       "    </tr>\n",
       "  </thead>\n",
       "  <tbody>\n",
       "    <tr>\n",
       "      <th>0</th>\n",
       "      <td>0.043115</td>\n",
       "      <td>(asian foods)</td>\n",
       "      <td>1</td>\n",
       "    </tr>\n",
       "    <tr>\n",
       "      <th>1</th>\n",
       "      <td>0.045884</td>\n",
       "      <td>(baby food formula)</td>\n",
       "      <td>1</td>\n",
       "    </tr>\n",
       "    <tr>\n",
       "      <th>2</th>\n",
       "      <td>0.076715</td>\n",
       "      <td>(baking ingredients)</td>\n",
       "      <td>1</td>\n",
       "    </tr>\n",
       "    <tr>\n",
       "      <th>3</th>\n",
       "      <td>0.163958</td>\n",
       "      <td>(bread)</td>\n",
       "      <td>1</td>\n",
       "    </tr>\n",
       "    <tr>\n",
       "      <th>4</th>\n",
       "      <td>0.068667</td>\n",
       "      <td>(breakfast bakery)</td>\n",
       "      <td>1</td>\n",
       "    </tr>\n",
       "    <tr>\n",
       "      <th>...</th>\n",
       "      <td>...</td>\n",
       "      <td>...</td>\n",
       "      <td>...</td>\n",
       "    </tr>\n",
       "    <tr>\n",
       "      <th>221</th>\n",
       "      <td>0.047285</td>\n",
       "      <td>(fresh vegetables, water seltzer sparkling wat...</td>\n",
       "      <td>3</td>\n",
       "    </tr>\n",
       "    <tr>\n",
       "      <th>222</th>\n",
       "      <td>0.087746</td>\n",
       "      <td>(fresh vegetables, yogurt, packaged vegetables...</td>\n",
       "      <td>3</td>\n",
       "    </tr>\n",
       "    <tr>\n",
       "      <th>223</th>\n",
       "      <td>0.043522</td>\n",
       "      <td>(milk, packaged cheese, packaged vegetables fr...</td>\n",
       "      <td>3</td>\n",
       "    </tr>\n",
       "    <tr>\n",
       "      <th>224</th>\n",
       "      <td>0.051020</td>\n",
       "      <td>(milk, yogurt, packaged vegetables fruits)</td>\n",
       "      <td>3</td>\n",
       "    </tr>\n",
       "    <tr>\n",
       "      <th>225</th>\n",
       "      <td>0.050928</td>\n",
       "      <td>(yogurt, packaged cheese, packaged vegetables ...</td>\n",
       "      <td>3</td>\n",
       "    </tr>\n",
       "  </tbody>\n",
       "</table>\n",
       "<p>226 rows × 3 columns</p>\n",
       "</div>"
      ],
      "text/plain": [
       "      support                                           itemsets  length\n",
       "0    0.043115                                      (asian foods)       1\n",
       "1    0.045884                                (baby food formula)       1\n",
       "2    0.076715                               (baking ingredients)       1\n",
       "3    0.163958                                            (bread)       1\n",
       "4    0.068667                                 (breakfast bakery)       1\n",
       "..        ...                                                ...     ...\n",
       "221  0.047285  (fresh vegetables, water seltzer sparkling wat...       3\n",
       "222  0.087746  (fresh vegetables, yogurt, packaged vegetables...       3\n",
       "223  0.043522  (milk, packaged cheese, packaged vegetables fr...       3\n",
       "224  0.051020         (milk, yogurt, packaged vegetables fruits)       3\n",
       "225  0.050928  (yogurt, packaged cheese, packaged vegetables ...       3\n",
       "\n",
       "[226 rows x 3 columns]"
      ]
     },
     "execution_count": 7,
     "metadata": {},
     "output_type": "execute_result"
    }
   ],
   "source": [
    "# using max_len = 3: what is the 3 related items\n",
    "x = apriori(market_df, min_support=0.04, use_colnames=True, max_len=3)\n",
    "x[\"length\"] = x.itemsets.apply(lambda x: len(x))\n",
    "x"
   ]
  },
  {
   "cell_type": "code",
   "execution_count": 9,
   "metadata": {
    "vscode": {
     "languageId": "python"
    }
   },
   "outputs": [],
   "source": [
    "rules_df = association_rules(x, metric=\"lift\", min_threshold=1).sort_values('lift', ascending=False)"
   ]
  },
  {
   "cell_type": "code",
   "execution_count": 11,
   "metadata": {
    "vscode": {
     "languageId": "python"
    }
   },
   "outputs": [
    {
     "data": {
      "text/html": [
       "<div>\n",
       "<style scoped>\n",
       "    .dataframe tbody tr th:only-of-type {\n",
       "        vertical-align: middle;\n",
       "    }\n",
       "\n",
       "    .dataframe tbody tr th {\n",
       "        vertical-align: top;\n",
       "    }\n",
       "\n",
       "    .dataframe thead th {\n",
       "        text-align: right;\n",
       "    }\n",
       "</style>\n",
       "<table border=\"1\" class=\"dataframe\">\n",
       "  <thead>\n",
       "    <tr style=\"text-align: right;\">\n",
       "      <th></th>\n",
       "      <th>antecedents</th>\n",
       "      <th>consequents</th>\n",
       "      <th>antecedent support</th>\n",
       "      <th>consequent support</th>\n",
       "      <th>support</th>\n",
       "      <th>confidence</th>\n",
       "      <th>lift</th>\n",
       "      <th>leverage</th>\n",
       "      <th>conviction</th>\n",
       "    </tr>\n",
       "  </thead>\n",
       "  <tbody>\n",
       "    <tr>\n",
       "      <th>491</th>\n",
       "      <td>(fresh herbs)</td>\n",
       "      <td>(fresh vegetables, packaged vegetables fruits)</td>\n",
       "      <td>0.093564</td>\n",
       "      <td>0.235156</td>\n",
       "      <td>0.047056</td>\n",
       "      <td>0.502929</td>\n",
       "      <td>2.138702</td>\n",
       "      <td>0.025054</td>\n",
       "      <td>1.538701</td>\n",
       "    </tr>\n",
       "    <tr>\n",
       "      <th>490</th>\n",
       "      <td>(fresh vegetables, packaged vegetables fruits)</td>\n",
       "      <td>(fresh herbs)</td>\n",
       "      <td>0.235156</td>\n",
       "      <td>0.093564</td>\n",
       "      <td>0.047056</td>\n",
       "      <td>0.200106</td>\n",
       "      <td>2.138702</td>\n",
       "      <td>0.025054</td>\n",
       "      <td>1.133195</td>\n",
       "    </tr>\n",
       "    <tr>\n",
       "      <th>341</th>\n",
       "      <td>(fresh herbs)</td>\n",
       "      <td>(fresh vegetables, fresh fruits)</td>\n",
       "      <td>0.093564</td>\n",
       "      <td>0.318137</td>\n",
       "      <td>0.061774</td>\n",
       "      <td>0.660230</td>\n",
       "      <td>2.075302</td>\n",
       "      <td>0.032008</td>\n",
       "      <td>2.006840</td>\n",
       "    </tr>\n",
       "    <tr>\n",
       "      <th>340</th>\n",
       "      <td>(fresh vegetables, fresh fruits)</td>\n",
       "      <td>(fresh herbs)</td>\n",
       "      <td>0.318137</td>\n",
       "      <td>0.093564</td>\n",
       "      <td>0.061774</td>\n",
       "      <td>0.194174</td>\n",
       "      <td>2.075302</td>\n",
       "      <td>0.032008</td>\n",
       "      <td>1.124853</td>\n",
       "    </tr>\n",
       "    <tr>\n",
       "      <th>489</th>\n",
       "      <td>(fresh herbs, packaged vegetables fruits)</td>\n",
       "      <td>(fresh vegetables)</td>\n",
       "      <td>0.052647</td>\n",
       "      <td>0.444341</td>\n",
       "      <td>0.047056</td>\n",
       "      <td>0.893802</td>\n",
       "      <td>2.011522</td>\n",
       "      <td>0.023663</td>\n",
       "      <td>5.232304</td>\n",
       "    </tr>\n",
       "  </tbody>\n",
       "</table>\n",
       "</div>"
      ],
      "text/plain": [
       "                                        antecedents  \\\n",
       "491                                   (fresh herbs)   \n",
       "490  (fresh vegetables, packaged vegetables fruits)   \n",
       "341                                   (fresh herbs)   \n",
       "340                (fresh vegetables, fresh fruits)   \n",
       "489       (fresh herbs, packaged vegetables fruits)   \n",
       "\n",
       "                                        consequents  antecedent support  \\\n",
       "491  (fresh vegetables, packaged vegetables fruits)            0.093564   \n",
       "490                                   (fresh herbs)            0.235156   \n",
       "341                (fresh vegetables, fresh fruits)            0.093564   \n",
       "340                                   (fresh herbs)            0.318137   \n",
       "489                              (fresh vegetables)            0.052647   \n",
       "\n",
       "     consequent support   support  confidence      lift  leverage  conviction  \n",
       "491            0.235156  0.047056    0.502929  2.138702  0.025054    1.538701  \n",
       "490            0.093564  0.047056    0.200106  2.138702  0.025054    1.133195  \n",
       "341            0.318137  0.061774    0.660230  2.075302  0.032008    2.006840  \n",
       "340            0.093564  0.061774    0.194174  2.075302  0.032008    1.124853  \n",
       "489            0.444341  0.047056    0.893802  2.011522  0.023663    5.232304  "
      ]
     },
     "execution_count": 11,
     "metadata": {},
     "output_type": "execute_result"
    }
   ],
   "source": [
    "rules_df.head()"
   ]
  },
  {
   "cell_type": "markdown",
   "metadata": {},
   "source": [
    "To read the table above(line 491): If a customer buys from fresh herbs department, then it is very likely that he/she buys fresh vegetables, packaged vegetables fruits. We can say that based on the 'lift' measurement. The higher the 'lift', the higher likelihood that 'consequents' will be bought after 'antecedents'.\n",
    "<p>\n",
    "We can see that fresh herbs, fresh vegetables, packaged vegetables fruits, and fresh fruits dominating the top 5. It means majority of customers bought products from those aisles. <p>\n",
    "\n",
    "We can make some recommendations based on the item choose."
   ]
  },
  {
   "cell_type": "code",
   "execution_count": 12,
   "metadata": {
    "vscode": {
     "languageId": "python"
    }
   },
   "outputs": [],
   "source": [
    "rules_df[\"antecedents\"] = rules_df[\"antecedents\"].apply(lambda x: list(x)).copy()\n",
    "rules_df[\"consequents\"] = rules_df[\"consequents\"].apply(lambda x: list(x)).copy()"
   ]
  },
  {
   "cell_type": "code",
   "execution_count": 142,
   "metadata": {
    "vscode": {
     "languageId": "python"
    }
   },
   "outputs": [
    {
     "name": "stdout",
     "output_type": "stream",
     "text": [
      "Since you like bread, you might like: \n"
     ]
    },
    {
     "data": {
      "text/plain": [
       "229                  [fresh vegetables, fresh fruits]\n",
       "5                                      [fresh fruits]\n",
       "11                                  [packaged cheese]\n",
       "243                                    [fresh fruits]\n",
       "241                   [packaged cheese, fresh fruits]\n",
       "258    [fresh vegetables, packaged vegetables fruits]\n",
       "7                                  [fresh vegetables]\n",
       "15                                           [yogurt]\n",
       "9                                              [milk]\n",
       "235                              [milk, fresh fruits]\n",
       "Name: consequents, dtype: object"
      ]
     },
     "execution_count": 142,
     "metadata": {},
     "output_type": "execute_result"
    }
   ],
   "source": [
    "# Input basket\n",
    "mybasket = [\"milk\", \"bread\"]\n",
    "\n",
    "# metric\n",
    "metric = \"lift\"\n",
    "\n",
    "# make some recommendations based on the item on mybasket\n",
    "def product_recs(basket, rule_df, metric):\n",
    "    \"\"\" \n",
    "    Recommend product based on association rule\n",
    "    Looking at which aisles the user bought, \n",
    "    we can give recommendations for the related aisles\n",
    "    that the user might like,\n",
    "    using lift as the metric\n",
    "    \"\"\"\n",
    "    # Randomly select an item from the basket\n",
    "    random_item = np.random.choice(basket, 1)[0]\n",
    "    print(f\"Since you like {random_item}, you might like: \")\n",
    "\n",
    "    # Find rules where the item is in the antecedent\n",
    "    rule_filter = rule_df[\"antecedents\"].apply(lambda x: x[0]) == random_item\n",
    "\n",
    "    # Filter the dataframe using rule_filter and sort by the selected metric\n",
    "    filtered_df = rule_df[rule_filter].sort_values(by=metric, ascending=False)\n",
    "\n",
    "    # Randomly return one of the top 20 items from the filtered dataframe\n",
    "    reco = filtered_df.head(20).sample(10)[\"consequents\"]\n",
    "\n",
    "    return reco\n",
    "\n",
    "\n",
    "product_recs(mybasket, rules_df, metric)\n"
   ]
  },
  {
   "cell_type": "markdown",
   "metadata": {},
   "source": [
    "## Apriori Method Without MLxtend"
   ]
  },
  {
   "cell_type": "markdown",
   "metadata": {},
   "source": [
    "We can do Market Basket Analysis from the product level by doing the calculations manually. I use the calculations from https://pythondata.com/market-basket-analysis-with-python-and-pandas/."
   ]
  },
  {
   "cell_type": "code",
   "execution_count": 26,
   "metadata": {
    "vscode": {
     "languageId": "python"
    }
   },
   "outputs": [],
   "source": [
    "from itertools import combinations, groupby\n",
    "from collections import Counter"
   ]
  },
  {
   "cell_type": "code",
   "execution_count": 27,
   "metadata": {
    "vscode": {
     "languageId": "python"
    }
   },
   "outputs": [
    {
     "data": {
      "text/plain": [
       "order_id\n",
       "2539329                                       Soda\n",
       "2539329    Organic Unsweetened Vanilla Almond Milk\n",
       "2539329                        Original Beef Jerky\n",
       "2539329                 Aged White Cheddar Popcorn\n",
       "2539329           XL Pick-A-Size Paper Towel Rolls\n",
       "Name: product_name, dtype: object"
      ]
     },
     "execution_count": 27,
     "metadata": {},
     "output_type": "execute_result"
    }
   ],
   "source": [
    "# make a variable contained only order_id and product_name\n",
    "order = df.set_index('order_id')['product_name']\n",
    "order.head()"
   ]
  },
  {
   "cell_type": "code",
   "execution_count": 28,
   "metadata": {
    "vscode": {
     "languageId": "python"
    }
   },
   "outputs": [],
   "source": [
    "# calculate frequency\n",
    "stats = order.value_counts().to_frame('frequency')"
   ]
  },
  {
   "cell_type": "code",
   "execution_count": 11,
   "metadata": {
    "vscode": {
     "languageId": "python"
    }
   },
   "outputs": [
    {
     "data": {
      "text/html": [
       "<div>\n",
       "<style scoped>\n",
       "    .dataframe tbody tr th:only-of-type {\n",
       "        vertical-align: middle;\n",
       "    }\n",
       "\n",
       "    .dataframe tbody tr th {\n",
       "        vertical-align: top;\n",
       "    }\n",
       "\n",
       "    .dataframe thead th {\n",
       "        text-align: right;\n",
       "    }\n",
       "</style>\n",
       "<table border=\"1\" class=\"dataframe\">\n",
       "  <thead>\n",
       "    <tr style=\"text-align: right;\">\n",
       "      <th></th>\n",
       "      <th>frequency</th>\n",
       "    </tr>\n",
       "  </thead>\n",
       "  <tbody>\n",
       "    <tr>\n",
       "      <th>Banana</th>\n",
       "      <td>491291</td>\n",
       "    </tr>\n",
       "    <tr>\n",
       "      <th>Bag of Organic Bananas</th>\n",
       "      <td>394930</td>\n",
       "    </tr>\n",
       "    <tr>\n",
       "      <th>Organic Strawberries</th>\n",
       "      <td>275577</td>\n",
       "    </tr>\n",
       "    <tr>\n",
       "      <th>Organic Baby Spinach</th>\n",
       "      <td>251705</td>\n",
       "    </tr>\n",
       "    <tr>\n",
       "      <th>Organic Hass Avocado</th>\n",
       "      <td>220877</td>\n",
       "    </tr>\n",
       "  </tbody>\n",
       "</table>\n",
       "</div>"
      ],
      "text/plain": [
       "                        frequency\n",
       "Banana                     491291\n",
       "Bag of Organic Bananas     394930\n",
       "Organic Strawberries       275577\n",
       "Organic Baby Spinach       251705\n",
       "Organic Hass Avocado       220877"
      ]
     },
     "execution_count": 11,
     "metadata": {},
     "output_type": "execute_result"
    }
   ],
   "source": [
    "stats.head()"
   ]
  },
  {
   "cell_type": "code",
   "execution_count": 29,
   "metadata": {
    "vscode": {
     "languageId": "python"
    }
   },
   "outputs": [
    {
     "data": {
      "text/html": [
       "<div>\n",
       "<style scoped>\n",
       "    .dataframe tbody tr th:only-of-type {\n",
       "        vertical-align: middle;\n",
       "    }\n",
       "\n",
       "    .dataframe tbody tr th {\n",
       "        vertical-align: top;\n",
       "    }\n",
       "\n",
       "    .dataframe thead th {\n",
       "        text-align: right;\n",
       "    }\n",
       "</style>\n",
       "<table border=\"1\" class=\"dataframe\">\n",
       "  <thead>\n",
       "    <tr style=\"text-align: right;\">\n",
       "      <th></th>\n",
       "      <th>frequency</th>\n",
       "      <th>support</th>\n",
       "    </tr>\n",
       "  </thead>\n",
       "  <tbody>\n",
       "    <tr>\n",
       "      <th>Banana</th>\n",
       "      <td>491291</td>\n",
       "      <td>14.682571</td>\n",
       "    </tr>\n",
       "    <tr>\n",
       "      <th>Bag of Organic Bananas</th>\n",
       "      <td>394930</td>\n",
       "      <td>11.802756</td>\n",
       "    </tr>\n",
       "    <tr>\n",
       "      <th>Organic Strawberries</th>\n",
       "      <td>275577</td>\n",
       "      <td>8.235809</td>\n",
       "    </tr>\n",
       "    <tr>\n",
       "      <th>Organic Baby Spinach</th>\n",
       "      <td>251705</td>\n",
       "      <td>7.522378</td>\n",
       "    </tr>\n",
       "    <tr>\n",
       "      <th>Organic Hass Avocado</th>\n",
       "      <td>220877</td>\n",
       "      <td>6.601062</td>\n",
       "    </tr>\n",
       "  </tbody>\n",
       "</table>\n",
       "</div>"
      ],
      "text/plain": [
       "                        frequency    support\n",
       "Banana                     491291  14.682571\n",
       "Bag of Organic Bananas     394930  11.802756\n",
       "Organic Strawberries       275577   8.235809\n",
       "Organic Baby Spinach       251705   7.522378\n",
       "Organic Hass Avocado       220877   6.601062"
      ]
     },
     "execution_count": 29,
     "metadata": {},
     "output_type": "execute_result"
    }
   ],
   "source": [
    "# calc support\n",
    "stats['support'] = stats/ len(set(order.index))*100\n",
    "stats.head()"
   ]
  },
  {
   "cell_type": "code",
   "execution_count": 19,
   "metadata": {
    "vscode": {
     "languageId": "python"
    }
   },
   "outputs": [
    {
     "data": {
      "text/plain": [
       "0.020342303020036267"
      ]
     },
     "execution_count": 19,
     "metadata": {},
     "output_type": "execute_result"
    }
   ],
   "source": [
    "mean = np.mean(stats['support'])\n",
    "mean"
   ]
  },
  {
   "cell_type": "code",
   "execution_count": 20,
   "metadata": {
    "vscode": {
     "languageId": "python"
    }
   },
   "outputs": [
    {
     "data": {
      "text/plain": [
       "14.682570635575987"
      ]
     },
     "execution_count": 20,
     "metadata": {},
     "output_type": "execute_result"
    }
   ],
   "source": [
    "max = np.max(stats['support'])\n",
    "max"
   ]
  },
  {
   "cell_type": "code",
   "execution_count": 21,
   "metadata": {
    "vscode": {
     "languageId": "python"
    }
   },
   "outputs": [
    {
     "data": {
      "text/plain": [
       "2.9885690223464273e-05"
      ]
     },
     "execution_count": 21,
     "metadata": {},
     "output_type": "execute_result"
    }
   ],
   "source": [
    "min = np.min(stats['support'])\n",
    "min "
   ]
  },
  {
   "cell_type": "code",
   "execution_count": 23,
   "metadata": {
    "vscode": {
     "languageId": "python"
    }
   },
   "outputs": [
    {
     "data": {
      "text/plain": [
       "0.001882798484078249"
      ]
     },
     "execution_count": 23,
     "metadata": {},
     "output_type": "execute_result"
    }
   ],
   "source": [
    "median = np.median(stats['support'])\n",
    "median"
   ]
  },
  {
   "cell_type": "code",
   "execution_count": 30,
   "metadata": {
    "vscode": {
     "languageId": "python"
    }
   },
   "outputs": [
    {
     "data": {
      "text/plain": [
       "order_id\n",
       "2539329                                       Soda\n",
       "2539329    Organic Unsweetened Vanilla Almond Milk\n",
       "2539329                        Original Beef Jerky\n",
       "2539329                 Aged White Cheddar Popcorn\n",
       "2539329           XL Pick-A-Size Paper Towel Rolls\n",
       "                            ...                   \n",
       "272231                      Fabric Softener Sheets\n",
       "272231      Dark Chocolate Mint Snacking Chocolate\n",
       "272231                    Phish Food Frozen Yogurt\n",
       "272231                       French Baguette Bread\n",
       "272231        Original Multigrain Spoonfuls Cereal\n",
       "Name: product_name, Length: 29571452, dtype: object"
      ]
     },
     "execution_count": 30,
     "metadata": {},
     "output_type": "execute_result"
    }
   ],
   "source": [
    "# min_support level\n",
    "min_support = 0.018 #using the median\n",
    "product_over_support = stats[stats['support'] >= min_support].index\n",
    "orders_over_support = order[order.isin(product_over_support)]\n",
    "orders_over_support"
   ]
  },
  {
   "cell_type": "code",
   "execution_count": 31,
   "metadata": {
    "vscode": {
     "languageId": "python"
    }
   },
   "outputs": [
    {
     "data": {
      "text/plain": [
       "1564244    145\n",
       "790903     137\n",
       "61355      127\n",
       "2970392    121\n",
       "2069920    116\n",
       "Name: order_id, dtype: int64"
      ]
     },
     "execution_count": 31,
     "metadata": {},
     "output_type": "execute_result"
    }
   ],
   "source": [
    "#filter out order that only had 1 item order on the order_id\n",
    "order_count = order.index.value_counts()\n",
    "order_count.head()"
   ]
  },
  {
   "cell_type": "code",
   "execution_count": 32,
   "metadata": {
    "vscode": {
     "languageId": "python"
    }
   },
   "outputs": [
    {
     "data": {
      "text/plain": [
       "Int64Index([1564244,  790903,   61355, 2970392, 2069920, 3308010, 2753324,\n",
       "            2499774,   77151, 2621625,\n",
       "            ...\n",
       "            1492978, 1057806, 2464327,  251361, 3066440, 2868157, 2468622,\n",
       "            2039918, 3169669, 2226176],\n",
       "           dtype='int64', length=3182490)"
      ]
     },
     "execution_count": 32,
     "metadata": {},
     "output_type": "execute_result"
    }
   ],
   "source": [
    "order_morethan_2_id = order_count[order_count >=2 ].index\n",
    "order_morethan_2_id"
   ]
  },
  {
   "cell_type": "code",
   "execution_count": 33,
   "metadata": {
    "vscode": {
     "languageId": "python"
    }
   },
   "outputs": [
    {
     "data": {
      "text/plain": [
       "order_id\n",
       "2539329                                       Soda\n",
       "2539329    Organic Unsweetened Vanilla Almond Milk\n",
       "2539329                        Original Beef Jerky\n",
       "2539329                 Aged White Cheddar Popcorn\n",
       "2539329           XL Pick-A-Size Paper Towel Rolls\n",
       "                            ...                   \n",
       "272231                      Fabric Softener Sheets\n",
       "272231      Dark Chocolate Mint Snacking Chocolate\n",
       "272231                    Phish Food Frozen Yogurt\n",
       "272231                       French Baguette Bread\n",
       "272231        Original Multigrain Spoonfuls Cereal\n",
       "Name: product_name, Length: 33655513, dtype: object"
      ]
     },
     "execution_count": 33,
     "metadata": {},
     "output_type": "execute_result"
    }
   ],
   "source": [
    "order_morethan_2 = order[order.index.isin(order_morethan_2_id)]\n",
    "order_morethan_2"
   ]
  },
  {
   "cell_type": "code",
   "execution_count": 34,
   "metadata": {
    "vscode": {
     "languageId": "python"
    }
   },
   "outputs": [
    {
     "data": {
      "text/html": [
       "<div>\n",
       "<style scoped>\n",
       "    .dataframe tbody tr th:only-of-type {\n",
       "        vertical-align: middle;\n",
       "    }\n",
       "\n",
       "    .dataframe tbody tr th {\n",
       "        vertical-align: top;\n",
       "    }\n",
       "\n",
       "    .dataframe thead th {\n",
       "        text-align: right;\n",
       "    }\n",
       "</style>\n",
       "<table border=\"1\" class=\"dataframe\">\n",
       "  <thead>\n",
       "    <tr style=\"text-align: right;\">\n",
       "      <th></th>\n",
       "      <th>frequency</th>\n",
       "      <th>support</th>\n",
       "    </tr>\n",
       "  </thead>\n",
       "  <tbody>\n",
       "    <tr>\n",
       "      <th>Banana</th>\n",
       "      <td>489165</td>\n",
       "      <td>15.370512</td>\n",
       "    </tr>\n",
       "    <tr>\n",
       "      <th>Bag of Organic Bananas</th>\n",
       "      <td>392051</td>\n",
       "      <td>12.319002</td>\n",
       "    </tr>\n",
       "    <tr>\n",
       "      <th>Organic Strawberries</th>\n",
       "      <td>274416</td>\n",
       "      <td>8.622682</td>\n",
       "    </tr>\n",
       "    <tr>\n",
       "      <th>Organic Baby Spinach</th>\n",
       "      <td>250501</td>\n",
       "      <td>7.871227</td>\n",
       "    </tr>\n",
       "    <tr>\n",
       "      <th>Organic Hass Avocado</th>\n",
       "      <td>220158</td>\n",
       "      <td>6.917791</td>\n",
       "    </tr>\n",
       "  </tbody>\n",
       "</table>\n",
       "</div>"
      ],
      "text/plain": [
       "                        frequency    support\n",
       "Banana                     489165  15.370512\n",
       "Bag of Organic Bananas     392051  12.319002\n",
       "Organic Strawberries       274416   8.622682\n",
       "Organic Baby Spinach       250501   7.871227\n",
       "Organic Hass Avocado       220158   6.917791"
      ]
     },
     "execution_count": 34,
     "metadata": {},
     "output_type": "execute_result"
    }
   ],
   "source": [
    "#calc with the new dataframe\n",
    "stats = order_morethan_2.value_counts().to_frame('frequency')\n",
    "stats['support'] = stats / len(set(order_morethan_2.index)) *100\n",
    "stats.head()"
   ]
  },
  {
   "cell_type": "code",
   "execution_count": 35,
   "metadata": {
    "vscode": {
     "languageId": "python"
    }
   },
   "outputs": [
    {
     "data": {
      "text/plain": [
       "(49683, 2)"
      ]
     },
     "execution_count": 35,
     "metadata": {},
     "output_type": "execute_result"
    }
   ],
   "source": [
    "stats.shape"
   ]
  },
  {
   "cell_type": "code",
   "execution_count": 35,
   "metadata": {
    "vscode": {
     "languageId": "python"
    }
   },
   "outputs": [
    {
     "data": {
      "text/plain": [
       "<generator object generator at 0x16b38aa40>"
      ]
     },
     "execution_count": 35,
     "metadata": {},
     "output_type": "execute_result"
    }
   ],
   "source": [
    "# create a func that will generate our itemsets and send our new order dataset through the generator\n",
    "def generator(order):\n",
    "    order = order.reset_index().values\n",
    "    for order_id, product in groupby(order, lambda x: x[0]):\n",
    "        product_list = [item[1] for item in product]\n",
    "        for item_pair in combinations(product_list, 2):\n",
    "            yield item_pair\n",
    "\n",
    "itempair_gen = generator(order_morethan_2)\n",
    "itempair_gen"
   ]
  },
  {
   "cell_type": "code",
   "execution_count": 36,
   "metadata": {
    "vscode": {
     "languageId": "python"
    }
   },
   "outputs": [
    {
     "data": {
      "text/html": [
       "<div>\n",
       "<style scoped>\n",
       "    .dataframe tbody tr th:only-of-type {\n",
       "        vertical-align: middle;\n",
       "    }\n",
       "\n",
       "    .dataframe tbody tr th {\n",
       "        vertical-align: top;\n",
       "    }\n",
       "\n",
       "    .dataframe thead th {\n",
       "        text-align: right;\n",
       "    }\n",
       "</style>\n",
       "<table border=\"1\" class=\"dataframe\">\n",
       "  <thead>\n",
       "    <tr style=\"text-align: right;\">\n",
       "      <th></th>\n",
       "      <th></th>\n",
       "      <th>freqAC</th>\n",
       "      <th>supportAC</th>\n",
       "    </tr>\n",
       "  </thead>\n",
       "  <tbody>\n",
       "    <tr>\n",
       "      <th rowspan=\"2\" valign=\"top\">Soda</th>\n",
       "      <th>Original Beef Jerky</th>\n",
       "      <td>576</td>\n",
       "      <td>0.018099</td>\n",
       "    </tr>\n",
       "    <tr>\n",
       "      <th>Bag of Organic Bananas</th>\n",
       "      <td>1560</td>\n",
       "      <td>0.049018</td>\n",
       "    </tr>\n",
       "    <tr>\n",
       "      <th>Honeycrisp Apples</th>\n",
       "      <th>Bag of Organic Bananas</th>\n",
       "      <td>817</td>\n",
       "      <td>0.025672</td>\n",
       "    </tr>\n",
       "    <tr>\n",
       "      <th>Bartlett Pears</th>\n",
       "      <th>Bag of Organic Bananas</th>\n",
       "      <td>1317</td>\n",
       "      <td>0.041383</td>\n",
       "    </tr>\n",
       "    <tr>\n",
       "      <th>Soda</th>\n",
       "      <th>Zero Calorie Cola</th>\n",
       "      <td>2494</td>\n",
       "      <td>0.078366</td>\n",
       "    </tr>\n",
       "  </tbody>\n",
       "</table>\n",
       "</div>"
      ],
      "text/plain": [
       "                                          freqAC  supportAC\n",
       "Soda              Original Beef Jerky        576   0.018099\n",
       "                  Bag of Organic Bananas    1560   0.049018\n",
       "Honeycrisp Apples Bag of Organic Bananas     817   0.025672\n",
       "Bartlett Pears    Bag of Organic Bananas    1317   0.041383\n",
       "Soda              Zero Calorie Cola         2494   0.078366"
      ]
     },
     "execution_count": 36,
     "metadata": {},
     "output_type": "execute_result"
    }
   ],
   "source": [
    "itempair = pd.Series(Counter(itempair_gen)).to_frame('freqAC')\n",
    "itempair['supportAC'] = itempair['freqAC'] / len(order_morethan_2_id) *100\n",
    "itempair = itempair[itempair['supportAC'] >= min_support]\n",
    "itempair.head()"
   ]
  },
  {
   "cell_type": "code",
   "execution_count": 37,
   "metadata": {
    "vscode": {
     "languageId": "python"
    }
   },
   "outputs": [],
   "source": [
    "# create table for association rules and compute relevant metrics\n",
    "itempair = itempair.reset_index().rename(columns={'level_0' : 'antecedents', 'level_1': 'consequents'})\n",
    "itempair = (itempair\n",
    "     .merge(stats.rename(columns={'freq': 'freqA', 'support': 'antecedent support'}), left_on='antecedents', right_index=True)\n",
    "     .merge(stats.rename(columns={'freq': 'freqC', 'support': 'consequents support'}), left_on='consequents', right_index=True))"
   ]
  },
  {
   "cell_type": "code",
   "execution_count": 38,
   "metadata": {
    "vscode": {
     "languageId": "python"
    }
   },
   "outputs": [],
   "source": [
    "itempair['confidenceAtoC'] = itempair['supportAC'] / itempair['antecedent support']\n",
    "itempair['confidenceCtoA'] = itempair['supportAC'] / itempair['consequents support']\n",
    "itempair['lift'] = itempair['supportAC'] / (itempair['antecedent support'] * itempair['consequents support'])\n",
    "itempair = itempair[['antecedents', 'consequents','antecedent support', 'consequents support', 'confidenceAtoC','lift']]"
   ]
  },
  {
   "cell_type": "code",
   "execution_count": 94,
   "metadata": {
    "vscode": {
     "languageId": "python"
    }
   },
   "outputs": [
    {
     "data": {
      "text/html": [
       "<div>\n",
       "<style scoped>\n",
       "    .dataframe tbody tr th:only-of-type {\n",
       "        vertical-align: middle;\n",
       "    }\n",
       "\n",
       "    .dataframe tbody tr th {\n",
       "        vertical-align: top;\n",
       "    }\n",
       "\n",
       "    .dataframe thead th {\n",
       "        text-align: right;\n",
       "    }\n",
       "</style>\n",
       "<table border=\"1\" class=\"dataframe\">\n",
       "  <thead>\n",
       "    <tr style=\"text-align: right;\">\n",
       "      <th></th>\n",
       "      <th>antecedents</th>\n",
       "      <th>consequents</th>\n",
       "      <th>antecedent support</th>\n",
       "      <th>consequents support</th>\n",
       "      <th>confidenceAtoC</th>\n",
       "      <th>lift</th>\n",
       "    </tr>\n",
       "  </thead>\n",
       "  <tbody>\n",
       "    <tr>\n",
       "      <th>0</th>\n",
       "      <td>Soda</td>\n",
       "      <td>Original Beef Jerky</td>\n",
       "      <td>1.085628</td>\n",
       "      <td>0.202891</td>\n",
       "      <td>0.016671</td>\n",
       "      <td>0.082170</td>\n",
       "    </tr>\n",
       "    <tr>\n",
       "      <th>18531</th>\n",
       "      <td>Bag of Organic Bananas</td>\n",
       "      <td>Original Beef Jerky</td>\n",
       "      <td>12.319002</td>\n",
       "      <td>0.202891</td>\n",
       "      <td>0.001724</td>\n",
       "      <td>0.008498</td>\n",
       "    </tr>\n",
       "    <tr>\n",
       "      <th>1</th>\n",
       "      <td>Soda</td>\n",
       "      <td>Bag of Organic Bananas</td>\n",
       "      <td>1.085628</td>\n",
       "      <td>12.319002</td>\n",
       "      <td>0.045152</td>\n",
       "      <td>0.003665</td>\n",
       "    </tr>\n",
       "    <tr>\n",
       "      <th>2</th>\n",
       "      <td>Honeycrisp Apples</td>\n",
       "      <td>Bag of Organic Bananas</td>\n",
       "      <td>0.449868</td>\n",
       "      <td>12.319002</td>\n",
       "      <td>0.057065</td>\n",
       "      <td>0.004632</td>\n",
       "    </tr>\n",
       "    <tr>\n",
       "      <th>3</th>\n",
       "      <td>Bartlett Pears</td>\n",
       "      <td>Bag of Organic Bananas</td>\n",
       "      <td>1.147781</td>\n",
       "      <td>12.319002</td>\n",
       "      <td>0.036055</td>\n",
       "      <td>0.002927</td>\n",
       "    </tr>\n",
       "  </tbody>\n",
       "</table>\n",
       "</div>"
      ],
      "text/plain": [
       "                  antecedents             consequents  antecedent support  \\\n",
       "0                        Soda     Original Beef Jerky            1.085628   \n",
       "18531  Bag of Organic Bananas     Original Beef Jerky           12.319002   \n",
       "1                        Soda  Bag of Organic Bananas            1.085628   \n",
       "2           Honeycrisp Apples  Bag of Organic Bananas            0.449868   \n",
       "3              Bartlett Pears  Bag of Organic Bananas            1.147781   \n",
       "\n",
       "       consequents support  confidenceAtoC      lift  \n",
       "0                 0.202891        0.016671  0.082170  \n",
       "18531             0.202891        0.001724  0.008498  \n",
       "1                12.319002        0.045152  0.003665  \n",
       "2                12.319002        0.057065  0.004632  \n",
       "3                12.319002        0.036055  0.002927  "
      ]
     },
     "execution_count": 94,
     "metadata": {},
     "output_type": "execute_result"
    }
   ],
   "source": [
    "itempair.head()"
   ]
  },
  {
   "cell_type": "code",
   "execution_count": 140,
   "metadata": {
    "vscode": {
     "languageId": "python"
    }
   },
   "outputs": [],
   "source": [
    "# to find items that have confidence > 0.005\n",
    "conf = itempair\n",
    "market_basket = conf[(conf.confidenceAtoC > 0.005)]\n",
    "market_basket.set_index('antecedents', inplace = True)\n",
    "market_basket.reset_index(inplace=True)\n",
    "market_basket = market_basket.sort_values('lift', ascending = False)"
   ]
  },
  {
   "cell_type": "code",
   "execution_count": 41,
   "metadata": {
    "vscode": {
     "languageId": "python"
    }
   },
   "outputs": [
    {
     "data": {
      "text/html": [
       "<div>\n",
       "<style scoped>\n",
       "    .dataframe tbody tr th:only-of-type {\n",
       "        vertical-align: middle;\n",
       "    }\n",
       "\n",
       "    .dataframe tbody tr th {\n",
       "        vertical-align: top;\n",
       "    }\n",
       "\n",
       "    .dataframe thead th {\n",
       "        text-align: right;\n",
       "    }\n",
       "</style>\n",
       "<table border=\"1\" class=\"dataframe\">\n",
       "  <thead>\n",
       "    <tr style=\"text-align: right;\">\n",
       "      <th></th>\n",
       "      <th>antecedents</th>\n",
       "      <th>consequents</th>\n",
       "      <th>antecedent support</th>\n",
       "      <th>consequents support</th>\n",
       "      <th>confidenceAtoC</th>\n",
       "      <th>lift</th>\n",
       "    </tr>\n",
       "  </thead>\n",
       "  <tbody>\n",
       "    <tr>\n",
       "      <th>16704</th>\n",
       "      <td>Oh My Yog! Pacific Coast Strawberry Trilayer Y...</td>\n",
       "      <td>Oh My Yog! Organic Wild Quebec Blueberry Cream...</td>\n",
       "      <td>0.091532</td>\n",
       "      <td>0.072962</td>\n",
       "      <td>0.300721</td>\n",
       "      <td>4.121625</td>\n",
       "    </tr>\n",
       "    <tr>\n",
       "      <th>16729</th>\n",
       "      <td>Mighty 4 Kale, Strawberry, Amaranth &amp; Greek Yo...</td>\n",
       "      <td>Mighty 4 Sweet Potato, Blueberry, Millet &amp; Gre...</td>\n",
       "      <td>0.071265</td>\n",
       "      <td>0.082231</td>\n",
       "      <td>0.268959</td>\n",
       "      <td>3.270771</td>\n",
       "    </tr>\n",
       "    <tr>\n",
       "      <th>16712</th>\n",
       "      <td>Unsweetened Blackberry Water</td>\n",
       "      <td>Raspberry Essence Water</td>\n",
       "      <td>0.100644</td>\n",
       "      <td>0.065860</td>\n",
       "      <td>0.213862</td>\n",
       "      <td>3.247203</td>\n",
       "    </tr>\n",
       "    <tr>\n",
       "      <th>16728</th>\n",
       "      <td>Mighty 4 Sweet Potato, Blueberry, Millet &amp; Gre...</td>\n",
       "      <td>Mighty 4 Kale, Strawberry, Amaranth &amp; Greek Yo...</td>\n",
       "      <td>0.082231</td>\n",
       "      <td>0.071265</td>\n",
       "      <td>0.221628</td>\n",
       "      <td>3.109913</td>\n",
       "    </tr>\n",
       "    <tr>\n",
       "      <th>16742</th>\n",
       "      <td>Cream Top Strawberry on the Bottom Yogurt</td>\n",
       "      <td>Cream Top Blueberry Yogurt</td>\n",
       "      <td>0.111799</td>\n",
       "      <td>0.054611</td>\n",
       "      <td>0.168072</td>\n",
       "      <td>3.077602</td>\n",
       "    </tr>\n",
       "    <tr>\n",
       "      <th>...</th>\n",
       "      <td>...</td>\n",
       "      <td>...</td>\n",
       "      <td>...</td>\n",
       "      <td>...</td>\n",
       "      <td>...</td>\n",
       "      <td>...</td>\n",
       "    </tr>\n",
       "    <tr>\n",
       "      <th>1128</th>\n",
       "      <td>Hass Avocados</td>\n",
       "      <td>Banana</td>\n",
       "      <td>1.619644</td>\n",
       "      <td>15.370512</td>\n",
       "      <td>0.030071</td>\n",
       "      <td>0.001956</td>\n",
       "    </tr>\n",
       "    <tr>\n",
       "      <th>156</th>\n",
       "      <td>Red Onion</td>\n",
       "      <td>Bag of Organic Bananas</td>\n",
       "      <td>1.394726</td>\n",
       "      <td>12.319002</td>\n",
       "      <td>0.023295</td>\n",
       "      <td>0.001891</td>\n",
       "    </tr>\n",
       "    <tr>\n",
       "      <th>5465</th>\n",
       "      <td>2% Reduced Fat Milk</td>\n",
       "      <td>Organic Strawberries</td>\n",
       "      <td>1.206445</td>\n",
       "      <td>8.622682</td>\n",
       "      <td>0.015705</td>\n",
       "      <td>0.001821</td>\n",
       "    </tr>\n",
       "    <tr>\n",
       "      <th>154</th>\n",
       "      <td>Green Onions</td>\n",
       "      <td>Bag of Organic Bananas</td>\n",
       "      <td>0.877646</td>\n",
       "      <td>12.319002</td>\n",
       "      <td>0.022341</td>\n",
       "      <td>0.001814</td>\n",
       "    </tr>\n",
       "    <tr>\n",
       "      <th>5258</th>\n",
       "      <td>Strawberries</td>\n",
       "      <td>Organic Strawberries</td>\n",
       "      <td>4.662638</td>\n",
       "      <td>8.622682</td>\n",
       "      <td>0.005041</td>\n",
       "      <td>0.000585</td>\n",
       "    </tr>\n",
       "  </tbody>\n",
       "</table>\n",
       "<p>16745 rows × 6 columns</p>\n",
       "</div>"
      ],
      "text/plain": [
       "                                             antecedents  \\\n",
       "16704  Oh My Yog! Pacific Coast Strawberry Trilayer Y...   \n",
       "16729  Mighty 4 Kale, Strawberry, Amaranth & Greek Yo...   \n",
       "16712                       Unsweetened Blackberry Water   \n",
       "16728  Mighty 4 Sweet Potato, Blueberry, Millet & Gre...   \n",
       "16742          Cream Top Strawberry on the Bottom Yogurt   \n",
       "...                                                  ...   \n",
       "1128                                       Hass Avocados   \n",
       "156                                            Red Onion   \n",
       "5465                                 2% Reduced Fat Milk   \n",
       "154                                         Green Onions   \n",
       "5258                                        Strawberries   \n",
       "\n",
       "                                             consequents  antecedent support  \\\n",
       "16704  Oh My Yog! Organic Wild Quebec Blueberry Cream...            0.091532   \n",
       "16729  Mighty 4 Sweet Potato, Blueberry, Millet & Gre...            0.071265   \n",
       "16712                            Raspberry Essence Water            0.100644   \n",
       "16728  Mighty 4 Kale, Strawberry, Amaranth & Greek Yo...            0.082231   \n",
       "16742                         Cream Top Blueberry Yogurt            0.111799   \n",
       "...                                                  ...                 ...   \n",
       "1128                                              Banana            1.619644   \n",
       "156                               Bag of Organic Bananas            1.394726   \n",
       "5465                                Organic Strawberries            1.206445   \n",
       "154                               Bag of Organic Bananas            0.877646   \n",
       "5258                                Organic Strawberries            4.662638   \n",
       "\n",
       "       consequents support  confidenceAtoC      lift  \n",
       "16704             0.072962        0.300721  4.121625  \n",
       "16729             0.082231        0.268959  3.270771  \n",
       "16712             0.065860        0.213862  3.247203  \n",
       "16728             0.071265        0.221628  3.109913  \n",
       "16742             0.054611        0.168072  3.077602  \n",
       "...                    ...             ...       ...  \n",
       "1128             15.370512        0.030071  0.001956  \n",
       "156              12.319002        0.023295  0.001891  \n",
       "5465              8.622682        0.015705  0.001821  \n",
       "154              12.319002        0.022341  0.001814  \n",
       "5258              8.622682        0.005041  0.000585  \n",
       "\n",
       "[16745 rows x 6 columns]"
      ]
     },
     "execution_count": 41,
     "metadata": {},
     "output_type": "execute_result"
    }
   ],
   "source": [
    "market_basket"
   ]
  },
  {
   "cell_type": "markdown",
   "metadata": {},
   "source": [
    "It seems that people who bought Oh My Yog! Pacific Coast Strawberry Trilayer Yogurt will buy Oh My Yog! Organic Wild Quebec Blueberry Cream Top Yogurt & Fruit. This is inferred from the high lift value of 4.12. It seems that customers like different flavors of the same products. The company could use the dataframe above to make some recommendations to customer or make some promotions to boost sale, such as 'Buy3 get 1 Free'."
   ]
  },
  {
   "cell_type": "code",
   "execution_count": 141,
   "metadata": {
    "vscode": {
     "languageId": "python"
    }
   },
   "outputs": [
    {
     "name": "stdout",
     "output_type": "stream",
     "text": [
      "Since you like Banana, you might like: \n"
     ]
    },
    {
     "data": {
      "text/plain": [
       "15470                       Mandarin Oranges\n",
       "13879                    Medium Navel Orange\n",
       "1504                        Honeycrisp Apple\n",
       "13203                             Black Plum\n",
       "2673                      Organic Fuji Apple\n",
       "15523       XL Emerald White Seedless Grapes\n",
       "7746                          Bartlett Pears\n",
       "1876                             Gala Apples\n",
       "14351    Asparation/Broccolini/Baby Broccoli\n",
       "12953           Large Yellow Flesh Nectarine\n",
       "Name: consequents, dtype: object"
      ]
     },
     "execution_count": 141,
     "metadata": {},
     "output_type": "execute_result"
    }
   ],
   "source": [
    "# Input basket\n",
    "mybasket = ['Banana', 'Raspberry Essence Water']\n",
    "\n",
    "# metric\n",
    "metric = \"lift\"\n",
    "\n",
    "def product_recs(basket, rule_df, metric):\n",
    "    \"\"\"\n",
    "    Recommend product based on association rule\n",
    "    Args:\n",
    "        basket: what item is in the basket \n",
    "        rule_df: market basket table\n",
    "        metric: what metric you want to use\n",
    "    returns: product recommendations\n",
    "    \"\"\"\n",
    "    # Randomly select an item from the basket\n",
    "    random_item = np.random.choice(basket, 1)[0]\n",
    "    print(f\"Since you like {random_item}, you might like: \")\n",
    "\n",
    "    # Find rules where the item is in the antecedent\n",
    "    rule_filter = rule_df[\"antecedents\"].apply(lambda x: x) == random_item\n",
    "\n",
    "    # Filter the dataframe using rule_filter and sort by the selected metric\n",
    "    filtered_df = rule_df[rule_filter].sort_values(by=metric, ascending=False)\n",
    "\n",
    "    # Randomly return one of the top 10 items from the filtered dataframe\n",
    "    reco = filtered_df.head(10).sample(10)[\"consequents\"]\n",
    "\n",
    "    return reco\n",
    "\n",
    "\n",
    "product_recs(mybasket, market_basket, metric)\n"
   ]
  }
 ],
 "metadata": {
  "kernelspec": {
   "display_name": "Python 3 (ipykernel)",
   "language": "python",
   "name": "python3"
  },
  "orig_nbformat": 4,
  "vscode": {
   "interpreter": {
    "hash": "aee8b7b246df8f9039afb4144a1f6fd8d2ca17a180786b69acc140d282b71a49"
   }
  }
 },
 "nbformat": 4,
 "nbformat_minor": 2
}
