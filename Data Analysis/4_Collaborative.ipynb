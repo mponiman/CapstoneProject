{
 "cells": [
  {
   "cell_type": "markdown",
   "metadata": {},
   "source": [
    "# Collaborative Filtering\n",
    "\n",
    "Collaborative Filtering is a technique to filter out products for a certain user based on the similarity of other users. We need a set of items, a set of users and rating to do collaborative filtering. <p>\n",
    "Since we do not have rating features here, we are going to use the reordered features. For this model, we are using the last 5 order numbers from each customer. However, not every customer have 5, some can have less than 5. For that reasons, I am using the features 'i_prob_per_oder' as rating which is the probability of each item reordered each time based on each customer."
   ]
  },
  {
   "cell_type": "markdown",
   "metadata": {},
   "source": [
    "### Importing the libraries"
   ]
  },
  {
   "cell_type": "code",
   "execution_count": 2,
   "metadata": {},
   "outputs": [],
   "source": [
    "# Import the basic packages\n",
    "import numpy as np \n",
    "import pandas as pd \n",
    "from zipfile import ZipFile\n",
    "from collections import defaultdict\n",
    "import matplotlib.pyplot as plt\n",
    "from sklearn.neighbors import NearestNeighbors\n",
    "\n",
    "# Import the surprise packages\n",
    "from surprise import Dataset\n",
    "from surprise.reader import Reader\n",
    "from surprise import KNNWithMeans, SVD, BaselineOnly\n",
    "from surprise.prediction_algorithms.matrix_factorization import SVD as FunkSVD\n",
    "\n",
    "# Import train_test_split, GridSearchCV, cross validate\n",
    "from surprise.model_selection import train_test_split, GridSearchCV, cross_validate\n",
    "from surprise import accuracy\n",
    "from surprise.accuracy import rmse\n",
    "\n",
    "# import tensorflow and keras\n",
    "import tensorflow as tf\n",
    "from tensorflow import keras\n",
    "from tensorflow.keras import layers"
   ]
  },
  {
   "cell_type": "code",
   "execution_count": 3,
   "metadata": {},
   "outputs": [],
   "source": [
    "# read df_used\n",
    "df_used = pd.read_csv('df_used.csv')"
   ]
  },
  {
   "cell_type": "code",
   "execution_count": 65,
   "metadata": {},
   "outputs": [
    {
     "data": {
      "text/html": [
       "<div>\n",
       "<style scoped>\n",
       "    .dataframe tbody tr th:only-of-type {\n",
       "        vertical-align: middle;\n",
       "    }\n",
       "\n",
       "    .dataframe tbody tr th {\n",
       "        vertical-align: top;\n",
       "    }\n",
       "\n",
       "    .dataframe thead th {\n",
       "        text-align: right;\n",
       "    }\n",
       "</style>\n",
       "<table border=\"1\" class=\"dataframe\">\n",
       "  <thead>\n",
       "    <tr style=\"text-align: right;\">\n",
       "      <th></th>\n",
       "      <th>user_id</th>\n",
       "      <th>product_id</th>\n",
       "      <th>reordered</th>\n",
       "      <th>u_i_count</th>\n",
       "      <th>u_i_max_order</th>\n",
       "      <th>i_prob_per_order</th>\n",
       "      <th>u_i_reordered</th>\n",
       "      <th>u_i_ratio_reordered</th>\n",
       "      <th>u_total_order</th>\n",
       "      <th>avg_u_order</th>\n",
       "      <th>...</th>\n",
       "      <th>department_household</th>\n",
       "      <th>department_international</th>\n",
       "      <th>department_meat seafood</th>\n",
       "      <th>department_missing</th>\n",
       "      <th>department_other</th>\n",
       "      <th>department_pantry</th>\n",
       "      <th>department_personal care</th>\n",
       "      <th>department_pets</th>\n",
       "      <th>department_produce</th>\n",
       "      <th>department_snacks</th>\n",
       "    </tr>\n",
       "  </thead>\n",
       "  <tbody>\n",
       "    <tr>\n",
       "      <th>0</th>\n",
       "      <td>1</td>\n",
       "      <td>196.0</td>\n",
       "      <td>1.0</td>\n",
       "      <td>5</td>\n",
       "      <td>5</td>\n",
       "      <td>1.0</td>\n",
       "      <td>5</td>\n",
       "      <td>1.0</td>\n",
       "      <td>11</td>\n",
       "      <td>7.0</td>\n",
       "      <td>...</td>\n",
       "      <td>0</td>\n",
       "      <td>0</td>\n",
       "      <td>0</td>\n",
       "      <td>0</td>\n",
       "      <td>0</td>\n",
       "      <td>0</td>\n",
       "      <td>0</td>\n",
       "      <td>0</td>\n",
       "      <td>0</td>\n",
       "      <td>0</td>\n",
       "    </tr>\n",
       "    <tr>\n",
       "      <th>1</th>\n",
       "      <td>1</td>\n",
       "      <td>10258.0</td>\n",
       "      <td>1.0</td>\n",
       "      <td>5</td>\n",
       "      <td>5</td>\n",
       "      <td>1.0</td>\n",
       "      <td>5</td>\n",
       "      <td>1.0</td>\n",
       "      <td>11</td>\n",
       "      <td>7.0</td>\n",
       "      <td>...</td>\n",
       "      <td>0</td>\n",
       "      <td>0</td>\n",
       "      <td>0</td>\n",
       "      <td>0</td>\n",
       "      <td>0</td>\n",
       "      <td>0</td>\n",
       "      <td>0</td>\n",
       "      <td>0</td>\n",
       "      <td>0</td>\n",
       "      <td>1</td>\n",
       "    </tr>\n",
       "    <tr>\n",
       "      <th>2</th>\n",
       "      <td>1</td>\n",
       "      <td>12427.0</td>\n",
       "      <td>1.0</td>\n",
       "      <td>4</td>\n",
       "      <td>5</td>\n",
       "      <td>0.8</td>\n",
       "      <td>4</td>\n",
       "      <td>0.8</td>\n",
       "      <td>11</td>\n",
       "      <td>7.0</td>\n",
       "      <td>...</td>\n",
       "      <td>0</td>\n",
       "      <td>0</td>\n",
       "      <td>0</td>\n",
       "      <td>0</td>\n",
       "      <td>0</td>\n",
       "      <td>0</td>\n",
       "      <td>0</td>\n",
       "      <td>0</td>\n",
       "      <td>0</td>\n",
       "      <td>1</td>\n",
       "    </tr>\n",
       "    <tr>\n",
       "      <th>3</th>\n",
       "      <td>1</td>\n",
       "      <td>25133.0</td>\n",
       "      <td>1.0</td>\n",
       "      <td>5</td>\n",
       "      <td>5</td>\n",
       "      <td>1.0</td>\n",
       "      <td>5</td>\n",
       "      <td>1.0</td>\n",
       "      <td>11</td>\n",
       "      <td>7.0</td>\n",
       "      <td>...</td>\n",
       "      <td>0</td>\n",
       "      <td>0</td>\n",
       "      <td>0</td>\n",
       "      <td>0</td>\n",
       "      <td>0</td>\n",
       "      <td>0</td>\n",
       "      <td>0</td>\n",
       "      <td>0</td>\n",
       "      <td>0</td>\n",
       "      <td>0</td>\n",
       "    </tr>\n",
       "    <tr>\n",
       "      <th>4</th>\n",
       "      <td>1</td>\n",
       "      <td>13032.0</td>\n",
       "      <td>1.0</td>\n",
       "      <td>3</td>\n",
       "      <td>5</td>\n",
       "      <td>0.6</td>\n",
       "      <td>3</td>\n",
       "      <td>0.6</td>\n",
       "      <td>11</td>\n",
       "      <td>7.0</td>\n",
       "      <td>...</td>\n",
       "      <td>0</td>\n",
       "      <td>0</td>\n",
       "      <td>0</td>\n",
       "      <td>0</td>\n",
       "      <td>0</td>\n",
       "      <td>0</td>\n",
       "      <td>0</td>\n",
       "      <td>0</td>\n",
       "      <td>0</td>\n",
       "      <td>0</td>\n",
       "    </tr>\n",
       "  </tbody>\n",
       "</table>\n",
       "<p>5 rows × 70 columns</p>\n",
       "</div>"
      ],
      "text/plain": [
       "   user_id  product_id  reordered  u_i_count  u_i_max_order  i_prob_per_order  \\\n",
       "0        1       196.0        1.0          5              5               1.0   \n",
       "1        1     10258.0        1.0          5              5               1.0   \n",
       "2        1     12427.0        1.0          4              5               0.8   \n",
       "3        1     25133.0        1.0          5              5               1.0   \n",
       "4        1     13032.0        1.0          3              5               0.6   \n",
       "\n",
       "   u_i_reordered  u_i_ratio_reordered  u_total_order  avg_u_order  ...  \\\n",
       "0              5                  1.0             11          7.0  ...   \n",
       "1              5                  1.0             11          7.0  ...   \n",
       "2              4                  0.8             11          7.0  ...   \n",
       "3              5                  1.0             11          7.0  ...   \n",
       "4              3                  0.6             11          7.0  ...   \n",
       "\n",
       "   department_household  department_international  department_meat seafood  \\\n",
       "0                     0                         0                        0   \n",
       "1                     0                         0                        0   \n",
       "2                     0                         0                        0   \n",
       "3                     0                         0                        0   \n",
       "4                     0                         0                        0   \n",
       "\n",
       "   department_missing  department_other  department_pantry  \\\n",
       "0                   0                 0                  0   \n",
       "1                   0                 0                  0   \n",
       "2                   0                 0                  0   \n",
       "3                   0                 0                  0   \n",
       "4                   0                 0                  0   \n",
       "\n",
       "   department_personal care  department_pets  department_produce  \\\n",
       "0                         0                0                   0   \n",
       "1                         0                0                   0   \n",
       "2                         0                0                   0   \n",
       "3                         0                0                   0   \n",
       "4                         0                0                   0   \n",
       "\n",
       "   department_snacks  \n",
       "0                  0  \n",
       "1                  1  \n",
       "2                  1  \n",
       "3                  0  \n",
       "4                  0  \n",
       "\n",
       "[5 rows x 70 columns]"
      ]
     },
     "execution_count": 65,
     "metadata": {},
     "output_type": "execute_result"
    }
   ],
   "source": [
    "df_used.head()"
   ]
  },
  {
   "cell_type": "code",
   "execution_count": 4,
   "metadata": {},
   "outputs": [],
   "source": [
    "# getting the product and department \n",
    "products = pd.read_csv('products.csv')\n",
    "dept = pd.read_csv('departments.csv')\n",
    "prod_dept = pd.merge(products, dept, on='department_id', how='left')"
   ]
  },
  {
   "cell_type": "markdown",
   "metadata": {},
   "source": [
    "### Adjusting Dataframe"
   ]
  },
  {
   "cell_type": "markdown",
   "metadata": {},
   "source": [
    "We need to create a dataframe consists mainly user_id, product_id, rating and product_name."
   ]
  },
  {
   "cell_type": "code",
   "execution_count": 5,
   "metadata": {},
   "outputs": [],
   "source": [
    "# just grab the columns needed: user_id, product_id and i_prob_per_order\n",
    "rating_ = df_used[['user_id', 'product_id', 'i_prob_per_order']]"
   ]
  },
  {
   "cell_type": "code",
   "execution_count": 6,
   "metadata": {},
   "outputs": [
    {
     "data": {
      "text/html": [
       "<div>\n",
       "<style scoped>\n",
       "    .dataframe tbody tr th:only-of-type {\n",
       "        vertical-align: middle;\n",
       "    }\n",
       "\n",
       "    .dataframe tbody tr th {\n",
       "        vertical-align: top;\n",
       "    }\n",
       "\n",
       "    .dataframe thead th {\n",
       "        text-align: right;\n",
       "    }\n",
       "</style>\n",
       "<table border=\"1\" class=\"dataframe\">\n",
       "  <thead>\n",
       "    <tr style=\"text-align: right;\">\n",
       "      <th></th>\n",
       "      <th>user_id</th>\n",
       "      <th>product_id</th>\n",
       "      <th>i_prob_per_order</th>\n",
       "      <th>product_name</th>\n",
       "    </tr>\n",
       "  </thead>\n",
       "  <tbody>\n",
       "    <tr>\n",
       "      <th>0</th>\n",
       "      <td>1</td>\n",
       "      <td>196.0</td>\n",
       "      <td>1.0</td>\n",
       "      <td>Soda</td>\n",
       "    </tr>\n",
       "    <tr>\n",
       "      <th>1</th>\n",
       "      <td>1</td>\n",
       "      <td>10258.0</td>\n",
       "      <td>1.0</td>\n",
       "      <td>Pistachios</td>\n",
       "    </tr>\n",
       "    <tr>\n",
       "      <th>2</th>\n",
       "      <td>1</td>\n",
       "      <td>12427.0</td>\n",
       "      <td>0.8</td>\n",
       "      <td>Original Beef Jerky</td>\n",
       "    </tr>\n",
       "    <tr>\n",
       "      <th>3</th>\n",
       "      <td>1</td>\n",
       "      <td>25133.0</td>\n",
       "      <td>1.0</td>\n",
       "      <td>Organic String Cheese</td>\n",
       "    </tr>\n",
       "    <tr>\n",
       "      <th>4</th>\n",
       "      <td>1</td>\n",
       "      <td>13032.0</td>\n",
       "      <td>0.6</td>\n",
       "      <td>Cinnamon Toast Crunch</td>\n",
       "    </tr>\n",
       "  </tbody>\n",
       "</table>\n",
       "</div>"
      ],
      "text/plain": [
       "   user_id  product_id  i_prob_per_order           product_name\n",
       "0        1       196.0               1.0                   Soda\n",
       "1        1     10258.0               1.0             Pistachios\n",
       "2        1     12427.0               0.8    Original Beef Jerky\n",
       "3        1     25133.0               1.0  Organic String Cheese\n",
       "4        1     13032.0               0.6  Cinnamon Toast Crunch"
      ]
     },
     "execution_count": 6,
     "metadata": {},
     "output_type": "execute_result"
    }
   ],
   "source": [
    "# merger with rating_\n",
    "rating_ = pd.merge(rating_, products[['product_id', 'product_name']], \n",
    "                    on='product_id', how='left' )\n",
    "rating_.head()"
   ]
  },
  {
   "cell_type": "code",
   "execution_count": 58,
   "metadata": {},
   "outputs": [
    {
     "data": {
      "text/plain": [
       "(10193312, 4)"
      ]
     },
     "execution_count": 58,
     "metadata": {},
     "output_type": "execute_result"
    }
   ],
   "source": [
    "rating_.shape"
   ]
  },
  {
   "cell_type": "code",
   "execution_count": 7,
   "metadata": {},
   "outputs": [],
   "source": [
    "# drop duplicates\n",
    "rating_ = rating_.drop_duplicates()"
   ]
  },
  {
   "cell_type": "code",
   "execution_count": 8,
   "metadata": {},
   "outputs": [
    {
     "data": {
      "text/html": [
       "<div>\n",
       "<style scoped>\n",
       "    .dataframe tbody tr th:only-of-type {\n",
       "        vertical-align: middle;\n",
       "    }\n",
       "\n",
       "    .dataframe tbody tr th {\n",
       "        vertical-align: top;\n",
       "    }\n",
       "\n",
       "    .dataframe thead th {\n",
       "        text-align: right;\n",
       "    }\n",
       "</style>\n",
       "<table border=\"1\" class=\"dataframe\">\n",
       "  <thead>\n",
       "    <tr style=\"text-align: right;\">\n",
       "      <th></th>\n",
       "      <th>user_id</th>\n",
       "      <th>product_id</th>\n",
       "      <th>rating</th>\n",
       "      <th>product_name</th>\n",
       "    </tr>\n",
       "  </thead>\n",
       "  <tbody>\n",
       "    <tr>\n",
       "      <th>0</th>\n",
       "      <td>1</td>\n",
       "      <td>196.0</td>\n",
       "      <td>1.0</td>\n",
       "      <td>Soda</td>\n",
       "    </tr>\n",
       "    <tr>\n",
       "      <th>1</th>\n",
       "      <td>1</td>\n",
       "      <td>10258.0</td>\n",
       "      <td>1.0</td>\n",
       "      <td>Pistachios</td>\n",
       "    </tr>\n",
       "    <tr>\n",
       "      <th>2</th>\n",
       "      <td>1</td>\n",
       "      <td>12427.0</td>\n",
       "      <td>0.8</td>\n",
       "      <td>Original Beef Jerky</td>\n",
       "    </tr>\n",
       "    <tr>\n",
       "      <th>3</th>\n",
       "      <td>1</td>\n",
       "      <td>25133.0</td>\n",
       "      <td>1.0</td>\n",
       "      <td>Organic String Cheese</td>\n",
       "    </tr>\n",
       "    <tr>\n",
       "      <th>4</th>\n",
       "      <td>1</td>\n",
       "      <td>13032.0</td>\n",
       "      <td>0.6</td>\n",
       "      <td>Cinnamon Toast Crunch</td>\n",
       "    </tr>\n",
       "  </tbody>\n",
       "</table>\n",
       "</div>"
      ],
      "text/plain": [
       "   user_id  product_id  rating           product_name\n",
       "0        1       196.0     1.0                   Soda\n",
       "1        1     10258.0     1.0             Pistachios\n",
       "2        1     12427.0     0.8    Original Beef Jerky\n",
       "3        1     25133.0     1.0  Organic String Cheese\n",
       "4        1     13032.0     0.6  Cinnamon Toast Crunch"
      ]
     },
     "execution_count": 8,
     "metadata": {},
     "output_type": "execute_result"
    }
   ],
   "source": [
    "# rename 'i_prob_per_order' as rating\n",
    "rating_.rename(columns={'i_prob_per_order' : 'rating'}, inplace=True)\n",
    "rating_.head()"
   ]
  },
  {
   "cell_type": "code",
   "execution_count": 72,
   "metadata": {},
   "outputs": [
    {
     "data": {
      "text/plain": [
       "(6910976, 4)"
      ]
     },
     "execution_count": 72,
     "metadata": {},
     "output_type": "execute_result"
    }
   ],
   "source": [
    "# rating_ = df.used without duplicates\n",
    "rating_.shape"
   ]
  },
  {
   "cell_type": "markdown",
   "metadata": {},
   "source": [
    "Due to computational limitations, I will only use the first 100,000 rows for the surprise model: FunkSVD and ALS."
   ]
  },
  {
   "cell_type": "code",
   "execution_count": 9,
   "metadata": {},
   "outputs": [],
   "source": [
    "# using only user_id 1 - 100,000\n",
    "rating_df = rating_.head(100000)\n"
   ]
  },
  {
   "cell_type": "code",
   "execution_count": 11,
   "metadata": {},
   "outputs": [
    {
     "name": "stdout",
     "output_type": "stream",
     "text": [
      "Shape:  (100000, 4)\n",
      "Number of Unique user_id: 3014\n",
      "Number of Unique products: 17971\n"
     ]
    }
   ],
   "source": [
    "# check the dataset\n",
    "print('Shape: ', rating_df.shape)\n",
    "print('Number of Unique user_id:',len(rating_df['user_id'].unique()))\n",
    "print('Number of Unique products:',len(rating_df['product_id'].unique()))"
   ]
  },
  {
   "cell_type": "code",
   "execution_count": 20,
   "metadata": {},
   "outputs": [
    {
     "data": {
      "text/html": [
       "<div>\n",
       "<style scoped>\n",
       "    .dataframe tbody tr th:only-of-type {\n",
       "        vertical-align: middle;\n",
       "    }\n",
       "\n",
       "    .dataframe tbody tr th {\n",
       "        vertical-align: top;\n",
       "    }\n",
       "\n",
       "    .dataframe thead th {\n",
       "        text-align: right;\n",
       "    }\n",
       "</style>\n",
       "<table border=\"1\" class=\"dataframe\">\n",
       "  <thead>\n",
       "    <tr style=\"text-align: right;\">\n",
       "      <th></th>\n",
       "      <th>user_id</th>\n",
       "      <th>product_id</th>\n",
       "      <th>rating</th>\n",
       "      <th>product_name</th>\n",
       "    </tr>\n",
       "  </thead>\n",
       "  <tbody>\n",
       "  </tbody>\n",
       "</table>\n",
       "</div>"
      ],
      "text/plain": [
       "Empty DataFrame\n",
       "Columns: [user_id, product_id, rating, product_name]\n",
       "Index: []"
      ]
     },
     "execution_count": 20,
     "metadata": {},
     "output_type": "execute_result"
    }
   ],
   "source": [
    "# check if there is null values in the rating\n",
    "rating_df[rating_df['rating'].isna()]"
   ]
  },
  {
   "cell_type": "code",
   "execution_count": 77,
   "metadata": {},
   "outputs": [
    {
     "data": {
      "text/plain": [
       "array(['Soda', 'Pistachios', 'Original Beef Jerky',\n",
       "       'Organic String Cheese', 'Cinnamon Toast Crunch',\n",
       "       'Zero Calorie Cola', 'Organic Half & Half',\n",
       "       'Milk Chocolate Almonds', '0% Greek Strained Yogurt',\n",
       "       'Organic Unsweetened Almond Milk',\n",
       "       'XL Pick-A-Size Paper Towel Rolls', 'Aged White Cheddar Popcorn',\n",
       "       'Organic Whole Milk'], dtype=object)"
      ]
     },
     "execution_count": 77,
     "metadata": {},
     "output_type": "execute_result"
    }
   ],
   "source": [
    "# check for user id == 1\n",
    "rating_df[rating_df['user_id']==1].product_name.unique()"
   ]
  },
  {
   "cell_type": "code",
   "execution_count": 43,
   "metadata": {},
   "outputs": [
    {
     "name": "stdout",
     "output_type": "stream",
     "text": [
      "Min:0.2\n",
      "Max:1.0\n"
     ]
    }
   ],
   "source": [
    "# Check the min and max value of rating columns\n",
    "print(f'Min:{rating_df[\"rating\"].min()}')\n",
    "print(f'Max:{rating_df[\"rating\"].max()}')"
   ]
  },
  {
   "cell_type": "code",
   "execution_count": 45,
   "metadata": {},
   "outputs": [
    {
     "data": {
      "text/plain": [
       "<surprise.dataset.DatasetAutoFolds at 0x7ff0a95f80d0>"
      ]
     },
     "execution_count": 45,
     "metadata": {},
     "output_type": "execute_result"
    }
   ],
   "source": [
    "# Set the reader with accurate rating scale\n",
    "reader = Reader(rating_scale=(0.2,1))\n",
    "\n",
    "# Set the dataset\n",
    "# df parameter has to have 3 columns:\n",
    "# User ids, product ids and ratings\n",
    "data = Dataset.load_from_df(rating_df[['user_id','product_id','rating']], reader)\n",
    "data"
   ]
  },
  {
   "cell_type": "markdown",
   "metadata": {},
   "source": [
    "For this user based approach, I am going to use FunkSVD, SVD, KNNWithMeans and BaselineOnly. They works using matrix factorization which it decomposes high dimensional user-item matrix into low dimensional user matrix and item matrix. User matrix: each row represents a user and each column is latent factors. Item matrix: each row is latent factor and each column represent an item. Matrix factorization then use latent factors to represent user or item preferences so it can give recommendation.\n",
    "\n",
    "### FunkSVD\n",
    "\n",
    "The measurement metric used is fcp."
   ]
  },
  {
   "cell_type": "code",
   "execution_count": 46,
   "metadata": {},
   "outputs": [],
   "source": [
    "# Set the parameter grid\n",
    "param_grid = {\n",
    "    'n_factors': [50, 100], \n",
    "    'n_epochs': [10, 20],\n",
    "    'lr_all': [0.005, 0.007],\n",
    "    'biased': [False]}\n",
    "\n",
    "# Set GridSearchCV with 3 cross validation\n",
    "gs = GridSearchCV(FunkSVD, param_grid, measures=['fcp'], cv=3)\n",
    "\n",
    "# Fit the model\n",
    "gs.fit(data)"
   ]
  },
  {
   "cell_type": "code",
   "execution_count": 47,
   "metadata": {},
   "outputs": [
    {
     "name": "stdout",
     "output_type": "stream",
     "text": [
      "Best score: 0.2448318949780185\n",
      "Best parameter: {'n_factors': 100, 'n_epochs': 20, 'lr_all': 0.007, 'biased': False}\n"
     ]
    }
   ],
   "source": [
    "# Check the FCP accuracy score (1.0 is ideal and 0 is worst)\n",
    "print(f\"Best score: {gs.best_score['fcp']}\")\n",
    "# Check the best parameters\n",
    "print(f\"Best parameter: {gs.best_params['fcp']}\")"
   ]
  },
  {
   "cell_type": "markdown",
   "metadata": {},
   "source": [
    "Based on best parameter, we can build algorithm on train and test set to check the accuracy based on the prediction values."
   ]
  },
  {
   "cell_type": "code",
   "execution_count": 48,
   "metadata": {},
   "outputs": [],
   "source": [
    "# Split train test set\n",
    "train, test = train_test_split(data, test_size=0.2)\n",
    "\n",
    "# Set the algorithm\n",
    "svd = FunkSVD(n_factors=100, n_epochs=20, lr_all=0.007, biased=False, verbose=0)\n",
    "# Fit train set\n",
    "svd.fit(train)\n",
    "\n",
    "# Test the algorithm using test set\n",
    "pred = svd.test(test)"
   ]
  },
  {
   "cell_type": "code",
   "execution_count": 49,
   "metadata": {},
   "outputs": [],
   "source": [
    "# Put my_pred result in a dataframe\n",
    "svd_pred_df = pd.DataFrame(pred, columns=['user_id',\n",
    "                                        'product_id',\n",
    "                                        'actual',\n",
    "                                        'prediction',\n",
    "                                        'details'])\n",
    "\n",
    "# Calculate the difference of actual and prediction into diff column\n",
    "svd_pred_df['diff'] = abs(svd_pred_df['prediction'] - \n",
    "                            svd_pred_df['actual'])"
   ]
  },
  {
   "cell_type": "code",
   "execution_count": 50,
   "metadata": {},
   "outputs": [
    {
     "data": {
      "text/html": [
       "<div>\n",
       "<style scoped>\n",
       "    .dataframe tbody tr th:only-of-type {\n",
       "        vertical-align: middle;\n",
       "    }\n",
       "\n",
       "    .dataframe tbody tr th {\n",
       "        vertical-align: top;\n",
       "    }\n",
       "\n",
       "    .dataframe thead th {\n",
       "        text-align: right;\n",
       "    }\n",
       "</style>\n",
       "<table border=\"1\" class=\"dataframe\">\n",
       "  <thead>\n",
       "    <tr style=\"text-align: right;\">\n",
       "      <th></th>\n",
       "      <th>user_id</th>\n",
       "      <th>product_id</th>\n",
       "      <th>actual</th>\n",
       "      <th>prediction</th>\n",
       "      <th>details</th>\n",
       "      <th>diff</th>\n",
       "    </tr>\n",
       "  </thead>\n",
       "  <tbody>\n",
       "    <tr>\n",
       "      <th>0</th>\n",
       "      <td>1935</td>\n",
       "      <td>47966.0</td>\n",
       "      <td>0.2</td>\n",
       "      <td>0.200000</td>\n",
       "      <td>{'was_impossible': False}</td>\n",
       "      <td>0.000000</td>\n",
       "    </tr>\n",
       "    <tr>\n",
       "      <th>1</th>\n",
       "      <td>1483</td>\n",
       "      <td>3628.0</td>\n",
       "      <td>1.0</td>\n",
       "      <td>0.200000</td>\n",
       "      <td>{'was_impossible': False}</td>\n",
       "      <td>0.800000</td>\n",
       "    </tr>\n",
       "    <tr>\n",
       "      <th>2</th>\n",
       "      <td>1332</td>\n",
       "      <td>39475.0</td>\n",
       "      <td>0.2</td>\n",
       "      <td>0.200000</td>\n",
       "      <td>{'was_impossible': False}</td>\n",
       "      <td>0.000000</td>\n",
       "    </tr>\n",
       "    <tr>\n",
       "      <th>3</th>\n",
       "      <td>1071</td>\n",
       "      <td>7360.0</td>\n",
       "      <td>0.2</td>\n",
       "      <td>0.306483</td>\n",
       "      <td>{'was_impossible': True, 'reason': 'User and i...</td>\n",
       "      <td>0.106483</td>\n",
       "    </tr>\n",
       "    <tr>\n",
       "      <th>4</th>\n",
       "      <td>1847</td>\n",
       "      <td>23265.0</td>\n",
       "      <td>0.4</td>\n",
       "      <td>0.200000</td>\n",
       "      <td>{'was_impossible': False}</td>\n",
       "      <td>0.200000</td>\n",
       "    </tr>\n",
       "  </tbody>\n",
       "</table>\n",
       "</div>"
      ],
      "text/plain": [
       "   user_id  product_id  actual  prediction  \\\n",
       "0     1935     47966.0     0.2    0.200000   \n",
       "1     1483      3628.0     1.0    0.200000   \n",
       "2     1332     39475.0     0.2    0.200000   \n",
       "3     1071      7360.0     0.2    0.306483   \n",
       "4     1847     23265.0     0.4    0.200000   \n",
       "\n",
       "                                             details      diff  \n",
       "0                          {'was_impossible': False}  0.000000  \n",
       "1                          {'was_impossible': False}  0.800000  \n",
       "2                          {'was_impossible': False}  0.000000  \n",
       "3  {'was_impossible': True, 'reason': 'User and i...  0.106483  \n",
       "4                          {'was_impossible': False}  0.200000  "
      ]
     },
     "execution_count": 50,
     "metadata": {},
     "output_type": "execute_result"
    }
   ],
   "source": [
    "# Check the svd_pred_df\n",
    "svd_pred_df.head()"
   ]
  },
  {
   "cell_type": "code",
   "execution_count": 53,
   "metadata": {},
   "outputs": [
    {
     "data": {
      "text/plain": [
       "<surprise.prediction_algorithms.matrix_factorization.SVD at 0x7ff0a5bf3cd0>"
      ]
     },
     "execution_count": 53,
     "metadata": {},
     "output_type": "execute_result"
    }
   ],
   "source": [
    "# Build full trainset\n",
    "train_df = data.build_full_trainset()\n",
    "\n",
    "# Build the SVD algorithm\n",
    "my_svd = FunkSVD(n_factors=100, \n",
    "                 n_epochs=10, \n",
    "                 lr_all=0.007,    \n",
    "                 biased=False, \n",
    "                 verbose=0)\n",
    "\n",
    "# Fit with full trainset\n",
    "my_svd.fit(train_df)"
   ]
  },
  {
   "cell_type": "code",
   "execution_count": 60,
   "metadata": {},
   "outputs": [],
   "source": [
    "# Define the full test set\n",
    "test_df = train_df.build_anti_testset(fill=-1)"
   ]
  },
  {
   "cell_type": "code",
   "execution_count": 61,
   "metadata": {},
   "outputs": [],
   "source": [
    "# set the prediction\n",
    "pred = my_svd.test(test_df)"
   ]
  },
  {
   "cell_type": "code",
   "execution_count": 62,
   "metadata": {},
   "outputs": [],
   "source": [
    "# Put into a dataframe\n",
    "pred_df = pd.DataFrame(pred, columns=['user_id', 'product_id','actual', 'prediction','details'])                                 "
   ]
  },
  {
   "cell_type": "code",
   "execution_count": 75,
   "metadata": {},
   "outputs": [],
   "source": [
    "def recommender_FunkSVD(uid):\n",
    "    '''\n",
    "    Given a user_id, recommend new product using FunkSVD.\n",
    "    uid: user_id\n",
    "    '''\n",
    "    # check user_id prediction in pred_df\n",
    "    user_df = pred_df[pred_df['user_id'] == uid]\n",
    "    user_df = user_df.sort_values('prediction', ascending=False)\n",
    "    # merge with rating_df\n",
    "    df = user_df.merge(rating_df[['product_id', 'product_name']].drop_duplicates(), how='left', \n",
    "                    on = 'product_id')\n",
    "    return df.head(10)\n"
   ]
  },
  {
   "cell_type": "code",
   "execution_count": 76,
   "metadata": {},
   "outputs": [
    {
     "data": {
      "text/html": [
       "<div>\n",
       "<style scoped>\n",
       "    .dataframe tbody tr th:only-of-type {\n",
       "        vertical-align: middle;\n",
       "    }\n",
       "\n",
       "    .dataframe tbody tr th {\n",
       "        vertical-align: top;\n",
       "    }\n",
       "\n",
       "    .dataframe thead th {\n",
       "        text-align: right;\n",
       "    }\n",
       "</style>\n",
       "<table border=\"1\" class=\"dataframe\">\n",
       "  <thead>\n",
       "    <tr style=\"text-align: right;\">\n",
       "      <th></th>\n",
       "      <th>user_id</th>\n",
       "      <th>product_id</th>\n",
       "      <th>actual</th>\n",
       "      <th>prediction</th>\n",
       "      <th>details</th>\n",
       "      <th>product_name</th>\n",
       "    </tr>\n",
       "  </thead>\n",
       "  <tbody>\n",
       "    <tr>\n",
       "      <th>0</th>\n",
       "      <td>1</td>\n",
       "      <td>13252.0</td>\n",
       "      <td>-1.0</td>\n",
       "      <td>0.362472</td>\n",
       "      <td>{'was_impossible': False}</td>\n",
       "      <td>Baguette Sourdough</td>\n",
       "    </tr>\n",
       "    <tr>\n",
       "      <th>1</th>\n",
       "      <td>1</td>\n",
       "      <td>25368.0</td>\n",
       "      <td>-1.0</td>\n",
       "      <td>0.359813</td>\n",
       "      <td>{'was_impossible': False}</td>\n",
       "      <td>Complete Powder</td>\n",
       "    </tr>\n",
       "    <tr>\n",
       "      <th>2</th>\n",
       "      <td>1</td>\n",
       "      <td>17987.0</td>\n",
       "      <td>-1.0</td>\n",
       "      <td>0.349959</td>\n",
       "      <td>{'was_impossible': False}</td>\n",
       "      <td>Creamy Wheat Hot Cereal</td>\n",
       "    </tr>\n",
       "    <tr>\n",
       "      <th>3</th>\n",
       "      <td>1</td>\n",
       "      <td>33495.0</td>\n",
       "      <td>-1.0</td>\n",
       "      <td>0.329810</td>\n",
       "      <td>{'was_impossible': False}</td>\n",
       "      <td>Manzanilla Pimiento Stuffed Olives</td>\n",
       "    </tr>\n",
       "    <tr>\n",
       "      <th>4</th>\n",
       "      <td>1</td>\n",
       "      <td>40781.0</td>\n",
       "      <td>-1.0</td>\n",
       "      <td>0.328169</td>\n",
       "      <td>{'was_impossible': False}</td>\n",
       "      <td>Seasoned Turkey Burger</td>\n",
       "    </tr>\n",
       "    <tr>\n",
       "      <th>5</th>\n",
       "      <td>1</td>\n",
       "      <td>2826.0</td>\n",
       "      <td>-1.0</td>\n",
       "      <td>0.327593</td>\n",
       "      <td>{'was_impossible': False}</td>\n",
       "      <td>Blue Corn Chip Bowls</td>\n",
       "    </tr>\n",
       "    <tr>\n",
       "      <th>6</th>\n",
       "      <td>1</td>\n",
       "      <td>48142.0</td>\n",
       "      <td>-1.0</td>\n",
       "      <td>0.324245</td>\n",
       "      <td>{'was_impossible': False}</td>\n",
       "      <td>Diet</td>\n",
       "    </tr>\n",
       "    <tr>\n",
       "      <th>7</th>\n",
       "      <td>1</td>\n",
       "      <td>421.0</td>\n",
       "      <td>-1.0</td>\n",
       "      <td>0.323360</td>\n",
       "      <td>{'was_impossible': False}</td>\n",
       "      <td>Garlic &amp; Herb Fresh Goat Cheese</td>\n",
       "    </tr>\n",
       "    <tr>\n",
       "      <th>8</th>\n",
       "      <td>1</td>\n",
       "      <td>3892.0</td>\n",
       "      <td>-1.0</td>\n",
       "      <td>0.323192</td>\n",
       "      <td>{'was_impossible': False}</td>\n",
       "      <td>No-Scratch Refills</td>\n",
       "    </tr>\n",
       "    <tr>\n",
       "      <th>9</th>\n",
       "      <td>1</td>\n",
       "      <td>43590.0</td>\n",
       "      <td>-1.0</td>\n",
       "      <td>0.317878</td>\n",
       "      <td>{'was_impossible': False}</td>\n",
       "      <td>Chocolate Cupcake</td>\n",
       "    </tr>\n",
       "  </tbody>\n",
       "</table>\n",
       "</div>"
      ],
      "text/plain": [
       "   user_id  product_id  actual  prediction                    details  \\\n",
       "0        1     13252.0    -1.0    0.362472  {'was_impossible': False}   \n",
       "1        1     25368.0    -1.0    0.359813  {'was_impossible': False}   \n",
       "2        1     17987.0    -1.0    0.349959  {'was_impossible': False}   \n",
       "3        1     33495.0    -1.0    0.329810  {'was_impossible': False}   \n",
       "4        1     40781.0    -1.0    0.328169  {'was_impossible': False}   \n",
       "5        1      2826.0    -1.0    0.327593  {'was_impossible': False}   \n",
       "6        1     48142.0    -1.0    0.324245  {'was_impossible': False}   \n",
       "7        1       421.0    -1.0    0.323360  {'was_impossible': False}   \n",
       "8        1      3892.0    -1.0    0.323192  {'was_impossible': False}   \n",
       "9        1     43590.0    -1.0    0.317878  {'was_impossible': False}   \n",
       "\n",
       "                         product_name  \n",
       "0                  Baguette Sourdough  \n",
       "1                     Complete Powder  \n",
       "2             Creamy Wheat Hot Cereal  \n",
       "3  Manzanilla Pimiento Stuffed Olives  \n",
       "4              Seasoned Turkey Burger  \n",
       "5                Blue Corn Chip Bowls  \n",
       "6                                Diet  \n",
       "7     Garlic & Herb Fresh Goat Cheese  \n",
       "8                  No-Scratch Refills  \n",
       "9                   Chocolate Cupcake  "
      ]
     },
     "execution_count": 76,
     "metadata": {},
     "output_type": "execute_result"
    }
   ],
   "source": [
    "recommender_FunkSVD(1)"
   ]
  },
  {
   "cell_type": "markdown",
   "metadata": {},
   "source": [
    "The top recommendations using Funk_SVD for user 1 is Baquette Sourdough."
   ]
  },
  {
   "cell_type": "markdown",
   "metadata": {},
   "source": [
    "### SVD, KNNWtihMeans and BaselineOnly\n",
    "\n",
    "Comparing the accuracy metric (rmse) of SVD, KNNWithMeans and BaselineOnly to decide which model to use. \n"
   ]
  },
  {
   "cell_type": "code",
   "execution_count": 12,
   "metadata": {},
   "outputs": [
    {
     "data": {
      "text/plain": [
       "<surprise.dataset.DatasetAutoFolds at 0x7ff0a4ba8940>"
      ]
     },
     "execution_count": 12,
     "metadata": {},
     "output_type": "execute_result"
    }
   ],
   "source": [
    "# Set the reader with accurate rating scale\n",
    "reader = Reader(rating_scale=(0.2,1))\n",
    "\n",
    "# Set the dataset\n",
    "# df parameter has to have 3 columns:\n",
    "# User ids, product ids and ratings\n",
    "data = Dataset.load_from_df(rating_df[['user_id','product_id','rating']], reader)\n",
    "data"
   ]
  },
  {
   "cell_type": "markdown",
   "metadata": {},
   "source": [
    "Testing several algorithm using rmse as the accuracy metric."
   ]
  },
  {
   "cell_type": "code",
   "execution_count": 18,
   "metadata": {},
   "outputs": [
    {
     "name": "stderr",
     "output_type": "stream",
     "text": [
      "/var/folders/7n/qn9xwtc50ws_9tjv988jvnwm0000gn/T/ipykernel_875/880837798.py:7: FutureWarning: The series.append method is deprecated and will be removed from pandas in a future version. Use pandas.concat instead.\n",
      "  temp = temp.append(pd.Series([str(algo).split(' ')[0].split('.')[-1]], index=['Algorithm']))\n"
     ]
    },
    {
     "name": "stdout",
     "output_type": "stream",
     "text": [
      "Computing the msd similarity matrix...\n",
      "Done computing similarity matrix.\n",
      "Computing the msd similarity matrix...\n",
      "Done computing similarity matrix.\n",
      "Computing the msd similarity matrix...\n",
      "Done computing similarity matrix.\n"
     ]
    },
    {
     "name": "stderr",
     "output_type": "stream",
     "text": [
      "/var/folders/7n/qn9xwtc50ws_9tjv988jvnwm0000gn/T/ipykernel_875/880837798.py:7: FutureWarning: The series.append method is deprecated and will be removed from pandas in a future version. Use pandas.concat instead.\n",
      "  temp = temp.append(pd.Series([str(algo).split(' ')[0].split('.')[-1]], index=['Algorithm']))\n"
     ]
    },
    {
     "name": "stdout",
     "output_type": "stream",
     "text": [
      "Estimating biases using als...\n",
      "Estimating biases using als...\n",
      "Estimating biases using als...\n"
     ]
    },
    {
     "name": "stderr",
     "output_type": "stream",
     "text": [
      "/var/folders/7n/qn9xwtc50ws_9tjv988jvnwm0000gn/T/ipykernel_875/880837798.py:7: FutureWarning: The series.append method is deprecated and will be removed from pandas in a future version. Use pandas.concat instead.\n",
      "  temp = temp.append(pd.Series([str(algo).split(' ')[0].split('.')[-1]], index=['Algorithm']))\n"
     ]
    }
   ],
   "source": [
    "acc = []\n",
    "for algo in [SVD(), KNNWithMeans(), BaselineOnly()]:\n",
    "    # perform cross validation\n",
    "    results = cross_validate(algo, data, measures = ['rmse'], cv=3, verbose=0)\n",
    "    # get results\n",
    "    temp = pd.DataFrame.from_dict(results).mean(axis=0)\n",
    "    temp = temp.append(pd.Series([str(algo).split(' ')[0].split('.')[-1]], index=['Algorithm']))\n",
    "    acc.append(temp)"
   ]
  },
  {
   "cell_type": "code",
   "execution_count": 19,
   "metadata": {},
   "outputs": [
    {
     "data": {
      "text/html": [
       "<div>\n",
       "<style scoped>\n",
       "    .dataframe tbody tr th:only-of-type {\n",
       "        vertical-align: middle;\n",
       "    }\n",
       "\n",
       "    .dataframe tbody tr th {\n",
       "        vertical-align: top;\n",
       "    }\n",
       "\n",
       "    .dataframe thead th {\n",
       "        text-align: right;\n",
       "    }\n",
       "</style>\n",
       "<table border=\"1\" class=\"dataframe\">\n",
       "  <thead>\n",
       "    <tr style=\"text-align: right;\">\n",
       "      <th></th>\n",
       "      <th>test_rmse</th>\n",
       "      <th>fit_time</th>\n",
       "      <th>test_time</th>\n",
       "    </tr>\n",
       "    <tr>\n",
       "      <th>Algorithm</th>\n",
       "      <th></th>\n",
       "      <th></th>\n",
       "      <th></th>\n",
       "    </tr>\n",
       "  </thead>\n",
       "  <tbody>\n",
       "    <tr>\n",
       "      <th>BaselineOnly</th>\n",
       "      <td>0.169761</td>\n",
       "      <td>0.280534</td>\n",
       "      <td>0.189080</td>\n",
       "    </tr>\n",
       "    <tr>\n",
       "      <th>KNNWithMeans</th>\n",
       "      <td>0.182280</td>\n",
       "      <td>0.502991</td>\n",
       "      <td>1.793969</td>\n",
       "    </tr>\n",
       "    <tr>\n",
       "      <th>SVD</th>\n",
       "      <td>0.183612</td>\n",
       "      <td>4.346705</td>\n",
       "      <td>0.254670</td>\n",
       "    </tr>\n",
       "  </tbody>\n",
       "</table>\n",
       "</div>"
      ],
      "text/plain": [
       "              test_rmse  fit_time  test_time\n",
       "Algorithm                                   \n",
       "BaselineOnly   0.169761  0.280534   0.189080\n",
       "KNNWithMeans   0.182280  0.502991   1.793969\n",
       "SVD            0.183612  4.346705   0.254670"
      ]
     },
     "execution_count": 19,
     "metadata": {},
     "output_type": "execute_result"
    }
   ],
   "source": [
    "# make a dataframe for the results\n",
    "acc_results = pd.DataFrame(acc).set_index('Algorithm').sort_values('test_rmse')\n",
    "acc_results"
   ]
  },
  {
   "cell_type": "markdown",
   "metadata": {},
   "source": [
    "The BaselineOnly give the best test_rsme. So, we are going to Baseline ALS."
   ]
  },
  {
   "cell_type": "code",
   "execution_count": 20,
   "metadata": {},
   "outputs": [
    {
     "name": "stdout",
     "output_type": "stream",
     "text": [
      "Estimating biases using als...\n",
      "Estimating biases using als...\n",
      "Estimating biases using als...\n"
     ]
    },
    {
     "data": {
      "text/plain": [
       "{'test_rmse': array([0.16991095, 0.17071427, 0.16950125]),\n",
       " 'fit_time': (0.14738917350769043, 0.16742396354675293, 0.18449902534484863),\n",
       " 'test_time': (0.14118409156799316, 0.14026904106140137, 0.2520918846130371)}"
      ]
     },
     "execution_count": 20,
     "metadata": {},
     "output_type": "execute_result"
    }
   ],
   "source": [
    "# algorithm and cross validation\n",
    "bsl_options = {'method': 'als', 'n_epochs': 5, 'reg_u' : 12, 'reg_i':5 }\n",
    "algo = BaselineOnly(bsl_options=bsl_options)\n",
    "cross_validate(algo, data, measures=['rmse'], cv=3, verbose=0)"
   ]
  },
  {
   "cell_type": "code",
   "execution_count": 23,
   "metadata": {},
   "outputs": [
    {
     "name": "stdout",
     "output_type": "stream",
     "text": [
      "Estimating biases using als...\n",
      "RMSE: 0.1694\n"
     ]
    },
    {
     "data": {
      "text/plain": [
       "0.16941907626126135"
      ]
     },
     "execution_count": 23,
     "metadata": {},
     "output_type": "execute_result"
    }
   ],
   "source": [
    "# Split train test set\n",
    "trainset, testset = train_test_split(data, test_size=0.2)\n",
    "algo = BaselineOnly(bsl_options=bsl_options)\n",
    "als_pred = algo.fit(trainset).test(testset)\n",
    "accuracy.rmse(als_pred)"
   ]
  },
  {
   "cell_type": "code",
   "execution_count": 66,
   "metadata": {},
   "outputs": [
    {
     "name": "stdout",
     "output_type": "stream",
     "text": [
      "Estimating biases using als...\n"
     ]
    },
    {
     "data": {
      "text/plain": [
       "<surprise.prediction_algorithms.baseline_only.BaselineOnly at 0x7ff0a5bfec10>"
      ]
     },
     "execution_count": 66,
     "metadata": {},
     "output_type": "execute_result"
    }
   ],
   "source": [
    "# Build full trainset\n",
    "full_trainset = data.build_full_trainset()\n",
    "\n",
    "# Build the algorithm\n",
    "bsl_options = {'method': 'als', 'n_epochs': 5, 'reg_u' : 12, 'reg_i':5 }\n",
    "algo = BaselineOnly(bsl_options=bsl_options)\n",
    "\n",
    "# Fit with full trainset\n",
    "algo.fit(full_trainset)"
   ]
  },
  {
   "cell_type": "code",
   "execution_count": 67,
   "metadata": {},
   "outputs": [],
   "source": [
    "# Define the full test set\n",
    "full_testset = full_trainset.build_anti_testset(fill=-1)"
   ]
  },
  {
   "cell_type": "code",
   "execution_count": 68,
   "metadata": {},
   "outputs": [],
   "source": [
    "# prediction\n",
    "my_prediction = algo.test(full_testset)"
   ]
  },
  {
   "cell_type": "code",
   "execution_count": 70,
   "metadata": {},
   "outputs": [],
   "source": [
    "# make a dataframe\n",
    "df_pred_als = pd.DataFrame(my_prediction, columns=['user_id', 'product_id',\n",
    "                            'actual', 'prediction', 'deatils'])"
   ]
  },
  {
   "cell_type": "code",
   "execution_count": 73,
   "metadata": {},
   "outputs": [],
   "source": [
    "def recommender_als(uid):\n",
    "    '''\n",
    "    Given a user id, recommend product using als model.\n",
    "    uid: user id\n",
    "    '''\n",
    "    # check user_id prediction in df_pred_als\n",
    "    user_df = df_pred_als[df_pred_als['user_id'] == uid]\n",
    "    user_df = user_df.sort_values('prediction', ascending=False)\n",
    "    # merge with rating_df\n",
    "    df = user_df.merge(rating_df[['product_id', 'product_name']].drop_duplicates(), how='left', \n",
    "                    on = 'product_id')\n",
    "    return df.head(10)\n"
   ]
  },
  {
   "cell_type": "code",
   "execution_count": 74,
   "metadata": {},
   "outputs": [
    {
     "data": {
      "text/html": [
       "<div>\n",
       "<style scoped>\n",
       "    .dataframe tbody tr th:only-of-type {\n",
       "        vertical-align: middle;\n",
       "    }\n",
       "\n",
       "    .dataframe tbody tr th {\n",
       "        vertical-align: top;\n",
       "    }\n",
       "\n",
       "    .dataframe thead th {\n",
       "        text-align: right;\n",
       "    }\n",
       "</style>\n",
       "<table border=\"1\" class=\"dataframe\">\n",
       "  <thead>\n",
       "    <tr style=\"text-align: right;\">\n",
       "      <th></th>\n",
       "      <th>user_id</th>\n",
       "      <th>product_id</th>\n",
       "      <th>actual</th>\n",
       "      <th>prediction</th>\n",
       "      <th>deatils</th>\n",
       "      <th>product_name</th>\n",
       "    </tr>\n",
       "  </thead>\n",
       "  <tbody>\n",
       "    <tr>\n",
       "      <th>0</th>\n",
       "      <td>1</td>\n",
       "      <td>20339.0</td>\n",
       "      <td>-1.0</td>\n",
       "      <td>0.648802</td>\n",
       "      <td>{'was_impossible': False}</td>\n",
       "      <td>Chocolate Protein Soy &amp; Dairy Protein Shake</td>\n",
       "    </tr>\n",
       "    <tr>\n",
       "      <th>1</th>\n",
       "      <td>1</td>\n",
       "      <td>40174.0</td>\n",
       "      <td>-1.0</td>\n",
       "      <td>0.629267</td>\n",
       "      <td>{'was_impossible': False}</td>\n",
       "      <td>2% Reduced Fat Organic Milk</td>\n",
       "    </tr>\n",
       "    <tr>\n",
       "      <th>2</th>\n",
       "      <td>1</td>\n",
       "      <td>48041.0</td>\n",
       "      <td>-1.0</td>\n",
       "      <td>0.627592</td>\n",
       "      <td>{'was_impossible': False}</td>\n",
       "      <td>DanActive Vanilla Probiotic Dairy Drink</td>\n",
       "    </tr>\n",
       "    <tr>\n",
       "      <th>3</th>\n",
       "      <td>1</td>\n",
       "      <td>19660.0</td>\n",
       "      <td>-1.0</td>\n",
       "      <td>0.622873</td>\n",
       "      <td>{'was_impossible': False}</td>\n",
       "      <td>Spring Water</td>\n",
       "    </tr>\n",
       "    <tr>\n",
       "      <th>4</th>\n",
       "      <td>1</td>\n",
       "      <td>13176.0</td>\n",
       "      <td>-1.0</td>\n",
       "      <td>0.618814</td>\n",
       "      <td>{'was_impossible': False}</td>\n",
       "      <td>Bag of Organic Bananas</td>\n",
       "    </tr>\n",
       "    <tr>\n",
       "      <th>5</th>\n",
       "      <td>1</td>\n",
       "      <td>43693.0</td>\n",
       "      <td>-1.0</td>\n",
       "      <td>0.617536</td>\n",
       "      <td>{'was_impossible': False}</td>\n",
       "      <td>Whole Vitamin D Milk</td>\n",
       "    </tr>\n",
       "    <tr>\n",
       "      <th>6</th>\n",
       "      <td>1</td>\n",
       "      <td>31257.0</td>\n",
       "      <td>-1.0</td>\n",
       "      <td>0.615865</td>\n",
       "      <td>{'was_impossible': False}</td>\n",
       "      <td>Vegan Chocolate Chip Mini Muffins</td>\n",
       "    </tr>\n",
       "    <tr>\n",
       "      <th>7</th>\n",
       "      <td>1</td>\n",
       "      <td>24852.0</td>\n",
       "      <td>-1.0</td>\n",
       "      <td>0.615062</td>\n",
       "      <td>{'was_impossible': False}</td>\n",
       "      <td>Banana</td>\n",
       "    </tr>\n",
       "    <tr>\n",
       "      <th>8</th>\n",
       "      <td>1</td>\n",
       "      <td>43394.0</td>\n",
       "      <td>-1.0</td>\n",
       "      <td>0.611021</td>\n",
       "      <td>{'was_impossible': False}</td>\n",
       "      <td>Organic Lactose Free Whole Milk</td>\n",
       "    </tr>\n",
       "    <tr>\n",
       "      <th>9</th>\n",
       "      <td>1</td>\n",
       "      <td>31981.0</td>\n",
       "      <td>-1.0</td>\n",
       "      <td>0.607495</td>\n",
       "      <td>{'was_impossible': False}</td>\n",
       "      <td>1% Low Fat Milk</td>\n",
       "    </tr>\n",
       "  </tbody>\n",
       "</table>\n",
       "</div>"
      ],
      "text/plain": [
       "   user_id  product_id  actual  prediction                    deatils  \\\n",
       "0        1     20339.0    -1.0    0.648802  {'was_impossible': False}   \n",
       "1        1     40174.0    -1.0    0.629267  {'was_impossible': False}   \n",
       "2        1     48041.0    -1.0    0.627592  {'was_impossible': False}   \n",
       "3        1     19660.0    -1.0    0.622873  {'was_impossible': False}   \n",
       "4        1     13176.0    -1.0    0.618814  {'was_impossible': False}   \n",
       "5        1     43693.0    -1.0    0.617536  {'was_impossible': False}   \n",
       "6        1     31257.0    -1.0    0.615865  {'was_impossible': False}   \n",
       "7        1     24852.0    -1.0    0.615062  {'was_impossible': False}   \n",
       "8        1     43394.0    -1.0    0.611021  {'was_impossible': False}   \n",
       "9        1     31981.0    -1.0    0.607495  {'was_impossible': False}   \n",
       "\n",
       "                                  product_name  \n",
       "0  Chocolate Protein Soy & Dairy Protein Shake  \n",
       "1                  2% Reduced Fat Organic Milk  \n",
       "2      DanActive Vanilla Probiotic Dairy Drink  \n",
       "3                                 Spring Water  \n",
       "4                       Bag of Organic Bananas  \n",
       "5                         Whole Vitamin D Milk  \n",
       "6            Vegan Chocolate Chip Mini Muffins  \n",
       "7                                       Banana  \n",
       "8              Organic Lactose Free Whole Milk  \n",
       "9                              1% Low Fat Milk  "
      ]
     },
     "execution_count": 74,
     "metadata": {},
     "output_type": "execute_result"
    }
   ],
   "source": [
    "# recommender based on als\n",
    "recommender_als(1)"
   ]
  },
  {
   "cell_type": "markdown",
   "metadata": {},
   "source": [
    "Top recommendation using als for user 1 is chocolate protein soy & dairy protein shake."
   ]
  },
  {
   "cell_type": "markdown",
   "metadata": {},
   "source": [
    "## Neural Networks\n",
    "\n",
    "For Collaborative filtering neural network, I following the code from https://keras.io/examples/structured_data/collaborative_filtering_movielens/.\n",
    "\n",
    "To recommend products using neural network, there are 4 steps:\n",
    "1. map user_id to a user vector via an embedding matrix\n",
    "2. map product_id to a product vector via an embedding matrix\n",
    "3. compute the dot product between the two vectors to get a match score \n",
    "4. train the embeddings via gradient descent using all known user-product pairs"
   ]
  },
  {
   "cell_type": "code",
   "execution_count": 10,
   "metadata": {},
   "outputs": [
    {
     "name": "stdout",
     "output_type": "stream",
     "text": [
      "Number of users: 3014, Number of products: 17971, Min rating: 0.20000000298023224, Max rating: 1.0\n"
     ]
    },
    {
     "name": "stderr",
     "output_type": "stream",
     "text": [
      "/tmp/ipykernel_526/692516029.py:6: SettingWithCopyWarning: \n",
      "A value is trying to be set on a copy of a slice from a DataFrame.\n",
      "Try using .loc[row_indexer,col_indexer] = value instead\n",
      "\n",
      "See the caveats in the documentation: https://pandas.pydata.org/pandas-docs/stable/user_guide/indexing.html#returning-a-view-versus-a-copy\n",
      "  rating_df[\"user\"] = rating_df[\"user_id\"].map(user2user_encoded)\n",
      "/tmp/ipykernel_526/692516029.py:12: SettingWithCopyWarning: \n",
      "A value is trying to be set on a copy of a slice from a DataFrame.\n",
      "Try using .loc[row_indexer,col_indexer] = value instead\n",
      "\n",
      "See the caveats in the documentation: https://pandas.pydata.org/pandas-docs/stable/user_guide/indexing.html#returning-a-view-versus-a-copy\n",
      "  rating_df[\"product\"] = rating_df[\"product_id\"].map(product2product_encoded)\n",
      "/tmp/ipykernel_526/692516029.py:16: SettingWithCopyWarning: \n",
      "A value is trying to be set on a copy of a slice from a DataFrame.\n",
      "Try using .loc[row_indexer,col_indexer] = value instead\n",
      "\n",
      "See the caveats in the documentation: https://pandas.pydata.org/pandas-docs/stable/user_guide/indexing.html#returning-a-view-versus-a-copy\n",
      "  rating_df[\"rating\"] = rating_df[\"rating\"].values.astype(np.float32)\n"
     ]
    }
   ],
   "source": [
    "# using rating_df as the dataframe\n",
    "# preprocessing to encode users as integer indices\n",
    "user_ids = rating_df[\"user_id\"].unique().tolist()\n",
    "user2user_encoded = {x: i for i, x in enumerate(user_ids)}\n",
    "userencoded2user = {i: x for i, x in enumerate(user_ids)}\n",
    "rating_df[\"user\"] = rating_df[\"user_id\"].map(user2user_encoded)\n",
    "\n",
    "# preprocessing to encode products as integer indices\n",
    "product_ids = rating_df[\"product_id\"].unique().tolist()\n",
    "product2product_encoded = {x: i for i, x in enumerate(product_ids)}\n",
    "product_encoded2product = {i: x for i, x in enumerate(product_ids)}\n",
    "rating_df[\"product\"] = rating_df[\"product_id\"].map(product2product_encoded)\n",
    "\n",
    "num_users = len(user2user_encoded)\n",
    "num_products = len(product_encoded2product)\n",
    "rating_df[\"rating\"] = rating_df[\"rating\"].values.astype(np.float32)\n",
    "\n",
    "# min and max rating will be used to normalize the rating later\n",
    "min_rating = min(rating_df[\"rating\"])\n",
    "max_rating = max(rating_df[\"rating\"])\n",
    "\n",
    "print(\n",
    "    \"Number of users: {}, Number of products: {}, Min rating: {}, Max rating: {}\".format(\n",
    "        num_users, num_products, min_rating, max_rating))"
   ]
  },
  {
   "cell_type": "markdown",
   "metadata": {},
   "source": [
    "In here, I only split the data into train and validation set. "
   ]
  },
  {
   "cell_type": "code",
   "execution_count": 13,
   "metadata": {},
   "outputs": [],
   "source": [
    "# preparing Training and validation data\n",
    "rating = rating_df.sample(frac=1, random_state=42)\n",
    "x = rating[[\"user\", \"product\"]].values\n",
    "# Normalize the targets between 0 and 1. Makes it easy to train.\n",
    "y = rating[\"rating\"].apply(lambda x: (x - min_rating) / (max_rating - min_rating)).values\n",
    "# Assuming training on 80% of the data and validating on 20%.\n",
    "train_indices = int(0.8 * rating.shape[0])\n",
    "x_train, x_val, y_train, y_val = (\n",
    "    x[:train_indices],\n",
    "    x[train_indices:],\n",
    "    y[:train_indices],\n",
    "    y[train_indices:],\n",
    ")"
   ]
  },
  {
   "cell_type": "code",
   "execution_count": 14,
   "metadata": {},
   "outputs": [],
   "source": [
    "# embed movie and users in to EMBEDDING_SIZE dimentional vectors\n",
    "EMBEDDING_SIZE = 10\n",
    "\n",
    "# create a model to compute a dot product between user and products and add bias\n",
    "class RecommenderNet(keras.Model):\n",
    "    def __init__(self, num_users, num_products, embedding_size, **kwargs):\n",
    "        super(RecommenderNet, self).__init__(**kwargs)\n",
    "        self.num_users = num_users\n",
    "        self.num_products = num_products\n",
    "        self.embedding_size = embedding_size\n",
    "        self.user_embedding = layers.Embedding(\n",
    "            num_users,\n",
    "            embedding_size,\n",
    "            # using 'he_normal' as initializer\n",
    "            embeddings_initializer=\"he_normal\",\n",
    "            # using l2 as regulizers\n",
    "            embeddings_regularizer=keras.regularizers.l2(1e-6),\n",
    "        )\n",
    "        self.user_bias = layers.Embedding(num_users, 1)\n",
    "        self.product_embedding = layers.Embedding(\n",
    "            num_products,\n",
    "            embedding_size,\n",
    "            # using 'he_normal' as initializer\n",
    "            embeddings_initializer=\"he_normal\",\n",
    "            # using l2 as regulizers\n",
    "            embeddings_regularizer=keras.regularizers.l2(1e-6),\n",
    "        )\n",
    "        self.product_bias = layers.Embedding(num_products, 1)\n",
    "\n",
    "    def call(self, inputs):\n",
    "        # get user vector\n",
    "        user_vector = self.user_embedding(inputs[:, 0])\n",
    "        # get user bias\n",
    "        user_bias = self.user_bias(inputs[:, 0])\n",
    "        # get product vector\n",
    "        product_vector = self.product_embedding(inputs[:, 1])\n",
    "        # get product bias\n",
    "        product_bias = self.product_bias(inputs[:, 1])\n",
    "        # get dot product between user and product vectors\n",
    "        dot_user_product = tf.tensordot(user_vector, product_vector, 2)\n",
    "        # Add all the components (including bias)\n",
    "        x = dot_user_product + user_bias + product_bias\n",
    "        # The sigmoid activation forces the rating to between 0 and 1\n",
    "        return tf.nn.sigmoid(x)"
   ]
  },
  {
   "cell_type": "code",
   "execution_count": 15,
   "metadata": {},
   "outputs": [
    {
     "name": "stderr",
     "output_type": "stream",
     "text": [
      "2022-11-16 04:23:16.989453: I tensorflow/core/platform/cpu_feature_guard.cc:193] This TensorFlow binary is optimized with oneAPI Deep Neural Network Library (oneDNN) to use the following CPU instructions in performance-critical operations:  SSE4.1 SSE4.2\n",
      "To enable them in other operations, rebuild TensorFlow with the appropriate compiler flags.\n"
     ]
    }
   ],
   "source": [
    "# using learning_rate = 0.001\n",
    "model = RecommenderNet(num_users, num_products, EMBEDDING_SIZE)\n",
    "model.compile(\n",
    "    # using binary crossentropy as loss function\n",
    "    loss=tf.keras.losses.BinaryCrossentropy(),\n",
    "    # using Adam as optimizers\n",
    "    optimizer=keras.optimizers.Adam(learning_rate=0.001),\n",
    "    # provide accuracy metric\n",
    "    metrics=['accuracy']\n",
    ")"
   ]
  },
  {
   "cell_type": "code",
   "execution_count": 16,
   "metadata": {},
   "outputs": [
    {
     "name": "stdout",
     "output_type": "stream",
     "text": [
      "Epoch 1/10\n",
      "313/313 [==============================] - 3s 5ms/step - loss: 0.6239 - accuracy: 0.5457 - val_loss: 0.4341 - val_accuracy: 0.6191\n",
      "Epoch 2/10\n",
      "313/313 [==============================] - 1s 4ms/step - loss: 0.3895 - accuracy: 0.6212 - val_loss: 0.4091 - val_accuracy: 0.6191\n",
      "Epoch 3/10\n",
      "313/313 [==============================] - 1s 4ms/step - loss: 0.3851 - accuracy: 0.6212 - val_loss: 0.4088 - val_accuracy: 0.6191\n",
      "Epoch 4/10\n",
      "313/313 [==============================] - 1s 4ms/step - loss: 0.3810 - accuracy: 0.6212 - val_loss: 0.4017 - val_accuracy: 0.6191\n",
      "Epoch 5/10\n",
      "313/313 [==============================] - 1s 4ms/step - loss: 0.3768 - accuracy: 0.6212 - val_loss: 0.4006 - val_accuracy: 0.6191\n",
      "Epoch 6/10\n",
      "313/313 [==============================] - 1s 4ms/step - loss: 0.3731 - accuracy: 0.6212 - val_loss: 0.3982 - val_accuracy: 0.6191\n",
      "Epoch 7/10\n",
      "313/313 [==============================] - 1s 4ms/step - loss: 0.3694 - accuracy: 0.6212 - val_loss: 0.3970 - val_accuracy: 0.6192\n",
      "Epoch 8/10\n",
      "313/313 [==============================] - 1s 4ms/step - loss: 0.3662 - accuracy: 0.6213 - val_loss: 0.3961 - val_accuracy: 0.6195\n",
      "Epoch 9/10\n",
      "313/313 [==============================] - 1s 4ms/step - loss: 0.3634 - accuracy: 0.6212 - val_loss: 0.3941 - val_accuracy: 0.6197\n",
      "Epoch 10/10\n",
      "313/313 [==============================] - 1s 4ms/step - loss: 0.3604 - accuracy: 0.6213 - val_loss: 0.3933 - val_accuracy: 0.6196\n"
     ]
    }
   ],
   "source": [
    "# train model based on the data split\n",
    "history = model.fit(\n",
    "    x=x_train,\n",
    "    y=y_train,\n",
    "    batch_size=256,\n",
    "    epochs=10,\n",
    "    verbose=1,\n",
    "    validation_data=(x_val, y_val),\n",
    ")"
   ]
  },
  {
   "cell_type": "code",
   "execution_count": 18,
   "metadata": {},
   "outputs": [
    {
     "data": {
      "image/png": "[encoded data removed]",
      "text/plain": [
       "<Figure size 640x480 with 1 Axes>"
      ]
     },
     "metadata": {},
     "output_type": "display_data"
    }
   ],
   "source": [
    "# plot training and validation loss\n",
    "plt.plot(history.history[\"loss\"])\n",
    "plt.plot(history.history[\"val_loss\"])\n",
    "plt.title(\"model loss\")\n",
    "plt.ylabel(\"loss\")\n",
    "plt.xlabel(\"epoch\")\n",
    "plt.legend([\"train\", \"validation\"], loc=\"upper left\")\n",
    "plt.show()"
   ]
  },
  {
   "cell_type": "markdown",
   "metadata": {},
   "source": [
    "The validation set is overfitting. We can try to lower the learning rate, do not use the initializer and regularizer, use smaller batch size and more epochs."
   ]
  },
  {
   "cell_type": "code",
   "execution_count": 31,
   "metadata": {},
   "outputs": [],
   "source": [
    "# embed movie and users in to EMBEDDING_SIZE dimentional vectors\n",
    "EMBEDDING_SIZE = 20\n",
    "\n",
    "# create a model to compute a dot product between user and products and add bias\n",
    "class RecommenderNet(keras.Model):\n",
    "    def __init__(self, num_users, num_products, embedding_size, **kwargs):\n",
    "        super(RecommenderNet, self).__init__(**kwargs)\n",
    "        self.num_users = num_users\n",
    "        self.num_products = num_products\n",
    "        self.embedding_size = embedding_size\n",
    "        self.user_embedding = layers.Embedding(\n",
    "            num_users,\n",
    "            embedding_size,\n",
    "        )\n",
    "        self.user_bias = layers.Embedding(num_users, 1)\n",
    "        self.product_embedding = layers.Embedding(\n",
    "            num_products,\n",
    "            embedding_size,\n",
    "        )\n",
    "        self.product_bias = layers.Embedding(num_products, 1)\n",
    "\n",
    "    def call(self, inputs):\n",
    "        # get user vector\n",
    "        user_vector = self.user_embedding(inputs[:, 0])\n",
    "        # get user bias\n",
    "        user_bias = self.user_bias(inputs[:, 0])\n",
    "        # get product vector\n",
    "        product_vector = self.product_embedding(inputs[:, 1])\n",
    "        # get product bias\n",
    "        product_bias = self.product_bias(inputs[:, 1])\n",
    "        # get dot product between user and product vectors\n",
    "        dot_user_product = tf.tensordot(user_vector, product_vector, 2)\n",
    "        # Add all the components (including bias)\n",
    "        x = dot_user_product + user_bias + product_bias\n",
    "        # The sigmoid activation forces the rating to between 0 and 1\n",
    "        return tf.nn.sigmoid(x)"
   ]
  },
  {
   "cell_type": "code",
   "execution_count": 32,
   "metadata": {},
   "outputs": [],
   "source": [
    "# using learning_rate = 0.0005\n",
    "model = RecommenderNet(num_users, num_products, EMBEDDING_SIZE)\n",
    "model.compile(\n",
    "    # using binary crossentropy as loss function\n",
    "    loss=tf.keras.losses.BinaryCrossentropy(),\n",
    "    # using Adam as optimizers\n",
    "    optimizer=keras.optimizers.Adam(learning_rate=0.0005),\n",
    "    # provide accuracy metric\n",
    "    metrics=['accuracy'])"
   ]
  },
  {
   "cell_type": "code",
   "execution_count": 33,
   "metadata": {},
   "outputs": [
    {
     "name": "stdout",
     "output_type": "stream",
     "text": [
      "Epoch 1/30\n",
      "1250/1250 [==============================] - 10s 7ms/step - loss: 0.6589 - accuracy: 0.5297 - val_loss: 0.5916 - val_accuracy: 0.6191\n",
      "Epoch 2/30\n",
      "1250/1250 [==============================] - 9s 7ms/step - loss: 0.4289 - accuracy: 0.6212 - val_loss: 0.4087 - val_accuracy: 0.6191\n",
      "Epoch 3/30\n",
      "1250/1250 [==============================] - 9s 7ms/step - loss: 0.3876 - accuracy: 0.6212 - val_loss: 0.4154 - val_accuracy: 0.6191\n",
      "Epoch 4/30\n",
      "1250/1250 [==============================] - 9s 7ms/step - loss: 0.3818 - accuracy: 0.6212 - val_loss: 0.4132 - val_accuracy: 0.6191\n",
      "Epoch 5/30\n",
      "1250/1250 [==============================] - 9s 7ms/step - loss: 0.3771 - accuracy: 0.6212 - val_loss: 0.4088 - val_accuracy: 0.6191\n",
      "Epoch 6/30\n",
      "1250/1250 [==============================] - 9s 7ms/step - loss: 0.3725 - accuracy: 0.6212 - val_loss: 0.4106 - val_accuracy: 0.6191\n",
      "Epoch 7/30\n",
      "1250/1250 [==============================] - 9s 7ms/step - loss: 0.3687 - accuracy: 0.6213 - val_loss: 0.4096 - val_accuracy: 0.6192\n",
      "Epoch 8/30\n",
      "1250/1250 [==============================] - 9s 7ms/step - loss: 0.3652 - accuracy: 0.6212 - val_loss: 0.4069 - val_accuracy: 0.6195\n",
      "Epoch 9/30\n",
      "1250/1250 [==============================] - 9s 7ms/step - loss: 0.3622 - accuracy: 0.6213 - val_loss: 0.4052 - val_accuracy: 0.6193\n",
      "Epoch 10/30\n",
      "1250/1250 [==============================] - 9s 7ms/step - loss: 0.3592 - accuracy: 0.6213 - val_loss: 0.4027 - val_accuracy: 0.6191\n",
      "Epoch 11/30\n",
      "1250/1250 [==============================] - 9s 7ms/step - loss: 0.3572 - accuracy: 0.6214 - val_loss: 0.4032 - val_accuracy: 0.6188\n",
      "Epoch 12/30\n",
      "1250/1250 [==============================] - 9s 7ms/step - loss: 0.3550 - accuracy: 0.6215 - val_loss: 0.4024 - val_accuracy: 0.6189\n",
      "Epoch 13/30\n",
      "1250/1250 [==============================] - 9s 7ms/step - loss: 0.3527 - accuracy: 0.6215 - val_loss: 0.4033 - val_accuracy: 0.6188\n",
      "Epoch 14/30\n",
      "1250/1250 [==============================] - 9s 7ms/step - loss: 0.3509 - accuracy: 0.6215 - val_loss: 0.4009 - val_accuracy: 0.6186\n",
      "Epoch 15/30\n",
      "1250/1250 [==============================] - 9s 7ms/step - loss: 0.3490 - accuracy: 0.6216 - val_loss: 0.4013 - val_accuracy: 0.6184\n",
      "Epoch 16/30\n",
      "1250/1250 [==============================] - 9s 7ms/step - loss: 0.3481 - accuracy: 0.6217 - val_loss: 0.4003 - val_accuracy: 0.6190\n",
      "Epoch 17/30\n",
      "1250/1250 [==============================] - 9s 7ms/step - loss: 0.3462 - accuracy: 0.6217 - val_loss: 0.4027 - val_accuracy: 0.6187\n",
      "Epoch 18/30\n",
      "1250/1250 [==============================] - 9s 7ms/step - loss: 0.3447 - accuracy: 0.6218 - val_loss: 0.3963 - val_accuracy: 0.6187\n",
      "Epoch 19/30\n",
      "1250/1250 [==============================] - 9s 7ms/step - loss: 0.3435 - accuracy: 0.6219 - val_loss: 0.3947 - val_accuracy: 0.6184\n",
      "Epoch 20/30\n",
      "1250/1250 [==============================] - 9s 7ms/step - loss: 0.3420 - accuracy: 0.6221 - val_loss: 0.3993 - val_accuracy: 0.6175\n",
      "Epoch 21/30\n",
      "1250/1250 [==============================] - 9s 7ms/step - loss: 0.3413 - accuracy: 0.6222 - val_loss: 0.3944 - val_accuracy: 0.6184\n",
      "Epoch 22/30\n",
      "1250/1250 [==============================] - 9s 7ms/step - loss: 0.3405 - accuracy: 0.6221 - val_loss: 0.3954 - val_accuracy: 0.6180\n",
      "Epoch 23/30\n",
      "1250/1250 [==============================] - 9s 7ms/step - loss: 0.3390 - accuracy: 0.6223 - val_loss: 0.3925 - val_accuracy: 0.6180\n",
      "Epoch 24/30\n",
      "1250/1250 [==============================] - 9s 7ms/step - loss: 0.3385 - accuracy: 0.6223 - val_loss: 0.3917 - val_accuracy: 0.6181\n",
      "Epoch 25/30\n",
      "1250/1250 [==============================] - 9s 7ms/step - loss: 0.3371 - accuracy: 0.6224 - val_loss: 0.3930 - val_accuracy: 0.6170\n",
      "Epoch 26/30\n",
      "1250/1250 [==============================] - 9s 7ms/step - loss: 0.3367 - accuracy: 0.6226 - val_loss: 0.3907 - val_accuracy: 0.6171\n",
      "Epoch 27/30\n",
      "1250/1250 [==============================] - 9s 7ms/step - loss: 0.3355 - accuracy: 0.6226 - val_loss: 0.3940 - val_accuracy: 0.6166\n",
      "Epoch 28/30\n",
      "1250/1250 [==============================] - 9s 7ms/step - loss: 0.3349 - accuracy: 0.6228 - val_loss: 0.3907 - val_accuracy: 0.6169\n",
      "Epoch 29/30\n",
      "1250/1250 [==============================] - 9s 7ms/step - loss: 0.3341 - accuracy: 0.6229 - val_loss: 0.3928 - val_accuracy: 0.6165\n",
      "Epoch 30/30\n",
      "1250/1250 [==============================] - 9s 7ms/step - loss: 0.3339 - accuracy: 0.6230 - val_loss: 0.3944 - val_accuracy: 0.6158\n"
     ]
    }
   ],
   "source": [
    "# use lower batch size and more epochs\n",
    "# train model based on the data split\n",
    "history = model.fit(\n",
    "    x=x_train,\n",
    "    y=y_train,\n",
    "    batch_size=64,\n",
    "    epochs=30,\n",
    "    verbose=1,\n",
    "    validation_data=(x_val, y_val),\n",
    ")"
   ]
  },
  {
   "cell_type": "code",
   "execution_count": 34,
   "metadata": {},
   "outputs": [
    {
     "data": {
      "image/png": "[encoded data removed]",
      "text/plain": [
       "<Figure size 640x480 with 1 Axes>"
      ]
     },
     "metadata": {},
     "output_type": "display_data"
    }
   ],
   "source": [
    "# plot training and validation loss\n",
    "plt.plot(history.history[\"loss\"])\n",
    "plt.plot(history.history[\"val_loss\"])\n",
    "plt.title(\"model loss\")\n",
    "plt.ylabel(\"loss\")\n",
    "plt.xlabel(\"epoch\")\n",
    "plt.legend([\"train\", \"validation\"], loc=\"upper left\")\n",
    "plt.show()"
   ]
  },
  {
   "cell_type": "markdown",
   "metadata": {},
   "source": [
    "The data seems to be overfitting. Maybe we can use more data (using rating_ as the dataframe)."
   ]
  },
  {
   "cell_type": "markdown",
   "metadata": {},
   "source": [
    "### Using the rating_ dataframe to run in Neural Network"
   ]
  },
  {
   "cell_type": "code",
   "execution_count": 61,
   "metadata": {},
   "outputs": [
    {
     "data": {
      "text/html": [
       "<div>\n",
       "<style scoped>\n",
       "    .dataframe tbody tr th:only-of-type {\n",
       "        vertical-align: middle;\n",
       "    }\n",
       "\n",
       "    .dataframe tbody tr th {\n",
       "        vertical-align: top;\n",
       "    }\n",
       "\n",
       "    .dataframe thead th {\n",
       "        text-align: right;\n",
       "    }\n",
       "</style>\n",
       "<table border=\"1\" class=\"dataframe\">\n",
       "  <thead>\n",
       "    <tr style=\"text-align: right;\">\n",
       "      <th></th>\n",
       "      <th>user_id</th>\n",
       "      <th>product_id</th>\n",
       "      <th>rating</th>\n",
       "      <th>product_name</th>\n",
       "    </tr>\n",
       "  </thead>\n",
       "  <tbody>\n",
       "    <tr>\n",
       "      <th>0</th>\n",
       "      <td>1</td>\n",
       "      <td>196.0</td>\n",
       "      <td>1.0</td>\n",
       "      <td>Soda</td>\n",
       "    </tr>\n",
       "    <tr>\n",
       "      <th>1</th>\n",
       "      <td>1</td>\n",
       "      <td>10258.0</td>\n",
       "      <td>1.0</td>\n",
       "      <td>Pistachios</td>\n",
       "    </tr>\n",
       "    <tr>\n",
       "      <th>2</th>\n",
       "      <td>1</td>\n",
       "      <td>12427.0</td>\n",
       "      <td>0.8</td>\n",
       "      <td>Original Beef Jerky</td>\n",
       "    </tr>\n",
       "    <tr>\n",
       "      <th>3</th>\n",
       "      <td>1</td>\n",
       "      <td>25133.0</td>\n",
       "      <td>1.0</td>\n",
       "      <td>Organic String Cheese</td>\n",
       "    </tr>\n",
       "    <tr>\n",
       "      <th>4</th>\n",
       "      <td>1</td>\n",
       "      <td>13032.0</td>\n",
       "      <td>0.6</td>\n",
       "      <td>Cinnamon Toast Crunch</td>\n",
       "    </tr>\n",
       "  </tbody>\n",
       "</table>\n",
       "</div>"
      ],
      "text/plain": [
       "   user_id  product_id  rating           product_name\n",
       "0        1       196.0     1.0                   Soda\n",
       "1        1     10258.0     1.0             Pistachios\n",
       "2        1     12427.0     0.8    Original Beef Jerky\n",
       "3        1     25133.0     1.0  Organic String Cheese\n",
       "4        1     13032.0     0.6  Cinnamon Toast Crunch"
      ]
     },
     "execution_count": 61,
     "metadata": {},
     "output_type": "execute_result"
    }
   ],
   "source": [
    "rating_.head()"
   ]
  },
  {
   "cell_type": "code",
   "execution_count": 62,
   "metadata": {},
   "outputs": [
    {
     "name": "stdout",
     "output_type": "stream",
     "text": [
      "Number of users: 206209, Number of products: 48867, Min rating: 0.20000000298023224, Max rating: 1.0\n"
     ]
    }
   ],
   "source": [
    "# preprocessing to encode users as integer indices\n",
    "user_ids = rating_[\"user_id\"].unique().tolist()\n",
    "user2user_encoded = {x: i for i, x in enumerate(user_ids)}\n",
    "userencoded2user = {i: x for i, x in enumerate(user_ids)}\n",
    "rating_[\"user\"] = rating_[\"user_id\"].map(user2user_encoded)\n",
    "\n",
    "# preprocessing to encode products as integer indices\n",
    "product_ids = rating_[\"product_id\"].unique().tolist()\n",
    "product2product_encoded = {x: i for i, x in enumerate(product_ids)}\n",
    "product_encoded2product = {i: x for i, x in enumerate(product_ids)}\n",
    "rating_[\"product\"] = rating_[\"product_id\"].map(product2product_encoded)\n",
    "\n",
    "num_users = len(user2user_encoded)\n",
    "num_products = len(product_encoded2product)\n",
    "rating_[\"rating\"] = rating_[\"rating\"].values.astype(np.float32)\n",
    "\n",
    "# min and max rating will be used to normalize the rating later\n",
    "min_rating = min(rating_[\"rating\"])\n",
    "max_rating = max(rating_[\"rating\"])\n",
    "\n",
    "print(\n",
    "    \"Number of users: {}, Number of products: {}, Min rating: {}, Max rating: {}\".format(\n",
    "        num_users, num_products, min_rating, max_rating))"
   ]
  },
  {
   "cell_type": "code",
   "execution_count": 63,
   "metadata": {},
   "outputs": [],
   "source": [
    "# preparing Training and validation data\n",
    "rating = rating_.sample(frac=1, random_state=42)\n",
    "x = rating[[\"user\", \"product\"]].values\n",
    "# Normalize the targets between 0 and 1. Makes it easy to train.\n",
    "y = rating[\"rating\"].apply(lambda x: (x - min_rating) / (max_rating - min_rating)).values\n",
    "# Assuming training on 80% of the data and validating on 20%.\n",
    "train_indices = int(0.8 * rating.shape[0])\n",
    "x_train, x_val, y_train, y_val = (\n",
    "    x[:train_indices],\n",
    "    x[train_indices:],\n",
    "    y[:train_indices],\n",
    "    y[train_indices:],\n",
    ")"
   ]
  },
  {
   "cell_type": "code",
   "execution_count": 64,
   "metadata": {},
   "outputs": [],
   "source": [
    "# embed movie and users in to EMBEDDING_SIZE dimentional vectors\n",
    "EMBEDDING_SIZE = 10\n",
    "\n",
    "# create a model to compute a dot product between user and products and add bias\n",
    "class RecommenderNet(keras.Model):\n",
    "    def __init__(self, num_users, num_products, embedding_size, **kwargs):\n",
    "        super(RecommenderNet, self).__init__(**kwargs)\n",
    "        self.num_users = num_users\n",
    "        self.num_products = num_products\n",
    "        self.embedding_size = embedding_size\n",
    "        self.user_embedding = layers.Embedding(\n",
    "            num_users,\n",
    "            embedding_size,\n",
    "            # using 'he_normal' as initializer\n",
    "            embeddings_initializer=\"he_normal\",\n",
    "            # using l2 as regulizers\n",
    "            embeddings_regularizer=keras.regularizers.l2(1e-6),\n",
    "        )\n",
    "        self.user_bias = layers.Embedding(num_users, 1)\n",
    "        self.product_embedding = layers.Embedding(\n",
    "            num_products,\n",
    "            embedding_size,\n",
    "            # using 'he_normal' as initializer\n",
    "            embeddings_initializer=\"he_normal\",\n",
    "            # using l2 as regulizers\n",
    "            embeddings_regularizer=keras.regularizers.l2(1e-6),\n",
    "        )\n",
    "        self.product_bias = layers.Embedding(num_products, 1)\n",
    "\n",
    "    def call(self, inputs):\n",
    "        user_vector = self.user_embedding(inputs[:, 0])\n",
    "        user_bias = self.user_bias(inputs[:, 0])\n",
    "        product_vector = self.product_embedding(inputs[:, 1])\n",
    "        product_bias = self.product_bias(inputs[:, 1])\n",
    "        # get dot product between user and product vectors\n",
    "        dot_user_product = tf.tensordot(user_vector, product_vector, 2)\n",
    "        # Add all the components (including bias)\n",
    "        x = dot_user_product + user_bias + product_bias\n",
    "        # The sigmoid activation forces the rating to between 0 and 1\n",
    "        return tf.nn.sigmoid(x)\n"
   ]
  },
  {
   "cell_type": "code",
   "execution_count": 32,
   "metadata": {},
   "outputs": [],
   "source": [
    "# using learning_rate = 0.001\n",
    "model = RecommenderNet(num_users, num_products, EMBEDDING_SIZE)\n",
    "model.compile(\n",
    "    # using binary crossentropy as loss function\n",
    "    loss=tf.keras.losses.BinaryCrossentropy(),\n",
    "    # using Adam as optimizers      \n",
    "    optimizer=keras.optimizers.Adam(learning_rate=0.001),\n",
    ")"
   ]
  },
  {
   "cell_type": "code",
   "execution_count": 33,
   "metadata": {},
   "outputs": [
    {
     "name": "stdout",
     "output_type": "stream",
     "text": [
      "Epoch 1/5\n",
      "21597/21597 [==============================] - 419s 19ms/step - loss: 0.3993 - val_loss: 0.3875\n",
      "Epoch 2/5\n",
      "21597/21597 [==============================] - 373s 17ms/step - loss: 0.3881 - val_loss: 0.3944\n",
      "Epoch 3/5\n",
      "21597/21597 [==============================] - 374s 17ms/step - loss: 0.3918 - val_loss: 0.3985\n",
      "Epoch 4/5\n",
      "21597/21597 [==============================] - 374s 17ms/step - loss: 0.3949 - val_loss: 0.4024\n",
      "Epoch 5/5\n",
      "21597/21597 [==============================] - 373s 17ms/step - loss: 0.3970 - val_loss: 0.4047\n"
     ]
    }
   ],
   "source": [
    "# train model based on the data split\n",
    "history = model.fit(\n",
    "    x=x_train,\n",
    "    y=y_train,\n",
    "    batch_size=256,\n",
    "    epochs=5,\n",
    "    verbose=1,\n",
    "    validation_data=(x_val, y_val),\n",
    ")"
   ]
  },
  {
   "cell_type": "code",
   "execution_count": 34,
   "metadata": {},
   "outputs": [
    {
     "data": {
      "image/png": "[encoded data removed]",
      "text/plain": [
       "<Figure size 640x480 with 1 Axes>"
      ]
     },
     "metadata": {},
     "output_type": "display_data"
    }
   ],
   "source": [
    "# plot training and validation loss\n",
    "plt.plot(history.history[\"loss\"])\n",
    "plt.plot(history.history[\"val_loss\"])\n",
    "plt.title(\"model loss\")\n",
    "plt.ylabel(\"loss\")\n",
    "plt.xlabel(\"epoch\")\n",
    "plt.legend([\"train\", \"validation\"], loc=\"upper left\")\n",
    "plt.show()"
   ]
  },
  {
   "cell_type": "markdown",
   "metadata": {},
   "source": [
    "The loss of both train and validation set is getting higher, we can try to lower the learning rate and add accuracy metric."
   ]
  },
  {
   "cell_type": "code",
   "execution_count": 68,
   "metadata": {},
   "outputs": [],
   "source": [
    "# using learning_rate = 0.0001\n",
    "model1 = RecommenderNet(num_users, num_products, EMBEDDING_SIZE)\n",
    "model1.compile(\n",
    "    # using binary crossentropy as loss function\n",
    "    loss=tf.keras.losses.BinaryCrossentropy(),\n",
    "    # using Adam as optimizers\n",
    "    optimizer=keras.optimizers.Adam(learning_rate=0.0001),\n",
    "    # provide accuracy metric\n",
    "    metrics=['accuracy'])"
   ]
  },
  {
   "cell_type": "code",
   "execution_count": 69,
   "metadata": {},
   "outputs": [
    {
     "name": "stdout",
     "output_type": "stream",
     "text": [
      "Epoch 1/10\n",
      "21597/21597 [==============================] - 375s 17ms/step - loss: 0.4489 - accuracy: 0.5948 - val_loss: 0.3846 - val_accuracy: 0.6165\n",
      "Epoch 2/10\n",
      "21597/21597 [==============================] - 374s 17ms/step - loss: 0.3814 - accuracy: 0.6163 - val_loss: 0.3788 - val_accuracy: 0.6165\n",
      "Epoch 3/10\n",
      "21597/21597 [==============================] - 374s 17ms/step - loss: 0.3765 - accuracy: 0.6163 - val_loss: 0.3755 - val_accuracy: 0.6165\n",
      "Epoch 4/10\n",
      "21597/21597 [==============================] - 374s 17ms/step - loss: 0.3732 - accuracy: 0.6163 - val_loss: 0.3730 - val_accuracy: 0.6165\n",
      "Epoch 5/10\n",
      "21597/21597 [==============================] - 375s 17ms/step - loss: 0.3705 - accuracy: 0.6163 - val_loss: 0.3710 - val_accuracy: 0.6165\n",
      "Epoch 6/10\n",
      "21597/21597 [==============================] - 373s 17ms/step - loss: 0.3683 - accuracy: 0.6163 - val_loss: 0.3693 - val_accuracy: 0.6165\n",
      "Epoch 7/10\n",
      "21597/21597 [==============================] - 374s 17ms/step - loss: 0.3664 - accuracy: 0.6163 - val_loss: 0.3679 - val_accuracy: 0.6165\n",
      "Epoch 8/10\n",
      "21597/21597 [==============================] - 374s 17ms/step - loss: 0.3647 - accuracy: 0.6163 - val_loss: 0.3667 - val_accuracy: 0.6165\n",
      "Epoch 9/10\n",
      "21597/21597 [==============================] - 373s 17ms/step - loss: 0.3632 - accuracy: 0.6163 - val_loss: 0.3657 - val_accuracy: 0.6165\n",
      "Epoch 10/10\n",
      "21597/21597 [==============================] - 372s 17ms/step - loss: 0.3618 - accuracy: 0.6163 - val_loss: 0.3646 - val_accuracy: 0.6165\n"
     ]
    }
   ],
   "source": [
    "# train model based on the data split\n",
    "history1 = model1.fit(\n",
    "        x=x_train,\n",
    "        y=y_train,\n",
    "        batch_size=256,\n",
    "        epochs=10,\n",
    "        verbose=1,\n",
    "        validation_data=(x_val, y_val))"
   ]
  },
  {
   "cell_type": "code",
   "execution_count": 72,
   "metadata": {},
   "outputs": [
    {
     "data": {
      "image/png": "[encoded data removed]",
      "text/plain": [
       "<Figure size 640x480 with 1 Axes>"
      ]
     },
     "metadata": {},
     "output_type": "display_data"
    }
   ],
   "source": [
    "# plot training and validation loss\n",
    "plt.plot(history1.history[\"loss\"])\n",
    "plt.plot(history1.history[\"val_loss\"])\n",
    "plt.title(\"model loss\")\n",
    "plt.ylabel(\"loss\")\n",
    "plt.xlabel(\"epoch\")\n",
    "plt.legend([\"train\", \"validation\"], loc=\"upper left\")\n",
    "plt.show()"
   ]
  },
  {
   "cell_type": "markdown",
   "metadata": {},
   "source": [
    "Since the accuracy above does not improve, I am trying to increase embedding size to see if there is any difference."
   ]
  },
  {
   "cell_type": "code",
   "execution_count": 78,
   "metadata": {},
   "outputs": [],
   "source": [
    "# using embedding_size 15 instead of 10\n",
    "EMBEDDING_SIZE = 15\n",
    "# using learning_rate = 0.0001\n",
    "model = RecommenderNet(num_users, num_products, EMBEDDING_SIZE)\n",
    "model.compile(\n",
    "    # using binary crossentropy as loss function\n",
    "    loss=tf.keras.losses.BinaryCrossentropy(),\n",
    "    # using Adam as optimizers\n",
    "    optimizer=keras.optimizers.Adam(learning_rate=0.0001),\n",
    "    # provide accuracy metric\n",
    "    metrics=[keras.metrics.BinaryAccuracy()])"
   ]
  },
  {
   "cell_type": "code",
   "execution_count": 76,
   "metadata": {},
   "outputs": [
    {
     "name": "stdout",
     "output_type": "stream",
     "text": [
      "Epoch 1/10\n",
      "21597/21597 [==============================] - 584s 27ms/step - loss: 0.4380 - binary_accuracy: 0.5978 - val_loss: 0.3844 - val_binary_accuracy: 0.6165\n",
      "Epoch 2/10\n",
      "21597/21597 [==============================] - 570s 26ms/step - loss: 0.3812 - binary_accuracy: 0.6163 - val_loss: 0.3789 - val_binary_accuracy: 0.6165\n",
      "Epoch 3/10\n",
      "21597/21597 [==============================] - 567s 26ms/step - loss: 0.3766 - binary_accuracy: 0.6163 - val_loss: 0.3757 - val_binary_accuracy: 0.6165\n",
      "Epoch 4/10\n",
      "21597/21597 [==============================] - 567s 26ms/step - loss: 0.3733 - binary_accuracy: 0.6163 - val_loss: 0.3731 - val_binary_accuracy: 0.6165\n",
      "Epoch 5/10\n",
      "21597/21597 [==============================] - 568s 26ms/step - loss: 0.3707 - binary_accuracy: 0.6163 - val_loss: 0.3711 - val_binary_accuracy: 0.6165\n",
      "Epoch 6/10\n",
      "21597/21597 [==============================] - 565s 26ms/step - loss: 0.3685 - binary_accuracy: 0.6163 - val_loss: 0.3695 - val_binary_accuracy: 0.6165\n",
      "Epoch 7/10\n",
      "21597/21597 [==============================] - 563s 26ms/step - loss: 0.3666 - binary_accuracy: 0.6163 - val_loss: 0.3683 - val_binary_accuracy: 0.6165\n",
      "Epoch 8/10\n",
      "21597/21597 [==============================] - 565s 26ms/step - loss: 0.3649 - binary_accuracy: 0.6163 - val_loss: 0.3669 - val_binary_accuracy: 0.6165\n",
      "Epoch 9/10\n",
      "21597/21597 [==============================] - 564s 26ms/step - loss: 0.3634 - binary_accuracy: 0.6163 - val_loss: 0.3658 - val_binary_accuracy: 0.6165\n",
      "Epoch 10/10\n",
      "21597/21597 [==============================] - 562s 26ms/step - loss: 0.3620 - binary_accuracy: 0.6163 - val_loss: 0.3648 - val_binary_accuracy: 0.6165\n"
     ]
    }
   ],
   "source": [
    "# train model based on the data split\n",
    "history = model.fit(\n",
    "        x=x_train,\n",
    "        y=y_train,\n",
    "        batch_size=256,\n",
    "        epochs=10,\n",
    "        verbose=1,\n",
    "        validation_data=(x_val, y_val))"
   ]
  },
  {
   "cell_type": "code",
   "execution_count": 77,
   "metadata": {},
   "outputs": [
    {
     "data": {
      "image/png": "[encoded data removed]",
      "text/plain": [
       "<Figure size 640x480 with 1 Axes>"
      ]
     },
     "metadata": {},
     "output_type": "display_data"
    }
   ],
   "source": [
    "# plot training and validation loss\n",
    "plt.plot(history.history[\"loss\"])\n",
    "plt.plot(history.history[\"val_loss\"])\n",
    "plt.title(\"model loss\")\n",
    "plt.ylabel(\"loss\")\n",
    "plt.xlabel(\"epoch\")\n",
    "plt.legend([\"train\", \"validation\"], loc=\"upper left\")\n",
    "plt.show()"
   ]
  },
  {
   "cell_type": "markdown",
   "metadata": {},
   "source": [
    "Since the accuracy more or less the same when adding embedding size, I want to run another model using original embedding_size=10, smaller learning_rate=0.0001, longer epoch to 15 and smaller batch_size=128."
   ]
  },
  {
   "cell_type": "code",
   "execution_count": 81,
   "metadata": {},
   "outputs": [],
   "source": [
    "EMBEDDING_SIZE = 10\n",
    "# using learning_rate = 0.00001\n",
    "model = RecommenderNet(num_users, num_products, EMBEDDING_SIZE)\n",
    "model.compile(\n",
    "    # using binary crossentropy as loss function\n",
    "    loss=tf.keras.losses.BinaryCrossentropy(),\n",
    "    # using Adam as optimizers\n",
    "    optimizer=keras.optimizers.Adam(learning_rate=0.00001),\n",
    "    # provide accuracy metric\n",
    "    metrics=[keras.metrics.BinaryAccuracy()])"
   ]
  },
  {
   "cell_type": "code",
   "execution_count": 82,
   "metadata": {},
   "outputs": [
    {
     "name": "stdout",
     "output_type": "stream",
     "text": [
      "Epoch 1/15\n",
      "43194/43194 [==============================] - 778s 18ms/step - loss: 0.6782 - binary_accuracy: 0.4716 - val_loss: 0.6509 - val_binary_accuracy: 0.6087\n",
      "Epoch 2/15\n",
      "43194/43194 [==============================] - 775s 18ms/step - loss: 0.5522 - binary_accuracy: 0.6161 - val_loss: 0.4418 - val_binary_accuracy: 0.6165\n",
      "Epoch 3/15\n",
      "43194/43194 [==============================] - 783s 18ms/step - loss: 0.4014 - binary_accuracy: 0.6163 - val_loss: 0.3929 - val_binary_accuracy: 0.6165\n",
      "Epoch 4/15\n",
      "43194/43194 [==============================] - 769s 18ms/step - loss: 0.3920 - binary_accuracy: 0.6163 - val_loss: 0.3908 - val_binary_accuracy: 0.6165\n",
      "Epoch 5/15\n",
      "43194/43194 [==============================] - 771s 18ms/step - loss: 0.3899 - binary_accuracy: 0.6163 - val_loss: 0.3889 - val_binary_accuracy: 0.6165\n",
      "Epoch 6/15\n",
      "43194/43194 [==============================] - 769s 18ms/step - loss: 0.3880 - binary_accuracy: 0.6163 - val_loss: 0.3873 - val_binary_accuracy: 0.6165\n",
      "Epoch 7/15\n",
      "43194/43194 [==============================] - 766s 18ms/step - loss: 0.3865 - binary_accuracy: 0.6163 - val_loss: 0.3859 - val_binary_accuracy: 0.6165\n",
      "Epoch 8/15\n",
      "43194/43194 [==============================] - 770s 18ms/step - loss: 0.3851 - binary_accuracy: 0.6163 - val_loss: 0.3847 - val_binary_accuracy: 0.6165\n",
      "Epoch 9/15\n",
      "43194/43194 [==============================] - 767s 18ms/step - loss: 0.3840 - binary_accuracy: 0.6163 - val_loss: 0.3837 - val_binary_accuracy: 0.6165\n",
      "Epoch 10/15\n",
      "43194/43194 [==============================] - 768s 18ms/step - loss: 0.3829 - binary_accuracy: 0.6163 - val_loss: 0.3828 - val_binary_accuracy: 0.6165\n",
      "Epoch 11/15\n",
      "43194/43194 [==============================] - 773s 18ms/step - loss: 0.3820 - binary_accuracy: 0.6163 - val_loss: 0.3820 - val_binary_accuracy: 0.6165\n",
      "Epoch 12/15\n",
      "43194/43194 [==============================] - 769s 18ms/step - loss: 0.3812 - binary_accuracy: 0.6163 - val_loss: 0.3813 - val_binary_accuracy: 0.6165\n",
      "Epoch 13/15\n",
      "43194/43194 [==============================] - 767s 18ms/step - loss: 0.3804 - binary_accuracy: 0.6163 - val_loss: 0.3806 - val_binary_accuracy: 0.6165\n",
      "Epoch 14/15\n",
      "43194/43194 [==============================] - 767s 18ms/step - loss: 0.3797 - binary_accuracy: 0.6163 - val_loss: 0.3800 - val_binary_accuracy: 0.6165\n",
      "Epoch 15/15\n",
      "43194/43194 [==============================] - 770s 18ms/step - loss: 0.3791 - binary_accuracy: 0.6163 - val_loss: 0.3794 - val_binary_accuracy: 0.6165\n"
     ]
    }
   ],
   "source": [
    "# train model based on the data split\n",
    "history = model.fit(\n",
    "        x=x_train,\n",
    "        y=y_train,\n",
    "        batch_size=128,\n",
    "        epochs=15,\n",
    "        verbose=1,\n",
    "        validation_data=(x_val, y_val))"
   ]
  },
  {
   "cell_type": "code",
   "execution_count": 85,
   "metadata": {},
   "outputs": [
    {
     "data": {
      "image/png": "[encoded data removed]",
      "text/plain": [
       "<Figure size 640x480 with 1 Axes>"
      ]
     },
     "metadata": {},
     "output_type": "display_data"
    }
   ],
   "source": [
    "# plot training and validation loss\n",
    "plt.plot(history.history[\"loss\"])\n",
    "plt.plot(history.history[\"val_loss\"])\n",
    "plt.title(\"Model loss\")\n",
    "plt.ylabel(\"loss\")\n",
    "plt.xlabel(\"epoch\")\n",
    "plt.legend([\"train\", \"validation\"], loc=\"upper left\")\n",
    "plt.show()"
   ]
  },
  {
   "cell_type": "markdown",
   "metadata": {},
   "source": [
    "I guess this model loss is the best so far. So, I will use this model."
   ]
  },
  {
   "cell_type": "code",
   "execution_count": 84,
   "metadata": {},
   "outputs": [
    {
     "data": {
      "image/png": "[encoded data removed]",
      "text/plain": [
       "<Figure size 640x480 with 1 Axes>"
      ]
     },
     "metadata": {},
     "output_type": "display_data"
    }
   ],
   "source": [
    "# plot training and validation loss\n",
    "plt.plot(history.history[\"binary_accuracy\"])\n",
    "plt.plot(history.history[\"val_binary_accuracy\"])\n",
    "plt.title(\"Accuracy\")\n",
    "plt.ylabel(\"accuracy\")\n",
    "plt.xlabel(\"epoch\")\n",
    "plt.legend([\"train\", \"validation\"], loc=\"upper left\")\n",
    "plt.show()"
   ]
  },
  {
   "cell_type": "code",
   "execution_count": null,
   "metadata": {},
   "outputs": [],
   "source": [
    "# getting the product and department \n",
    "products = pd.read_csv('products.csv')\n",
    "dept = pd.read_csv('departments.csv')\n",
    "prod_dept = pd.merge(products, dept, on='department_id', how='left')"
   ]
  },
  {
   "cell_type": "code",
   "execution_count": 90,
   "metadata": {},
   "outputs": [],
   "source": [
    "def recommend_product(uid, df):\n",
    "    \"\"\" \n",
    "    Args:\n",
    "        uid: user_id\n",
    "    Returns:\n",
    "        5 products with high ratings from user and 10 products recommendations\n",
    "    \"\"\"\n",
    "    # get a user id\n",
    "    user_id = uid\n",
    "    # get user_id information\n",
    "    products_bought_by_user = df[df.user_id == user_id]\n",
    "    # taking only the products that has not been bought by the user\n",
    "    products_not_bought = prod_dept[\n",
    "        ~prod_dept[\"product_id\"].isin(products_bought_by_user.product_id.values)][\"product_id\"]\n",
    "    products_not_bought = list(\n",
    "        set(products_not_bought).intersection(set(product2product_encoded.keys()))\n",
    "    )\n",
    "    products_not_bought = [[product2product_encoded.get(x)] for x in products_not_bought]\n",
    "    \n",
    "    # getting the user encoder\n",
    "    user_encoder = user2user_encoded.get(user_id)\n",
    "    # getting an array of list product that has not been bought \n",
    "    user_product_array = np.hstack(\n",
    "        ([[user_encoder]] * len(products_not_bought), products_not_bought)\n",
    "    )\n",
    "    # model predict\n",
    "    ratings_pred = model.predict(user_product_array).flatten()\n",
    "    # get the index\n",
    "    top_ratings_indices = ratings_pred.argsort()[-10:][::-1]\n",
    "    # get the product_id\n",
    "    recommended_product_ids = [\n",
    "        product_encoded2product.get(products_not_bought[x][0]) for x in top_ratings_indices\n",
    "    ]\n",
    "\n",
    "    print(\"Showing recommendations for user_id: {}\".format(user_id))\n",
    "    print(\"====\" * 15)\n",
    "    print(\"Products with high ratings from user\")\n",
    "    print(\"----\" * 15)\n",
    "    # get 5 products highly rated by users\n",
    "    top_products_user = (\n",
    "        products_bought_by_user.sort_values(by=\"rating\", ascending=False)\n",
    "        .head(5)\n",
    "        .product_id.values\n",
    "    )\n",
    "    # link in product_id with product department\n",
    "    prod_dept_rows = prod_dept[prod_dept[\"product_id\"].isin(top_products_user)]\n",
    "    for row in prod_dept_rows.itertuples():\n",
    "        print(row.product_name, \":\", row.department)\n",
    "\n",
    "    print(\"----\" * 15)\n",
    "    print(\"Top 10 product recommendations\")\n",
    "    print(\"----\" * 15)\n",
    "    # link in recommended product_id with product department\n",
    "    recommended_products = prod_dept[prod_dept[\"product_id\"].isin(recommended_product_ids)]\n",
    "    for row in recommended_products.itertuples():\n",
    "        print(row.product_name, \":\", row.department)\n",
    "    "
   ]
  },
  {
   "cell_type": "code",
   "execution_count": 91,
   "metadata": {},
   "outputs": [
    {
     "name": "stdout",
     "output_type": "stream",
     "text": [
      "1527/1527 [==============================] - 2s 1ms/step\n",
      "Showing recommendations for user_id: 1\n",
      "============================================================\n",
      "Products with high ratings from user\n",
      "------------------------------------------------------------\n",
      "Soda : beverages\n",
      "Pistachios : snacks\n",
      "Original Beef Jerky : snacks\n",
      "Organic String Cheese : dairy eggs\n",
      "Zero Calorie Cola : beverages\n",
      "------------------------------------------------------------\n",
      "Top 10 product recommendations\n",
      "------------------------------------------------------------\n",
      "Italian Sparkling Mineral Water : beverages\n",
      "Bag of Organic Bananas : produce\n",
      "Spring Water : beverages\n",
      "Organic Baby Spinach : produce\n",
      "Banana : produce\n",
      "Organic Raspberries : produce\n",
      "Organic Reduced Fat Milk : dairy eggs\n",
      "Sparkling Water Grapefruit : beverages\n",
      "Organic Hass Avocado : produce\n",
      "Organic Avocado : produce\n"
     ]
    }
   ],
   "source": [
    "recommend_product(1, rating_)"
   ]
  },
  {
   "cell_type": "markdown",
   "metadata": {},
   "source": [
    "For FunkSVD and ALS, we only use 100,000 of data due to computational limitation. They both have low accuracies, it might be because we train on such little data. Meanwhile, using neural network, we can use much larger data and has better accuracy than FunkSVD and ALS.\n",
    "- The fcp score for FunkSVD is 0.245\n",
    "- The rmse score for ALS is 0.169\n",
    "- The binary accuracy for Neural Network is 0.6165\n"
   ]
  },
  {
   "cell_type": "markdown",
   "metadata": {},
   "source": []
  }
 ],
 "metadata": {
  "kernelspec": {
   "display_name": "Python 3 (ipykernel)",
   "language": "python",
   "name": "python3"
  },
  "language_info": {
   "codemirror_mode": {
    "name": "ipython",
    "version": 3
   },
   "file_extension": ".py",
   "mimetype": "text/x-python",
   "name": "python",
   "nbconvert_exporter": "python",
   "pygments_lexer": "ipython3",
   "version": "3.8.13"
  },
  "orig_nbformat": 4,
  "vscode": {
   "interpreter": {
    "hash": "94532ac7bdce902ff2e919b570fb92c301f35292b614fc4a1cbcfc1a5e841b93"
   }
  }
 },
 "nbformat": 4,
 "nbformat_minor": 2
}
