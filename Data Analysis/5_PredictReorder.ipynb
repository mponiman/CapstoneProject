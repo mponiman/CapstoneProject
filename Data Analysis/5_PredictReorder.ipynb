{
 "cells": [
  {
   "cell_type": "markdown",
   "metadata": {},
   "source": [
    "# Predicting reorder\n",
    "\n",
    "This notebook is about predicting what the customer will reorder based on past purchases. There are some features from orginal data that I will not include in prediction, for example: add_to_cart, aisle, and order_hour_of_day. The dataframe that will be used is df_used.csv. The models will be evaluated based on the f1 score. F1 score of class 1 means 'item will be reordered'."
   ]
  },
  {
   "cell_type": "markdown",
   "metadata": {},
   "source": [
    "## Importing library"
   ]
  },
  {
   "cell_type": "code",
   "execution_count": 1,
   "metadata": {},
   "outputs": [],
   "source": [
    "import numpy as np\n",
    "import pandas as pd\n",
    "import matplotlib.pyplot as plt\n",
    "import seaborn as sns\n",
    "import xgboost as xgb\n",
    "from xgboost import XGBClassifier\n",
    "from sklearn.ensemble import RandomForestClassifier\n",
    "from sklearn.preprocessing import StandardScaler, MinMaxScaler\n",
    "from sklearn.model_selection import train_test_split\n",
    "from sklearn.metrics import f1_score, confusion_matrix, plot_confusion_matrix, classification_report"
   ]
  },
  {
   "cell_type": "code",
   "execution_count": 21,
   "metadata": {},
   "outputs": [],
   "source": [
    "import tensorflow as tf\n",
    "from tensorflow.keras import utils\n",
    "from tensorflow.keras.initializers import HeNormal\n",
    "from sklearn.preprocessing import StandardScaler\n",
    "from tensorflow.keras.models import Sequential\n",
    "from tensorflow.keras.layers import Dense, Activation, Dropout, BatchNormalization\n",
    "from tensorflow.keras import regularizers\n",
    "from keras.models import load_model\n",
    "from keras import callbacks"
   ]
  },
  {
   "cell_type": "markdown",
   "metadata": {},
   "source": [
    "## Train Test Split"
   ]
  },
  {
   "cell_type": "code",
   "execution_count": 2,
   "metadata": {},
   "outputs": [],
   "source": [
    "# load data\n",
    "df_used = pd.read_csv('df_used.csv')"
   ]
  },
  {
   "cell_type": "code",
   "execution_count": 3,
   "metadata": {},
   "outputs": [],
   "source": [
    "# define the X and y variables\n",
    "X = df_used.drop(columns=['user_id', 'product_id', 'reordered'])\n",
    "y = df_used['reordered']"
   ]
  },
  {
   "cell_type": "code",
   "execution_count": 4,
   "metadata": {},
   "outputs": [
    {
     "data": {
      "text/plain": [
       "1.0    5648095\n",
       "0.0    4545217\n",
       "Name: reordered, dtype: int64"
      ]
     },
     "execution_count": 4,
     "metadata": {},
     "output_type": "execute_result"
    }
   ],
   "source": [
    "y.value_counts()"
   ]
  },
  {
   "cell_type": "markdown",
   "metadata": {},
   "source": [
    "The y does not look that imbalance"
   ]
  },
  {
   "cell_type": "code",
   "execution_count": 4,
   "metadata": {},
   "outputs": [],
   "source": [
    "# split into X and X_test & y and y_test\n",
    "X, X_test, y, y_test = train_test_split(X, y, test_size= 0.20, stratify=y, random_state=1)"
   ]
  },
  {
   "cell_type": "code",
   "execution_count": 6,
   "metadata": {},
   "outputs": [
    {
     "name": "stdout",
     "output_type": "stream",
     "text": [
      "(8154649, 67)\n",
      "(8154649,)\n",
      "(2038663, 67)\n",
      "(2038663,)\n"
     ]
    }
   ],
   "source": [
    "# check the shape\n",
    "print(X.shape)\n",
    "print(y.shape)\n",
    "print(X_test.shape)\n",
    "print(y_test.shape)"
   ]
  },
  {
   "cell_type": "code",
   "execution_count": 5,
   "metadata": {},
   "outputs": [],
   "source": [
    "# splitting into training and validation\n",
    "X_train, X_val, y_train, y_val = train_test_split(X, y, train_size= 0.80, stratify=y, random_state=1)"
   ]
  },
  {
   "cell_type": "code",
   "execution_count": 7,
   "metadata": {},
   "outputs": [
    {
     "name": "stdout",
     "output_type": "stream",
     "text": [
      "(6523719, 67)\n",
      "(6523719,)\n",
      "(1630930, 67)\n",
      "(1630930,)\n"
     ]
    }
   ],
   "source": [
    "# check the shape\n",
    "print(X_train.shape)\n",
    "print(y_train.shape)\n",
    "print(X_val.shape)\n",
    "print(y_val.shape)"
   ]
  },
  {
   "cell_type": "code",
   "execution_count": 6,
   "metadata": {},
   "outputs": [],
   "source": [
    "# standard scaler\n",
    "scaler = StandardScaler()\n",
    "scaler.fit(X_train)\n",
    "X_train_ss = scaler.transform(X_train)\n",
    "X_test_ss = scaler.transform(X_test)\n",
    "X_val_ss = scaler.transform(X_val)\n",
    "X_ss = scaler.transform(X)"
   ]
  },
  {
   "cell_type": "code",
   "execution_count": 11,
   "metadata": {},
   "outputs": [],
   "source": [
    "def confusion(y, y_pred):\n",
    "    # Build the confusion matrix as a dataframe\n",
    "    confusion_df = pd.DataFrame(confusion_matrix(y, y_pred), columns=['Predicted 0', 'Predicted 1'])\n",
    "\n",
    "    # Add a column that sums up the actuals\n",
    "    confusion_df['Sum of Actuals'] = confusion_df.sum(axis=1)\n",
    "\n",
    "    # Add a row that sums up the predictions\n",
    "    confusion_df = confusion_df.append(pd.Series(confusion_df.sum(axis=0)), ignore_index=True)\n",
    "\n",
    "    # Fix the indices\n",
    "    confusion_df.index=['Actual 0', 'Actual 1', 'Sum of Predictions'] \n",
    "    \n",
    "    # Check\n",
    "    return confusion_df"
   ]
  },
  {
   "cell_type": "markdown",
   "metadata": {},
   "source": [
    "## Model - Random Forest\n",
    "\n",
    "To control the model complexity in Random Forest, the parameters that needs to be tune in:\n",
    "- n_estimator\n",
    "- max_depth"
   ]
  },
  {
   "cell_type": "code",
   "execution_count": null,
   "metadata": {},
   "outputs": [],
   "source": [
    "# finding max_depth\n",
    "f1_train_rfd =[]\n",
    "f1_val_rfd=[]\n",
    "depth = [5, 10, 15]\n",
    "for d in depth:\n",
    "    rfc1 = RandomForestClassifier(max_depth=d, n_jobs=-1)\n",
    "    rfc1.fit(X_train_ss, y_train)\n",
    "    # append train score\n",
    "    f1_train_rfd.append(f1_score(y_train, rfc1.predict(X_train_ss)))\n",
    "    # append validation score\n",
    "    f1_val_rfd.append(f1_score(y_val, rfc1.predict(X_val_ss)))"
   ]
  },
  {
   "cell_type": "code",
   "execution_count": 10,
   "metadata": {},
   "outputs": [
    {
     "data": {
      "image/png": "[encoded data removed]",
      "text/plain": [
       "<Figure size 1000x600 with 1 Axes>"
      ]
     },
     "metadata": {},
     "output_type": "display_data"
    }
   ],
   "source": [
    "# plot \n",
    "plt.figure(figsize=(10,6))\n",
    "plt.plot(depth, f1_train_rfd, label=\"Train Score\", marker=\".\")\n",
    "plt.plot(depth, f1_val_rfd, label=\"Validation Scores\", marker=\".\")\n",
    "plt.xlabel(\"depth\")\n",
    "plt.ylabel(\"f1 score on label 1\")\n",
    "plt.title(\"Depth vs F1 score\")\n",
    "plt.legend()\n",
    "plt.show()"
   ]
  },
  {
   "cell_type": "markdown",
   "metadata": {},
   "source": [
    "The best depth is 10."
   ]
  },
  {
   "cell_type": "code",
   "execution_count": 11,
   "metadata": {},
   "outputs": [],
   "source": [
    "# finding max_estimators\n",
    "f1_train_rfest =[]\n",
    "f1_val_rfest=[]\n",
    "estimators= [40, 70, 100]\n",
    "for n in estimators:\n",
    "    rfc = RandomForestClassifier(n_estimators=n, n_jobs=-1)\n",
    "    rfc.fit(X_train_ss, y_train)\n",
    "    # append train score\n",
    "    f1_train_rfest.append(f1_score(y_train, rfc.predict(X_train_ss)))\n",
    "    # append validation score\n",
    "    f1_val_rfest.append(f1_score(y_val, rfc.predict(X_val_ss)))"
   ]
  },
  {
   "cell_type": "code",
   "execution_count": 12,
   "metadata": {},
   "outputs": [
    {
     "data": {
      "image/png": "[encoded data removed]",
      "text/plain": [
       "<Figure size 1000x600 with 1 Axes>"
      ]
     },
     "metadata": {},
     "output_type": "display_data"
    }
   ],
   "source": [
    "# plot \n",
    "plt.figure(figsize=(10,6))\n",
    "plt.plot(estimators, f1_train_rfest, label=\"Train Score\", marker=\".\")\n",
    "plt.plot(estimators, f1_val_rfest, label=\"Validation Scores\", marker=\".\")\n",
    "plt.xlabel(\"number of estimators\")\n",
    "plt.ylabel(\"f1 score on label 1\")\n",
    "plt.title(\"Depth vs F1 score\")\n",
    "plt.legend()\n",
    "plt.show()"
   ]
  },
  {
   "cell_type": "markdown",
   "metadata": {},
   "source": [
    "It seems that different number of estimators does not have sunstantial difference in f1 score so I will use the default which is 100."
   ]
  },
  {
   "cell_type": "code",
   "execution_count": 8,
   "metadata": {},
   "outputs": [
    {
     "data": {
      "text/html": [
       "<style>#sk-container-id-1 {color: black;background-color: white;}#sk-container-id-1 pre{padding: 0;}#sk-container-id-1 div.sk-toggleable {background-color: white;}#sk-container-id-1 label.sk-toggleable__label {cursor: pointer;display: block;width: 100%;margin-bottom: 0;padding: 0.3em;box-sizing: border-box;text-align: center;}#sk-container-id-1 label.sk-toggleable__label-arrow:before {content: \"▸\";float: left;margin-right: 0.25em;color: #696969;}#sk-container-id-1 label.sk-toggleable__label-arrow:hover:before {color: black;}#sk-container-id-1 div.sk-estimator:hover label.sk-toggleable__label-arrow:before {color: black;}#sk-container-id-1 div.sk-toggleable__content {max-height: 0;max-width: 0;overflow: hidden;text-align: left;background-color: #f0f8ff;}#sk-container-id-1 div.sk-toggleable__content pre {margin: 0.2em;color: black;border-radius: 0.25em;background-color: #f0f8ff;}#sk-container-id-1 input.sk-toggleable__control:checked~div.sk-toggleable__content {max-height: 200px;max-width: 100%;overflow: auto;}#sk-container-id-1 input.sk-toggleable__control:checked~label.sk-toggleable__label-arrow:before {content: \"▾\";}#sk-container-id-1 div.sk-estimator input.sk-toggleable__control:checked~label.sk-toggleable__label {background-color: #d4ebff;}#sk-container-id-1 div.sk-label input.sk-toggleable__control:checked~label.sk-toggleable__label {background-color: #d4ebff;}#sk-container-id-1 input.sk-hidden--visually {border: 0;clip: rect(1px 1px 1px 1px);clip: rect(1px, 1px, 1px, 1px);height: 1px;margin: -1px;overflow: hidden;padding: 0;position: absolute;width: 1px;}#sk-container-id-1 div.sk-estimator {font-family: monospace;background-color: #f0f8ff;border: 1px dotted black;border-radius: 0.25em;box-sizing: border-box;margin-bottom: 0.5em;}#sk-container-id-1 div.sk-estimator:hover {background-color: #d4ebff;}#sk-container-id-1 div.sk-parallel-item::after {content: \"\";width: 100%;border-bottom: 1px solid gray;flex-grow: 1;}#sk-container-id-1 div.sk-label:hover label.sk-toggleable__label {background-color: #d4ebff;}#sk-container-id-1 div.sk-serial::before {content: \"\";position: absolute;border-left: 1px solid gray;box-sizing: border-box;top: 0;bottom: 0;left: 50%;z-index: 0;}#sk-container-id-1 div.sk-serial {display: flex;flex-direction: column;align-items: center;background-color: white;padding-right: 0.2em;padding-left: 0.2em;position: relative;}#sk-container-id-1 div.sk-item {position: relative;z-index: 1;}#sk-container-id-1 div.sk-parallel {display: flex;align-items: stretch;justify-content: center;background-color: white;position: relative;}#sk-container-id-1 div.sk-item::before, #sk-container-id-1 div.sk-parallel-item::before {content: \"\";position: absolute;border-left: 1px solid gray;box-sizing: border-box;top: 0;bottom: 0;left: 50%;z-index: -1;}#sk-container-id-1 div.sk-parallel-item {display: flex;flex-direction: column;z-index: 1;position: relative;background-color: white;}#sk-container-id-1 div.sk-parallel-item:first-child::after {align-self: flex-end;width: 50%;}#sk-container-id-1 div.sk-parallel-item:last-child::after {align-self: flex-start;width: 50%;}#sk-container-id-1 div.sk-parallel-item:only-child::after {width: 0;}#sk-container-id-1 div.sk-dashed-wrapped {border: 1px dashed gray;margin: 0 0.4em 0.5em 0.4em;box-sizing: border-box;padding-bottom: 0.4em;background-color: white;}#sk-container-id-1 div.sk-label label {font-family: monospace;font-weight: bold;display: inline-block;line-height: 1.2em;}#sk-container-id-1 div.sk-label-container {text-align: center;}#sk-container-id-1 div.sk-container {/* jupyter's `normalize.less` sets `[hidden] { display: none; }` but bootstrap.min.css set `[hidden] { display: none !important; }` so we also need the `!important` here to be able to override the default hidden behavior on the sphinx rendered scikit-learn.org. See: https://github.com/scikit-learn/scikit-learn/issues/21755 */display: inline-block !important;position: relative;}#sk-container-id-1 div.sk-text-repr-fallback {display: none;}</style><div id=\"sk-container-id-1\" class=\"sk-top-container\"><div class=\"sk-text-repr-fallback\"><pre>RandomForestClassifier(max_depth=10, n_jobs=-1)</pre><b>In a Jupyter environment, please rerun this cell to show the HTML representation or trust the notebook. <br />On GitHub, the HTML representation is unable to render, please try loading this page with nbviewer.org.</b></div><div class=\"sk-container\" hidden><div class=\"sk-item\"><div class=\"sk-estimator sk-toggleable\"><input class=\"sk-toggleable__control sk-hidden--visually\" id=\"sk-estimator-id-1\" type=\"checkbox\" checked><label for=\"sk-estimator-id-1\" class=\"sk-toggleable__label sk-toggleable__label-arrow\">RandomForestClassifier</label><div class=\"sk-toggleable__content\"><pre>RandomForestClassifier(max_depth=10, n_jobs=-1)</pre></div></div></div></div></div>"
      ],
      "text/plain": [
       "RandomForestClassifier(max_depth=10, n_jobs=-1)"
      ]
     },
     "execution_count": 8,
     "metadata": {},
     "output_type": "execute_result"
    }
   ],
   "source": [
    "# fit the best parameter\n",
    "bestrf = RandomForestClassifier(max_depth=10, n_jobs=-1)\n",
    "bestrf.fit(X_ss, y)"
   ]
  },
  {
   "cell_type": "code",
   "execution_count": 12,
   "metadata": {},
   "outputs": [
    {
     "name": "stderr",
     "output_type": "stream",
     "text": [
      "/tmp/ipykernel_349/468895355.py:9: FutureWarning: The frame.append method is deprecated and will be removed from pandas in a future version. Use pandas.concat instead.\n",
      "  confusion_df = confusion_df.append(pd.Series(confusion_df.sum(axis=0)), ignore_index=True)\n"
     ]
    },
    {
     "data": {
      "text/html": [
       "<div>\n",
       "<style scoped>\n",
       "    .dataframe tbody tr th:only-of-type {\n",
       "        vertical-align: middle;\n",
       "    }\n",
       "\n",
       "    .dataframe tbody tr th {\n",
       "        vertical-align: top;\n",
       "    }\n",
       "\n",
       "    .dataframe thead th {\n",
       "        text-align: right;\n",
       "    }\n",
       "</style>\n",
       "<table border=\"1\" class=\"dataframe\">\n",
       "  <thead>\n",
       "    <tr style=\"text-align: right;\">\n",
       "      <th></th>\n",
       "      <th>Predicted 0</th>\n",
       "      <th>Predicted 1</th>\n",
       "      <th>Sum of Actuals</th>\n",
       "    </tr>\n",
       "  </thead>\n",
       "  <tbody>\n",
       "    <tr>\n",
       "      <th>Actual 0</th>\n",
       "      <td>698587</td>\n",
       "      <td>210457</td>\n",
       "      <td>909044</td>\n",
       "    </tr>\n",
       "    <tr>\n",
       "      <th>Actual 1</th>\n",
       "      <td>194377</td>\n",
       "      <td>935242</td>\n",
       "      <td>1129619</td>\n",
       "    </tr>\n",
       "    <tr>\n",
       "      <th>Sum of Predictions</th>\n",
       "      <td>892964</td>\n",
       "      <td>1145699</td>\n",
       "      <td>2038663</td>\n",
       "    </tr>\n",
       "  </tbody>\n",
       "</table>\n",
       "</div>"
      ],
      "text/plain": [
       "                    Predicted 0  Predicted 1  Sum of Actuals\n",
       "Actual 0                 698587       210457          909044\n",
       "Actual 1                 194377       935242         1129619\n",
       "Sum of Predictions       892964      1145699         2038663"
      ]
     },
     "execution_count": 12,
     "metadata": {},
     "output_type": "execute_result"
    }
   ],
   "source": [
    "# get confusion df\n",
    "y_pred_rf = bestrf.predict(X_test_ss)\n",
    "confusion(y_test, y_pred_rf)"
   ]
  },
  {
   "cell_type": "code",
   "execution_count": 50,
   "metadata": {},
   "outputs": [
    {
     "data": {
      "text/plain": [
       "0.8220758592864822"
      ]
     },
     "execution_count": 50,
     "metadata": {},
     "output_type": "execute_result"
    }
   ],
   "source": [
    "# get f1 score\n",
    "f1_rf = f1_score(y_test, y_pred_rf)\n",
    "f1_rf"
   ]
  },
  {
   "cell_type": "code",
   "execution_count": 14,
   "metadata": {},
   "outputs": [
    {
     "name": "stdout",
     "output_type": "stream",
     "text": [
      "              precision    recall  f1-score   support\n",
      "\n",
      "         0.0       0.78      0.77      0.78    909044\n",
      "         1.0       0.82      0.83      0.82   1129619\n",
      "\n",
      "    accuracy                           0.80   2038663\n",
      "   macro avg       0.80      0.80      0.80   2038663\n",
      "weighted avg       0.80      0.80      0.80   2038663\n",
      "\n"
     ]
    }
   ],
   "source": [
    "# print classification report\n",
    "print(classification_report(y_test, y_pred_rf))"
   ]
  },
  {
   "cell_type": "markdown",
   "metadata": {},
   "source": [
    "The f1 score for random forest is 0.82 and the classes (precision and recall) look pretty balance."
   ]
  },
  {
   "cell_type": "markdown",
   "metadata": {},
   "source": [
    "## Model - XGBoost\n",
    "\n",
    "The paramaters that needs to be tune in:\n",
    "- max_depth -- control model complexity\n",
    "- eta -- add randomness to make training robust to noise\n"
   ]
  },
  {
   "cell_type": "code",
   "execution_count": 18,
   "metadata": {},
   "outputs": [],
   "source": [
    "# find depth\n",
    "train_scores = []\n",
    "validation_scores = []\n",
    "depth = [3,5,6,8]\n",
    "for d in depth:\n",
    "    xgb = XGBClassifier(max_depth=d, n_jobs=-1)\n",
    "    xgb.fit(X_train_ss, y_train)\n",
    "    # train scores\n",
    "    train_scores.append(xgb.score(X_train_ss, y_train))\n",
    "    # validation scores\n",
    "    validation_scores.append(xgb.score(X_val_ss, y_val))"
   ]
  },
  {
   "cell_type": "code",
   "execution_count": 19,
   "metadata": {},
   "outputs": [
    {
     "data": {
      "image/png": "[encoded data removed]",
      "text/plain": [
       "<Figure size 1000x600 with 1 Axes>"
      ]
     },
     "metadata": {},
     "output_type": "display_data"
    }
   ],
   "source": [
    "# plot \n",
    "plt.figure(figsize=(10,6))\n",
    "plt.plot(depth, train_scores, label=\"Train Score\", marker=\".\")\n",
    "plt.plot(depth, validation_scores, label=\"Validation Scores\", marker=\".\")\n",
    "plt.xlabel(\"number of depth\")\n",
    "plt.ylabel(\"Accuracy\")\n",
    "plt.legend()\n",
    "plt.show()"
   ]
  },
  {
   "cell_type": "code",
   "execution_count": 15,
   "metadata": {},
   "outputs": [],
   "source": [
    "# find the eta\n",
    "train_scores = []\n",
    "validation_scores = []\n",
    "num = [0.075, 0.1, 0.25, 0.5]\n",
    "for n in num:\n",
    "    xgb = XGBClassifier(eta=n, max_depth = 5, n_jobs=-1)\n",
    "    xgb.fit(X_train_ss, y_train)\n",
    "    # train scores\n",
    "    train_scores.append(xgb.score(X_train_ss, y_train))\n",
    "    # test scores\n",
    "    validation_scores.append(xgb.score(X_val_ss, y_val))"
   ]
  },
  {
   "cell_type": "code",
   "execution_count": 16,
   "metadata": {},
   "outputs": [
    {
     "data": {
      "image/png": "[encoded data removed]",
      "text/plain": [
       "<Figure size 1000x600 with 1 Axes>"
      ]
     },
     "metadata": {},
     "output_type": "display_data"
    }
   ],
   "source": [
    "plt.figure(figsize=(10,6))\n",
    "plt.plot(num, train_scores, label=\"Train Score\", marker=\".\")\n",
    "plt.plot(num, validation_scores, label=\"Validation Scores\", marker=\".\")\n",
    "plt.xlabel(\"eta\")\n",
    "plt.ylabel(\"Accuracy\")\n",
    "plt.legend()\n",
    "plt.show()"
   ]
  },
  {
   "cell_type": "markdown",
   "metadata": {},
   "source": [
    "The best parameters: eta = 0.25 and max_depth = 5"
   ]
  },
  {
   "cell_type": "code",
   "execution_count": 17,
   "metadata": {},
   "outputs": [
    {
     "data": {
      "text/html": [
       "<style>#sk-container-id-2 {color: black;background-color: white;}#sk-container-id-2 pre{padding: 0;}#sk-container-id-2 div.sk-toggleable {background-color: white;}#sk-container-id-2 label.sk-toggleable__label {cursor: pointer;display: block;width: 100%;margin-bottom: 0;padding: 0.3em;box-sizing: border-box;text-align: center;}#sk-container-id-2 label.sk-toggleable__label-arrow:before {content: \"▸\";float: left;margin-right: 0.25em;color: #696969;}#sk-container-id-2 label.sk-toggleable__label-arrow:hover:before {color: black;}#sk-container-id-2 div.sk-estimator:hover label.sk-toggleable__label-arrow:before {color: black;}#sk-container-id-2 div.sk-toggleable__content {max-height: 0;max-width: 0;overflow: hidden;text-align: left;background-color: #f0f8ff;}#sk-container-id-2 div.sk-toggleable__content pre {margin: 0.2em;color: black;border-radius: 0.25em;background-color: #f0f8ff;}#sk-container-id-2 input.sk-toggleable__control:checked~div.sk-toggleable__content {max-height: 200px;max-width: 100%;overflow: auto;}#sk-container-id-2 input.sk-toggleable__control:checked~label.sk-toggleable__label-arrow:before {content: \"▾\";}#sk-container-id-2 div.sk-estimator input.sk-toggleable__control:checked~label.sk-toggleable__label {background-color: #d4ebff;}#sk-container-id-2 div.sk-label input.sk-toggleable__control:checked~label.sk-toggleable__label {background-color: #d4ebff;}#sk-container-id-2 input.sk-hidden--visually {border: 0;clip: rect(1px 1px 1px 1px);clip: rect(1px, 1px, 1px, 1px);height: 1px;margin: -1px;overflow: hidden;padding: 0;position: absolute;width: 1px;}#sk-container-id-2 div.sk-estimator {font-family: monospace;background-color: #f0f8ff;border: 1px dotted black;border-radius: 0.25em;box-sizing: border-box;margin-bottom: 0.5em;}#sk-container-id-2 div.sk-estimator:hover {background-color: #d4ebff;}#sk-container-id-2 div.sk-parallel-item::after {content: \"\";width: 100%;border-bottom: 1px solid gray;flex-grow: 1;}#sk-container-id-2 div.sk-label:hover label.sk-toggleable__label {background-color: #d4ebff;}#sk-container-id-2 div.sk-serial::before {content: \"\";position: absolute;border-left: 1px solid gray;box-sizing: border-box;top: 0;bottom: 0;left: 50%;z-index: 0;}#sk-container-id-2 div.sk-serial {display: flex;flex-direction: column;align-items: center;background-color: white;padding-right: 0.2em;padding-left: 0.2em;position: relative;}#sk-container-id-2 div.sk-item {position: relative;z-index: 1;}#sk-container-id-2 div.sk-parallel {display: flex;align-items: stretch;justify-content: center;background-color: white;position: relative;}#sk-container-id-2 div.sk-item::before, #sk-container-id-2 div.sk-parallel-item::before {content: \"\";position: absolute;border-left: 1px solid gray;box-sizing: border-box;top: 0;bottom: 0;left: 50%;z-index: -1;}#sk-container-id-2 div.sk-parallel-item {display: flex;flex-direction: column;z-index: 1;position: relative;background-color: white;}#sk-container-id-2 div.sk-parallel-item:first-child::after {align-self: flex-end;width: 50%;}#sk-container-id-2 div.sk-parallel-item:last-child::after {align-self: flex-start;width: 50%;}#sk-container-id-2 div.sk-parallel-item:only-child::after {width: 0;}#sk-container-id-2 div.sk-dashed-wrapped {border: 1px dashed gray;margin: 0 0.4em 0.5em 0.4em;box-sizing: border-box;padding-bottom: 0.4em;background-color: white;}#sk-container-id-2 div.sk-label label {font-family: monospace;font-weight: bold;display: inline-block;line-height: 1.2em;}#sk-container-id-2 div.sk-label-container {text-align: center;}#sk-container-id-2 div.sk-container {/* jupyter's `normalize.less` sets `[hidden] { display: none; }` but bootstrap.min.css set `[hidden] { display: none !important; }` so we also need the `!important` here to be able to override the default hidden behavior on the sphinx rendered scikit-learn.org. See: https://github.com/scikit-learn/scikit-learn/issues/21755 */display: inline-block !important;position: relative;}#sk-container-id-2 div.sk-text-repr-fallback {display: none;}</style><div id=\"sk-container-id-2\" class=\"sk-top-container\"><div class=\"sk-text-repr-fallback\"><pre>XGBClassifier(base_score=0.5, booster=&#x27;gbtree&#x27;, callbacks=None,\n",
       "              colsample_bylevel=1, colsample_bynode=1, colsample_bytree=1,\n",
       "              early_stopping_rounds=None, enable_categorical=False, eta=0.25,\n",
       "              eval_metric=None, gamma=0, gpu_id=-1, grow_policy=&#x27;depthwise&#x27;,\n",
       "              importance_type=None, interaction_constraints=&#x27;&#x27;,\n",
       "              learning_rate=0.25, max_bin=256, max_cat_to_onehot=4,\n",
       "              max_delta_step=0, max_depth=5, max_leaves=0, min_child_weight=1,\n",
       "              missing=nan, monotone_constraints=&#x27;()&#x27;, n_estimators=100,\n",
       "              n_jobs=-1, num_parallel_tree=1, predictor=&#x27;auto&#x27;, random_state=0,\n",
       "              reg_alpha=0, ...)</pre><b>In a Jupyter environment, please rerun this cell to show the HTML representation or trust the notebook. <br />On GitHub, the HTML representation is unable to render, please try loading this page with nbviewer.org.</b></div><div class=\"sk-container\" hidden><div class=\"sk-item\"><div class=\"sk-estimator sk-toggleable\"><input class=\"sk-toggleable__control sk-hidden--visually\" id=\"sk-estimator-id-2\" type=\"checkbox\" checked><label for=\"sk-estimator-id-2\" class=\"sk-toggleable__label sk-toggleable__label-arrow\">XGBClassifier</label><div class=\"sk-toggleable__content\"><pre>XGBClassifier(base_score=0.5, booster=&#x27;gbtree&#x27;, callbacks=None,\n",
       "              colsample_bylevel=1, colsample_bynode=1, colsample_bytree=1,\n",
       "              early_stopping_rounds=None, enable_categorical=False, eta=0.25,\n",
       "              eval_metric=None, gamma=0, gpu_id=-1, grow_policy=&#x27;depthwise&#x27;,\n",
       "              importance_type=None, interaction_constraints=&#x27;&#x27;,\n",
       "              learning_rate=0.25, max_bin=256, max_cat_to_onehot=4,\n",
       "              max_delta_step=0, max_depth=5, max_leaves=0, min_child_weight=1,\n",
       "              missing=nan, monotone_constraints=&#x27;()&#x27;, n_estimators=100,\n",
       "              n_jobs=-1, num_parallel_tree=1, predictor=&#x27;auto&#x27;, random_state=0,\n",
       "              reg_alpha=0, ...)</pre></div></div></div></div></div>"
      ],
      "text/plain": [
       "XGBClassifier(base_score=0.5, booster='gbtree', callbacks=None,\n",
       "              colsample_bylevel=1, colsample_bynode=1, colsample_bytree=1,\n",
       "              early_stopping_rounds=None, enable_categorical=False, eta=0.25,\n",
       "              eval_metric=None, gamma=0, gpu_id=-1, grow_policy='depthwise',\n",
       "              importance_type=None, interaction_constraints='',\n",
       "              learning_rate=0.25, max_bin=256, max_cat_to_onehot=4,\n",
       "              max_delta_step=0, max_depth=5, max_leaves=0, min_child_weight=1,\n",
       "              missing=nan, monotone_constraints='()', n_estimators=100,\n",
       "              n_jobs=-1, num_parallel_tree=1, predictor='auto', random_state=0,\n",
       "              reg_alpha=0, ...)"
      ]
     },
     "execution_count": 17,
     "metadata": {},
     "output_type": "execute_result"
    }
   ],
   "source": [
    "# fit the best parameter\n",
    "bestxgb = XGBClassifier(max_depth=5, eta=0.25, n_jobs=-1)\n",
    "bestxgb.fit(X_ss, y)"
   ]
  },
  {
   "cell_type": "code",
   "execution_count": 18,
   "metadata": {},
   "outputs": [
    {
     "name": "stderr",
     "output_type": "stream",
     "text": [
      "/tmp/ipykernel_349/468895355.py:9: FutureWarning: The frame.append method is deprecated and will be removed from pandas in a future version. Use pandas.concat instead.\n",
      "  confusion_df = confusion_df.append(pd.Series(confusion_df.sum(axis=0)), ignore_index=True)\n"
     ]
    },
    {
     "data": {
      "text/html": [
       "<div>\n",
       "<style scoped>\n",
       "    .dataframe tbody tr th:only-of-type {\n",
       "        vertical-align: middle;\n",
       "    }\n",
       "\n",
       "    .dataframe tbody tr th {\n",
       "        vertical-align: top;\n",
       "    }\n",
       "\n",
       "    .dataframe thead th {\n",
       "        text-align: right;\n",
       "    }\n",
       "</style>\n",
       "<table border=\"1\" class=\"dataframe\">\n",
       "  <thead>\n",
       "    <tr style=\"text-align: right;\">\n",
       "      <th></th>\n",
       "      <th>Predicted 0</th>\n",
       "      <th>Predicted 1</th>\n",
       "      <th>Sum of Actuals</th>\n",
       "    </tr>\n",
       "  </thead>\n",
       "  <tbody>\n",
       "    <tr>\n",
       "      <th>Actual 0</th>\n",
       "      <td>690337</td>\n",
       "      <td>218707</td>\n",
       "      <td>909044</td>\n",
       "    </tr>\n",
       "    <tr>\n",
       "      <th>Actual 1</th>\n",
       "      <td>174394</td>\n",
       "      <td>955225</td>\n",
       "      <td>1129619</td>\n",
       "    </tr>\n",
       "    <tr>\n",
       "      <th>Sum of Predictions</th>\n",
       "      <td>864731</td>\n",
       "      <td>1173932</td>\n",
       "      <td>2038663</td>\n",
       "    </tr>\n",
       "  </tbody>\n",
       "</table>\n",
       "</div>"
      ],
      "text/plain": [
       "                    Predicted 0  Predicted 1  Sum of Actuals\n",
       "Actual 0                 690337       218707          909044\n",
       "Actual 1                 174394       955225         1129619\n",
       "Sum of Predictions       864731      1173932         2038663"
      ]
     },
     "execution_count": 18,
     "metadata": {},
     "output_type": "execute_result"
    }
   ],
   "source": [
    "# get confusion df\n",
    "y_pred_xgb = bestxgb.predict(X_test_ss)\n",
    "confusion(y_test, y_pred_xgb)"
   ]
  },
  {
   "cell_type": "code",
   "execution_count": 51,
   "metadata": {},
   "outputs": [
    {
     "data": {
      "text/plain": [
       "0.8293499905146445"
      ]
     },
     "execution_count": 51,
     "metadata": {},
     "output_type": "execute_result"
    }
   ],
   "source": [
    "# get f1 score\n",
    "f1_xgb = f1_score(y_test, y_pred_xgb)\n",
    "f1_xgb"
   ]
  },
  {
   "cell_type": "code",
   "execution_count": 19,
   "metadata": {},
   "outputs": [
    {
     "name": "stdout",
     "output_type": "stream",
     "text": [
      "              precision    recall  f1-score   support\n",
      "\n",
      "         0.0       0.80      0.76      0.78    909044\n",
      "         1.0       0.81      0.85      0.83   1129619\n",
      "\n",
      "    accuracy                           0.81   2038663\n",
      "   macro avg       0.81      0.80      0.80   2038663\n",
      "weighted avg       0.81      0.81      0.81   2038663\n",
      "\n"
     ]
    }
   ],
   "source": [
    "# print classification report\n",
    "print(classification_report(y_test, y_pred_xgb))"
   ]
  },
  {
   "cell_type": "markdown",
   "metadata": {},
   "source": [
    "The f1 score XGBoost is slightly better than random forest: 0.83. The classes(precision and recall) looks pretty balance too."
   ]
  },
  {
   "cell_type": "markdown",
   "metadata": {},
   "source": [
    "## Model1 - Neural Network\n",
    "\n",
    "For this neural network, I will only use the X_ss and X_test. So, no validation."
   ]
  },
  {
   "cell_type": "code",
   "execution_count": 22,
   "metadata": {},
   "outputs": [
    {
     "name": "stderr",
     "output_type": "stream",
     "text": [
      "2022-10-30 13:38:57.851912: I tensorflow/core/platform/cpu_feature_guard.cc:193] This TensorFlow binary is optimized with oneAPI Deep Neural Network Library (oneDNN) to use the following CPU instructions in performance-critical operations:  SSE4.1 SSE4.2\n",
      "To enable them in other operations, rebuild TensorFlow with the appropriate compiler flags.\n"
     ]
    }
   ],
   "source": [
    "# without initializer and regularizer\n",
    "# create a sequential model\n",
    "model1= Sequential()\n",
    "# declare the hidden layer\n",
    "model1.add(Dense(1024, activation='relu', input_dim=X_ss.shape[1]))\n",
    "model1.add(Dense(512, activation='relu'))\n",
    "model1.add(Dropout(0.2))\n",
    "model1.add(BatchNormalization())\n",
    "model1.add(Dense(256, activation='relu'))\n",
    "model1.add(Dropout(0.2))\n",
    "model1.add(BatchNormalization())\n",
    "model1.add(Dense(128, activation='relu'))\n",
    "model1.add(Dense(64, activation='relu'))\n",
    "# declare the output layer\n",
    "model1.add(Dense(1, activation='sigmoid'))"
   ]
  },
  {
   "cell_type": "code",
   "execution_count": 23,
   "metadata": {},
   "outputs": [
    {
     "name": "stdout",
     "output_type": "stream",
     "text": [
      "Model: \"sequential\"\n",
      "_________________________________________________________________\n",
      " Layer (type)                Output Shape              Param #   \n",
      "=================================================================\n",
      " dense (Dense)               (None, 1024)              69632     \n",
      "                                                                 \n",
      " dense_1 (Dense)             (None, 512)               524800    \n",
      "                                                                 \n",
      " dropout (Dropout)           (None, 512)               0         \n",
      "                                                                 \n",
      " batch_normalization (BatchN  (None, 512)              2048      \n",
      " ormalization)                                                   \n",
      "                                                                 \n",
      " dense_2 (Dense)             (None, 256)               131328    \n",
      "                                                                 \n",
      " dropout_1 (Dropout)         (None, 256)               0         \n",
      "                                                                 \n",
      " batch_normalization_1 (Batc  (None, 256)              1024      \n",
      " hNormalization)                                                 \n",
      "                                                                 \n",
      " dense_3 (Dense)             (None, 128)               32896     \n",
      "                                                                 \n",
      " dense_4 (Dense)             (None, 64)                8256      \n",
      "                                                                 \n",
      " dense_5 (Dense)             (None, 1)                 65        \n",
      "                                                                 \n",
      "=================================================================\n",
      "Total params: 770,049\n",
      "Trainable params: 768,513\n",
      "Non-trainable params: 1,536\n",
      "_________________________________________________________________\n"
     ]
    }
   ],
   "source": [
    "# model summary\n",
    "model1.summary()"
   ]
  },
  {
   "cell_type": "code",
   "execution_count": 24,
   "metadata": {},
   "outputs": [],
   "source": [
    "# model compile\n",
    "model1.compile(\n",
    "    # Optimizer\n",
    "    optimizer='adam',\n",
    "    # Loss function to minimize\n",
    "    loss='binary_crossentropy',\n",
    "    # Metric used to evaluate model\n",
    "    metrics='accuracy'\n",
    ")"
   ]
  },
  {
   "cell_type": "code",
   "execution_count": 28,
   "metadata": {},
   "outputs": [
    {
     "name": "stdout",
     "output_type": "stream",
     "text": [
      "Epoch 1/11\n",
      "7964/7964 [==============================] - 597s 75ms/step - loss: 0.4008 - accuracy: 0.8066 - val_loss: 0.4004 - val_accuracy: 0.8069\n",
      "Epoch 2/11\n",
      "7964/7964 [==============================] - 594s 75ms/step - loss: 0.3997 - accuracy: 0.8069 - val_loss: 0.3997 - val_accuracy: 0.8070\n",
      "Epoch 3/11\n",
      "7964/7964 [==============================] - 594s 75ms/step - loss: 0.3991 - accuracy: 0.8071 - val_loss: 0.3987 - val_accuracy: 0.8071\n",
      "Epoch 4/11\n",
      "7964/7964 [==============================] - 594s 75ms/step - loss: 0.3987 - accuracy: 0.8073 - val_loss: 0.3988 - val_accuracy: 0.8069\n",
      "Epoch 5/11\n",
      "7964/7964 [==============================] - 594s 75ms/step - loss: 0.3984 - accuracy: 0.8075 - val_loss: 0.3982 - val_accuracy: 0.8074\n",
      "Epoch 6/11\n",
      "7964/7964 [==============================] - 594s 75ms/step - loss: 0.3981 - accuracy: 0.8077 - val_loss: 0.3980 - val_accuracy: 0.8074\n",
      "Epoch 7/11\n",
      "7964/7964 [==============================] - 594s 75ms/step - loss: 0.3977 - accuracy: 0.8078 - val_loss: 0.3981 - val_accuracy: 0.8075\n",
      "Epoch 8/11\n",
      "7964/7964 [==============================] - 594s 75ms/step - loss: 0.3974 - accuracy: 0.8080 - val_loss: 0.3979 - val_accuracy: 0.8074\n",
      "Epoch 9/11\n",
      "7964/7964 [==============================] - 594s 75ms/step - loss: 0.3971 - accuracy: 0.8082 - val_loss: 0.3979 - val_accuracy: 0.8075\n",
      "Epoch 10/11\n",
      "7964/7964 [==============================] - 594s 75ms/step - loss: 0.3968 - accuracy: 0.8083 - val_loss: 0.3981 - val_accuracy: 0.8075\n",
      "Epoch 11/11\n",
      "7964/7964 [==============================] - 594s 75ms/step - loss: 0.3964 - accuracy: 0.8085 - val_loss: 0.3982 - val_accuracy: 0.8075\n"
     ]
    }
   ],
   "source": [
    "# train the model\n",
    "hist_1 = model1.fit(X_ss, y, batch_size=1024, epochs = 11,\n",
    "                    validation_data=(X_test_ss, y_test))"
   ]
  },
  {
   "cell_type": "code",
   "execution_count": 29,
   "metadata": {},
   "outputs": [
    {
     "name": "stdout",
     "output_type": "stream",
     "text": [
      "INFO:tensorflow:Assets written to: model_1/assets\n"
     ]
    }
   ],
   "source": [
    "model1.save('model_1')"
   ]
  },
  {
   "cell_type": "code",
   "execution_count": 30,
   "metadata": {},
   "outputs": [
    {
     "name": "stdout",
     "output_type": "stream",
     "text": [
      "63709/63709 [==============================] - 238s 4ms/step\n"
     ]
    },
    {
     "data": {
      "text/plain": [
       "0.825652696770823"
      ]
     },
     "execution_count": 30,
     "metadata": {},
     "output_type": "execute_result"
    }
   ],
   "source": [
    "# get y_pred\n",
    "y_pred = model1.predict(X_test_ss)\n",
    "y_pred_test = [1 if i>=0.5 else 0 for i in y_pred]\n",
    "# find f1 score\n",
    "f1_model1 = f1_score(y_test, y_pred_test)\n",
    "f1_model1"
   ]
  },
  {
   "cell_type": "code",
   "execution_count": 31,
   "metadata": {},
   "outputs": [
    {
     "name": "stderr",
     "output_type": "stream",
     "text": [
      "/tmp/ipykernel_349/468895355.py:9: FutureWarning: The frame.append method is deprecated and will be removed from pandas in a future version. Use pandas.concat instead.\n",
      "  confusion_df = confusion_df.append(pd.Series(confusion_df.sum(axis=0)), ignore_index=True)\n"
     ]
    },
    {
     "data": {
      "text/html": [
       "<div>\n",
       "<style scoped>\n",
       "    .dataframe tbody tr th:only-of-type {\n",
       "        vertical-align: middle;\n",
       "    }\n",
       "\n",
       "    .dataframe tbody tr th {\n",
       "        vertical-align: top;\n",
       "    }\n",
       "\n",
       "    .dataframe thead th {\n",
       "        text-align: right;\n",
       "    }\n",
       "</style>\n",
       "<table border=\"1\" class=\"dataframe\">\n",
       "  <thead>\n",
       "    <tr style=\"text-align: right;\">\n",
       "      <th></th>\n",
       "      <th>Predicted 0</th>\n",
       "      <th>Predicted 1</th>\n",
       "      <th>Sum of Actuals</th>\n",
       "    </tr>\n",
       "  </thead>\n",
       "  <tbody>\n",
       "    <tr>\n",
       "      <th>Actual 0</th>\n",
       "      <td>716931</td>\n",
       "      <td>192113</td>\n",
       "      <td>909044</td>\n",
       "    </tr>\n",
       "    <tr>\n",
       "      <th>Actual 1</th>\n",
       "      <td>200344</td>\n",
       "      <td>929275</td>\n",
       "      <td>1129619</td>\n",
       "    </tr>\n",
       "    <tr>\n",
       "      <th>Sum of Predictions</th>\n",
       "      <td>917275</td>\n",
       "      <td>1121388</td>\n",
       "      <td>2038663</td>\n",
       "    </tr>\n",
       "  </tbody>\n",
       "</table>\n",
       "</div>"
      ],
      "text/plain": [
       "                    Predicted 0  Predicted 1  Sum of Actuals\n",
       "Actual 0                 716931       192113          909044\n",
       "Actual 1                 200344       929275         1129619\n",
       "Sum of Predictions       917275      1121388         2038663"
      ]
     },
     "execution_count": 31,
     "metadata": {},
     "output_type": "execute_result"
    }
   ],
   "source": [
    "# get confusion df\n",
    "confusion(y_test, y_pred_test)"
   ]
  },
  {
   "cell_type": "code",
   "execution_count": 32,
   "metadata": {},
   "outputs": [
    {
     "name": "stdout",
     "output_type": "stream",
     "text": [
      "              precision    recall  f1-score   support\n",
      "\n",
      "         0.0       0.78      0.79      0.79    909044\n",
      "         1.0       0.83      0.82      0.83   1129619\n",
      "\n",
      "    accuracy                           0.81   2038663\n",
      "   macro avg       0.81      0.81      0.81   2038663\n",
      "weighted avg       0.81      0.81      0.81   2038663\n",
      "\n"
     ]
    }
   ],
   "source": [
    "# print classification report\n",
    "print(classification_report(y_test, y_pred_test))"
   ]
  },
  {
   "cell_type": "markdown",
   "metadata": {},
   "source": [
    "The f1 score for model1 neural network is the same as XGBoost 0.83. The classes are also looks prettybalanced."
   ]
  },
  {
   "cell_type": "markdown",
   "metadata": {
    "vscode": {
     "languageId": "python"
    }
   },
   "source": [
    "## Model 2 - Neural Network"
   ]
  },
  {
   "cell_type": "code",
   "execution_count": 38,
   "metadata": {},
   "outputs": [],
   "source": [
    "# with initializer and regularizer\n",
    "initializer = HeNormal(seed=None)\n",
    "regularizer = 'l2'\n",
    "# create a sequential model\n",
    "model2= Sequential()\n",
    "# declare the hidden layer\n",
    "model2.add(Dense(512, activation='relu', input_dim=X_train_ss.shape[1], kernel_initializer = initializer, kernel_regularizer= regularizer))\n",
    "model2.add(Dense(512, activation='relu',kernel_initializer = initializer, kernel_regularizer=regularizer))\n",
    "model2.add(Dropout(0.2))\n",
    "model2.add(BatchNormalization())\n",
    "model2.add(Dense(256, activation='relu',kernel_initializer = initializer, kernel_regularizer=regularizer))\n",
    "model2.add(Dropout(0.2))\n",
    "model2.add(BatchNormalization())\n",
    "model2.add(Dense(128, activation='relu',kernel_initializer = initializer, kernel_regularizer=regularizer))\n",
    "model2.add(Dense(64, activation='relu',kernel_initializer = initializer, kernel_regularizer=regularizer))\n",
    "# declare the output layer\n",
    "model2.add(Dense(1, activation='sigmoid'))"
   ]
  },
  {
   "cell_type": "code",
   "execution_count": 39,
   "metadata": {},
   "outputs": [
    {
     "name": "stdout",
     "output_type": "stream",
     "text": [
      "Model: \"sequential_4\"\n",
      "_________________________________________________________________\n",
      " Layer (type)                Output Shape              Param #   \n",
      "=================================================================\n",
      " dense_24 (Dense)            (None, 512)               34816     \n",
      "                                                                 \n",
      " dense_25 (Dense)            (None, 512)               262656    \n",
      "                                                                 \n",
      " dropout_8 (Dropout)         (None, 512)               0         \n",
      "                                                                 \n",
      " batch_normalization_8 (Batc  (None, 512)              2048      \n",
      " hNormalization)                                                 \n",
      "                                                                 \n",
      " dense_26 (Dense)            (None, 256)               131328    \n",
      "                                                                 \n",
      " dropout_9 (Dropout)         (None, 256)               0         \n",
      "                                                                 \n",
      " batch_normalization_9 (Batc  (None, 256)              1024      \n",
      " hNormalization)                                                 \n",
      "                                                                 \n",
      " dense_27 (Dense)            (None, 128)               32896     \n",
      "                                                                 \n",
      " dense_28 (Dense)            (None, 64)                8256      \n",
      "                                                                 \n",
      " dense_29 (Dense)            (None, 1)                 65        \n",
      "                                                                 \n",
      "=================================================================\n",
      "Total params: 473,089\n",
      "Trainable params: 471,553\n",
      "Non-trainable params: 1,536\n",
      "_________________________________________________________________\n"
     ]
    }
   ],
   "source": [
    "# model summary\n",
    "model2.summary()"
   ]
  },
  {
   "cell_type": "code",
   "execution_count": 40,
   "metadata": {},
   "outputs": [],
   "source": [
    "# model compile\n",
    "model2.compile(\n",
    "    # Optimizer\n",
    "    optimizer='adam',\n",
    "    # Loss function to minimize\n",
    "    loss='binary_crossentropy',\n",
    "    # Metric used to evaluate model\n",
    "    metrics='accuracy'\n",
    ")"
   ]
  },
  {
   "cell_type": "code",
   "execution_count": 41,
   "metadata": {},
   "outputs": [],
   "source": [
    "# adding earlystopping to stop the neural network\n",
    "earlystopping = callbacks.EarlyStopping(monitor='val_loss', mode='min', patience=11, restore_best_weights=True)"
   ]
  },
  {
   "cell_type": "code",
   "execution_count": 43,
   "metadata": {},
   "outputs": [
    {
     "name": "stdout",
     "output_type": "stream",
     "text": [
      "Epoch 1/30\n",
      "7964/7964 [==============================] - 463s 58ms/step - loss: 0.4229 - accuracy: 0.8043 - val_loss: 0.4208 - val_accuracy: 0.8039\n",
      "Epoch 2/30\n",
      "7964/7964 [==============================] - 460s 58ms/step - loss: 0.4193 - accuracy: 0.8042 - val_loss: 0.4210 - val_accuracy: 0.7919\n",
      "Epoch 3/30\n",
      "7964/7964 [==============================] - 460s 58ms/step - loss: 0.4187 - accuracy: 0.8043 - val_loss: 0.4157 - val_accuracy: 0.8053\n",
      "Epoch 4/30\n",
      "7964/7964 [==============================] - 461s 58ms/step - loss: 0.4180 - accuracy: 0.8041 - val_loss: 0.4139 - val_accuracy: 0.8043\n",
      "Epoch 5/30\n",
      "7964/7964 [==============================] - 460s 58ms/step - loss: 0.4177 - accuracy: 0.8042 - val_loss: 0.4138 - val_accuracy: 0.8053\n",
      "Epoch 6/30\n",
      "7964/7964 [==============================] - 461s 58ms/step - loss: 0.4176 - accuracy: 0.8041 - val_loss: 0.4146 - val_accuracy: 0.8050\n",
      "Epoch 7/30\n",
      "7964/7964 [==============================] - 460s 58ms/step - loss: 0.4175 - accuracy: 0.8041 - val_loss: 0.4154 - val_accuracy: 0.8053\n",
      "Epoch 8/30\n",
      "7964/7964 [==============================] - 460s 58ms/step - loss: 0.4175 - accuracy: 0.8042 - val_loss: 0.4123 - val_accuracy: 0.8056\n",
      "Epoch 9/30\n",
      "7964/7964 [==============================] - 460s 58ms/step - loss: 0.4175 - accuracy: 0.8043 - val_loss: 0.4132 - val_accuracy: 0.8056\n",
      "Epoch 10/30\n",
      "7964/7964 [==============================] - 460s 58ms/step - loss: 0.4175 - accuracy: 0.8041 - val_loss: 0.4145 - val_accuracy: 0.8055\n",
      "Epoch 11/30\n",
      "7964/7964 [==============================] - 460s 58ms/step - loss: 0.4175 - accuracy: 0.8043 - val_loss: 0.4163 - val_accuracy: 0.8044\n",
      "Epoch 12/30\n",
      "7964/7964 [==============================] - 460s 58ms/step - loss: 0.4175 - accuracy: 0.8040 - val_loss: 0.4138 - val_accuracy: 0.8052\n",
      "Epoch 13/30\n",
      "7964/7964 [==============================] - 460s 58ms/step - loss: 0.4175 - accuracy: 0.8042 - val_loss: 0.4209 - val_accuracy: 0.8053\n",
      "Epoch 14/30\n",
      "7964/7964 [==============================] - 460s 58ms/step - loss: 0.4175 - accuracy: 0.8041 - val_loss: 0.4149 - val_accuracy: 0.8039\n",
      "Epoch 15/30\n",
      "7964/7964 [==============================] - 460s 58ms/step - loss: 0.4175 - accuracy: 0.8039 - val_loss: 0.4132 - val_accuracy: 0.8055\n",
      "Epoch 16/30\n",
      "7964/7964 [==============================] - 460s 58ms/step - loss: 0.4174 - accuracy: 0.8040 - val_loss: 0.4131 - val_accuracy: 0.8049\n",
      "Epoch 17/30\n",
      "7964/7964 [==============================] - 460s 58ms/step - loss: 0.4174 - accuracy: 0.8040 - val_loss: 0.4134 - val_accuracy: 0.8047\n",
      "Epoch 18/30\n",
      "7964/7964 [==============================] - 460s 58ms/step - loss: 0.4173 - accuracy: 0.8040 - val_loss: 0.4129 - val_accuracy: 0.8054\n",
      "Epoch 19/30\n",
      "7964/7964 [==============================] - 460s 58ms/step - loss: 0.4174 - accuracy: 0.8039 - val_loss: 0.4143 - val_accuracy: 0.8042\n"
     ]
    }
   ],
   "source": [
    "# model fit\n",
    "hist2 = model2.fit(X_ss, y, batch_size=1024, epochs = 30,\n",
    "                    validation_data=(X_test_ss, y_test), callbacks=[earlystopping])"
   ]
  },
  {
   "cell_type": "code",
   "execution_count": 44,
   "metadata": {},
   "outputs": [
    {
     "name": "stdout",
     "output_type": "stream",
     "text": [
      "INFO:tensorflow:Assets written to: model2/assets\n"
     ]
    }
   ],
   "source": [
    "model2.save('model2')"
   ]
  },
  {
   "cell_type": "code",
   "execution_count": 45,
   "metadata": {},
   "outputs": [
    {
     "name": "stdout",
     "output_type": "stream",
     "text": [
      "63709/63709 [==============================] - 206s 3ms/step\n"
     ]
    },
    {
     "data": {
      "text/plain": [
       "0.8286961088812954"
      ]
     },
     "execution_count": 45,
     "metadata": {},
     "output_type": "execute_result"
    }
   ],
   "source": [
    "#  get y_predict\n",
    "y_pred2 = model2.predict(X_test_ss)\n",
    "y_pred_test2 = [1 if i>=0.5 else 0 for i in y_pred2]\n",
    "# find f1 score\n",
    "f1_model2 = f1_score(y_test, y_pred_test2)\n",
    "f1_model2"
   ]
  },
  {
   "cell_type": "code",
   "execution_count": 46,
   "metadata": {},
   "outputs": [
    {
     "name": "stderr",
     "output_type": "stream",
     "text": [
      "/tmp/ipykernel_349/468895355.py:9: FutureWarning: The frame.append method is deprecated and will be removed from pandas in a future version. Use pandas.concat instead.\n",
      "  confusion_df = confusion_df.append(pd.Series(confusion_df.sum(axis=0)), ignore_index=True)\n"
     ]
    },
    {
     "data": {
      "text/html": [
       "<div>\n",
       "<style scoped>\n",
       "    .dataframe tbody tr th:only-of-type {\n",
       "        vertical-align: middle;\n",
       "    }\n",
       "\n",
       "    .dataframe tbody tr th {\n",
       "        vertical-align: top;\n",
       "    }\n",
       "\n",
       "    .dataframe thead th {\n",
       "        text-align: right;\n",
       "    }\n",
       "</style>\n",
       "<table border=\"1\" class=\"dataframe\">\n",
       "  <thead>\n",
       "    <tr style=\"text-align: right;\">\n",
       "      <th></th>\n",
       "      <th>Predicted 0</th>\n",
       "      <th>Predicted 1</th>\n",
       "      <th>Sum of Actuals</th>\n",
       "    </tr>\n",
       "  </thead>\n",
       "  <tbody>\n",
       "    <tr>\n",
       "      <th>Actual 0</th>\n",
       "      <td>683848</td>\n",
       "      <td>225196</td>\n",
       "      <td>909044</td>\n",
       "    </tr>\n",
       "    <tr>\n",
       "      <th>Actual 1</th>\n",
       "      <td>171089</td>\n",
       "      <td>958530</td>\n",
       "      <td>1129619</td>\n",
       "    </tr>\n",
       "    <tr>\n",
       "      <th>Sum of Predictions</th>\n",
       "      <td>854937</td>\n",
       "      <td>1183726</td>\n",
       "      <td>2038663</td>\n",
       "    </tr>\n",
       "  </tbody>\n",
       "</table>\n",
       "</div>"
      ],
      "text/plain": [
       "                    Predicted 0  Predicted 1  Sum of Actuals\n",
       "Actual 0                 683848       225196          909044\n",
       "Actual 1                 171089       958530         1129619\n",
       "Sum of Predictions       854937      1183726         2038663"
      ]
     },
     "execution_count": 46,
     "metadata": {},
     "output_type": "execute_result"
    }
   ],
   "source": [
    "# get confusion df\n",
    "confusion(y_test, y_pred_test2)"
   ]
  },
  {
   "cell_type": "code",
   "execution_count": 47,
   "metadata": {},
   "outputs": [
    {
     "name": "stdout",
     "output_type": "stream",
     "text": [
      "              precision    recall  f1-score   support\n",
      "\n",
      "         0.0       0.80      0.75      0.78    909044\n",
      "         1.0       0.81      0.85      0.83   1129619\n",
      "\n",
      "    accuracy                           0.81   2038663\n",
      "   macro avg       0.80      0.80      0.80   2038663\n",
      "weighted avg       0.81      0.81      0.80   2038663\n",
      "\n"
     ]
    }
   ],
   "source": [
    "# print classification report\n",
    "print(classification_report(y_test, y_pred_test2))"
   ]
  },
  {
   "cell_type": "markdown",
   "metadata": {},
   "source": [
    "All the f1 score from 4 models are around the same, xgboost got slightly better f1 value. \n",
    "- f1 random forest = 0.822\n",
    "- f1 xgboost = 0.829\n",
    "- f1 nn1 = 0.826\n",
    "- f1 nn2 = 0.827"
   ]
  },
  {
   "cell_type": "markdown",
   "metadata": {},
   "source": []
  }
 ],
 "metadata": {
  "kernelspec": {
   "display_name": "Python 3 (ipykernel)",
   "language": "python",
   "name": "python3"
  },
  "language_info": {
   "name": "python",
   "version": "3.10.6"
  },
  "orig_nbformat": 4,
  "vscode": {
   "interpreter": {
    "hash": "aee8b7b246df8f9039afb4144a1f6fd8d2ca17a180786b69acc140d282b71a49"
   }
  }
 },
 "nbformat": 4,
 "nbformat_minor": 2
}
